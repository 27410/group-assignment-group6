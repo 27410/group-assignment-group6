{
 "cells": [
  {
   "cell_type": "markdown",
   "metadata": {},
   "source": [
    "# Incoporation of heterologous genes in the iYO844 model for artemisinin production"
   ]
  },
  {
   "cell_type": "markdown",
   "metadata": {},
   "source": [
    "_B. subtilis_ should be capable of producing farnesyl pyrophosphate (FPP), which is the end product of the MEP pathway. For production of artemisinin, 4 additional reactions are required."
   ]
  },
  {
   "cell_type": "code",
   "execution_count": 6,
   "metadata": {},
   "outputs": [],
   "source": [
    "# Loading of required packages\n",
    "from cobra.io import read_sbml_model, write_sbml_model # To read the model and save new newly generated model\n",
    "from cobra import Reaction, Metabolite # To creat new reactions and metabolites\n",
    "from cameo.strain_design import pathway_prediction # To predict if there exist a pathway for a given metabolite"
   ]
  },
  {
   "cell_type": "code",
   "execution_count": 5,
   "metadata": {},
   "outputs": [
    {
     "data": {
      "text/html": [
       "\n",
       "        <table>\n",
       "            <tr>\n",
       "                <td><strong>Name</strong></td>\n",
       "                <td>iYO844</td>\n",
       "            </tr><tr>\n",
       "                <td><strong>Memory address</strong></td>\n",
       "                <td>0x07fc525ab3550</td>\n",
       "            </tr><tr>\n",
       "                <td><strong>Number of metabolites</strong></td>\n",
       "                <td>990</td>\n",
       "            </tr><tr>\n",
       "                <td><strong>Number of reactions</strong></td>\n",
       "                <td>1250</td>\n",
       "            </tr><tr>\n",
       "                <td><strong>Number of groups</strong></td>\n",
       "                <td>0</td>\n",
       "            </tr><tr>\n",
       "                <td><strong>Objective expression</strong></td>\n",
       "                <td>1.0*BIOMASS_BS_10 - 1.0*BIOMASS_BS_10_reverse_8788b</td>\n",
       "            </tr><tr>\n",
       "                <td><strong>Compartments</strong></td>\n",
       "                <td>cytosol, extracellular space</td>\n",
       "            </tr>\n",
       "          </table>"
      ],
      "text/plain": [
       "<Model iYO844 at 0x7fc525ab3550>"
      ]
     },
     "execution_count": 5,
     "metadata": {},
     "output_type": "execute_result"
    }
   ],
   "source": [
    "from cameo import models # HERE THE CAMEO CAN BE USED TO ACCESS THE MODELS FROM BIGG AND UNIVERSITY OF MINHO\n",
    "models.bigg.iYO844 \n",
    "# models.minho.iMM904 # MINHO NOT WORKING AS THEIR WEBPAGE IS DOWN"
   ]
  },
  {
   "cell_type": "code",
   "execution_count": 7,
   "metadata": {},
   "outputs": [
    {
     "data": {
      "text/html": [
       "\n",
       "        <table>\n",
       "            <tr>\n",
       "                <td><strong>Name</strong></td>\n",
       "                <td>iYO844</td>\n",
       "            </tr><tr>\n",
       "                <td><strong>Memory address</strong></td>\n",
       "                <td>0x07fc53f0473d0</td>\n",
       "            </tr><tr>\n",
       "                <td><strong>Number of metabolites</strong></td>\n",
       "                <td>990</td>\n",
       "            </tr><tr>\n",
       "                <td><strong>Number of reactions</strong></td>\n",
       "                <td>1250</td>\n",
       "            </tr><tr>\n",
       "                <td><strong>Number of groups</strong></td>\n",
       "                <td>0</td>\n",
       "            </tr><tr>\n",
       "                <td><strong>Objective expression</strong></td>\n",
       "                <td>1.0*BIOMASS_BS_10 - 1.0*BIOMASS_BS_10_reverse_8788b</td>\n",
       "            </tr><tr>\n",
       "                <td><strong>Compartments</strong></td>\n",
       "                <td>cytosol, extracellular space</td>\n",
       "            </tr>\n",
       "          </table>"
      ],
      "text/plain": [
       "<Model iYO844 at 0x7fc53f0473d0>"
      ]
     },
     "execution_count": 7,
     "metadata": {},
     "output_type": "execute_result"
    }
   ],
   "source": [
    "# Loading of the model\n",
    "iYO844 = read_sbml_model(\"data/iYO844.xml\")\n",
    "iYO844_add = iYO844.copy() # Generating a copy of iY0844 to add the reactions to the model\n",
    "iYO844"
   ]
  },
  {
   "cell_type": "markdown",
   "metadata": {},
   "source": [
    "First we make sure, that the MEP pathway is present in the current model iY40844 by searching the last two products of the pathway Geranyl diphosphate (GPP) and FPP."
   ]
  },
  {
   "cell_type": "code",
   "execution_count": 8,
   "metadata": {},
   "outputs": [
    {
     "data": {
      "text/html": [
       "\n",
       "        <table>\n",
       "            <tr>\n",
       "                <td><strong>Metabolite identifier</strong></td><td>grdp_c</td>\n",
       "            </tr><tr>\n",
       "                <td><strong>Name</strong></td><td>Geranyl diphosphate</td>\n",
       "            </tr><tr>\n",
       "                <td><strong>Memory address</strong></td>\n",
       "                <td>0x07fc53099c550</td>\n",
       "            </tr><tr>\n",
       "                <td><strong>Formula</strong></td><td>C10H17O7P2</td>\n",
       "            </tr><tr>\n",
       "                <td><strong>Compartment</strong></td><td>c</td>\n",
       "            </tr><tr>\n",
       "                <td><strong>In 2 reaction(s)</strong></td><td>\n",
       "                    DMATT, GRTT</td>\n",
       "            </tr>\n",
       "        </table>"
      ],
      "text/plain": [
       "<Metabolite grdp_c at 0x7fc53099c550>"
      ]
     },
     "execution_count": 8,
     "metadata": {},
     "output_type": "execute_result"
    }
   ],
   "source": [
    "iYO844.metabolites.get_by_id('grdp_c')"
   ]
  },
  {
   "cell_type": "code",
   "execution_count": 9,
   "metadata": {},
   "outputs": [
    {
     "data": {
      "text/html": [
       "\n",
       "        <table>\n",
       "            <tr>\n",
       "                <td><strong>Metabolite identifier</strong></td><td>frdp_c</td>\n",
       "            </tr><tr>\n",
       "                <td><strong>Name</strong></td><td>Farnesyl diphosphate</td>\n",
       "            </tr><tr>\n",
       "                <td><strong>Memory address</strong></td>\n",
       "                <td>0x07fc530a6c910</td>\n",
       "            </tr><tr>\n",
       "                <td><strong>Formula</strong></td><td>C15H25O7P2</td>\n",
       "            </tr><tr>\n",
       "                <td><strong>Compartment</strong></td><td>c</td>\n",
       "            </tr><tr>\n",
       "                <td><strong>In 3 reaction(s)</strong></td><td>\n",
       "                    FRTT, GRTT, HEMEOS_1</td>\n",
       "            </tr>\n",
       "        </table>"
      ],
      "text/plain": [
       "<Metabolite frdp_c at 0x7fc530a6c910>"
      ]
     },
     "execution_count": 9,
     "metadata": {},
     "output_type": "execute_result"
    }
   ],
   "source": [
    "iYO844.metabolites.get_by_id('frdp_c')"
   ]
  },
  {
   "cell_type": "markdown",
   "metadata": {},
   "source": [
    "GRTT stands for geranyltranstransferase and both IspA: a geranyl pyrophosphate synthase + farnesyl pyrophosphate synthase and farnesyl pyrophosphate synthase (FPPS) is of this type of enzyme. "
   ]
  },
  {
   "cell_type": "code",
   "execution_count": 10,
   "metadata": {},
   "outputs": [],
   "source": [
    "# NOT WORKING ATM: From https://cameo.bio/07-predict-heterologous-pathways.html\n",
    "# Trying to predict if there already exists a patwhay for the end product, which there should\n",
    "#predictor = pathway_prediction.PathwayPredictor(iYO844)\n",
    "#pathways = predictor.run(product='frdp_c', max_predictions=4)"
   ]
  },
  {
   "cell_type": "markdown",
   "metadata": {},
   "source": [
    "### First reaction\n",
    "In the article \"High level production of amorphadiene using Bacillus subtilis as an optimized terpenoid cell factory\", a FPPS from  _Saccharomyces cerevisiae_ was inserted to convert geranyl pyrophosphate (GPP) to farnesyl pyrophosphate (FPP) as the last step in the MEP pathway instead of using the native IspA as FPPS. \\\n",
    "\n",
    "GPP --> FPP\n",
    "Catalysed by FPPS"
   ]
  },
  {
   "cell_type": "code",
   "execution_count": 41,
   "metadata": {},
   "outputs": [
    {
     "name": "stdout",
     "output_type": "stream",
     "text": [
      "grdp_c --> frdp_c\n"
     ]
    }
   ],
   "source": [
    "reaction_1 = Reaction('FPPS') # farnesyl pyrophosphate synthase\n",
    "\n",
    "# Constructing the reaction\n",
    "reaction_1.add_metabolites({iYO844.metabolites.get_by_id('grdp_c'): -1,\n",
    "                            iYO844.metabolites.get_by_id('frdp_c'): 1\n",
    "                            })\n",
    "\n",
    "print(reaction_1.build_reaction_string()) # Printing how the reaction looks\n",
    "iYO844_add.add_reactions([reaction_1]) # Adding the reaction to the new iY0844 model"
   ]
  },
  {
   "cell_type": "code",
   "execution_count": 49,
   "metadata": {},
   "outputs": [
    {
     "data": {
      "text/html": [
       "\n",
       "        <table>\n",
       "            <tr>\n",
       "                <td><strong>Reaction identifier</strong></td><td>FPPS</td>\n",
       "            </tr><tr>\n",
       "                <td><strong>Name</strong></td><td></td>\n",
       "            </tr><tr>\n",
       "                <td><strong>Memory address</strong></td>\n",
       "                <td>0x07fde0c868850</td>\n",
       "            </tr><tr>\n",
       "                <td><strong>Stoichiometry</strong></td>\n",
       "                <td>\n",
       "                    <p style='text-align:right'>grdp_c --> frdp_c</p>\n",
       "                    <p style='text-align:right'>Geranyl diphosphate --> Farnesyl diphosphate</p>\n",
       "                </td>\n",
       "            </tr><tr>\n",
       "                <td><strong>GPR</strong></td><td></td>\n",
       "            </tr><tr>\n",
       "                <td><strong>Lower bound</strong></td><td>0.0</td>\n",
       "            </tr><tr>\n",
       "                <td><strong>Upper bound</strong></td><td>1000.0</td>\n",
       "            </tr>\n",
       "        </table>\n",
       "        "
      ],
      "text/plain": [
       "<Reaction FPPS at 0x7fde0c868850>"
      ]
     },
     "execution_count": 49,
     "metadata": {},
     "output_type": "execute_result"
    }
   ],
   "source": [
    "iYO844_add.reactions.FPPS # Bounderies needs to be change?"
   ]
  },
  {
   "cell_type": "markdown",
   "metadata": {},
   "source": [
    "### Second reaction\n",
    "Artemisinin precusor: amorphadiene \\\n",
    "FPP --> amorphadiene / amorpha-4,11-diene \\\n",
    "Catalysed by amorphadiene synthase (ADS)"
   ]
  },
  {
   "cell_type": "code",
   "execution_count": 43,
   "metadata": {},
   "outputs": [
    {
     "name": "stdout",
     "output_type": "stream",
     "text": [
      "frdp_c --> amorph_c\n"
     ]
    }
   ],
   "source": [
    "reaction_2 = Reaction('ADS') # amorphadiene synthase\n",
    "amorphadiene = Metabolite(id='amorph_c', compartment='c') # Defining the new metabolite, as it does not exists\n",
    "\n",
    "reaction_2.add_metabolites({iYO844.metabolites.get_by_id('frdp_c'): -1,\n",
    "                            amorphadiene: 1\n",
    "                            })\n",
    "print(reaction_2.build_reaction_string())\n",
    "iYO844_add.add_reactions([reaction_2])"
   ]
  },
  {
   "cell_type": "code",
   "execution_count": 47,
   "metadata": {},
   "outputs": [
    {
     "data": {
      "text/html": [
       "\n",
       "        <table>\n",
       "            <tr>\n",
       "                <td><strong>Reaction identifier</strong></td><td>ADS</td>\n",
       "            </tr><tr>\n",
       "                <td><strong>Name</strong></td><td></td>\n",
       "            </tr><tr>\n",
       "                <td><strong>Memory address</strong></td>\n",
       "                <td>0x07fde0c868dd0</td>\n",
       "            </tr><tr>\n",
       "                <td><strong>Stoichiometry</strong></td>\n",
       "                <td>\n",
       "                    <p style='text-align:right'>frdp_c --> amorph_c</p>\n",
       "                    <p style='text-align:right'>Farnesyl diphosphate --></p>\n",
       "                </td>\n",
       "            </tr><tr>\n",
       "                <td><strong>GPR</strong></td><td></td>\n",
       "            </tr><tr>\n",
       "                <td><strong>Lower bound</strong></td><td>0.0</td>\n",
       "            </tr><tr>\n",
       "                <td><strong>Upper bound</strong></td><td>1000.0</td>\n",
       "            </tr>\n",
       "        </table>\n",
       "        "
      ],
      "text/plain": [
       "<Reaction ADS at 0x7fde0c868dd0>"
      ]
     },
     "execution_count": 47,
     "metadata": {},
     "output_type": "execute_result"
    }
   ],
   "source": [
    "iYO844_add.reactions.ADS # Bounderies needs to be change?"
   ]
  },
  {
   "cell_type": "markdown",
   "metadata": {},
   "source": [
    "Testing to see if it can be produced"
   ]
  },
  {
   "cell_type": "code",
   "execution_count": 44,
   "metadata": {},
   "outputs": [
    {
     "name": "stdout",
     "output_type": "stream",
     "text": [
      "0.5191836734693878\n"
     ]
    }
   ],
   "source": [
    "# Comments needs to be added to this\n",
    "testing_product = iYO844_add.add_boundary(iYO844_add.metabolites.get_by_id('amorph_c'), type='demand')\n",
    "\n",
    "with iYO844_add:\n",
    "    iYO844_add.objective = testing_product\n",
    "    sol = iYO844_add.optimize()\n",
    "    print(sol.objective_value)"
   ]
  },
  {
   "cell_type": "markdown",
   "metadata": {},
   "source": [
    "### Third reaction\n",
    "From \"Production of the antimalarial drug precursor artemisinic acid in engineered yeast\":\n",
    "\n",
    "Oxidizing amorphadiene / amorpha-4,11-diene to artemisinic acid\n",
    "Catalysed by CYP71AV1 a P450 enzyme (sesquiterpene lactone biosynthetic enzyme) from the plans _Artemisia annua_. "
   ]
  },
  {
   "cell_type": "code",
   "execution_count": null,
   "metadata": {},
   "outputs": [],
   "source": []
  },
  {
   "cell_type": "markdown",
   "metadata": {},
   "source": [
    "The current model is saved as \"iYO844_added.xml\""
   ]
  },
  {
   "cell_type": "code",
   "execution_count": 50,
   "metadata": {},
   "outputs": [],
   "source": [
    "write_sbml_model(iYO844_add, 'data/iYO844_added.xml')"
   ]
  }
 ],
 "metadata": {
  "kernelspec": {
   "display_name": "cobra_escher",
   "language": "python",
   "name": "python3"
  },
  "language_info": {
   "codemirror_mode": {
    "name": "ipython",
    "version": 3
   },
   "file_extension": ".py",
   "mimetype": "text/x-python",
   "name": "python",
   "nbconvert_exporter": "python",
   "pygments_lexer": "ipython3",
   "version": "3.7.16"
  }
 },
 "nbformat": 4,
 "nbformat_minor": 2
}
