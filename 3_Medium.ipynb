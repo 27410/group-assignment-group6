{
 "cells": [
  {
   "cell_type": "code",
   "execution_count": 1,
   "metadata": {},
   "outputs": [
    {
     "data": {
      "text/html": [
       "<span>Pathway 1</span>"
      ],
      "text/plain": [
       "<IPython.core.display.HTML object>"
      ]
     },
     "metadata": {},
     "output_type": "display_data"
    },
    {
     "data": {
      "text/html": [
       "<div>\n",
       "<style scoped>\n",
       "    .dataframe tbody tr th:only-of-type {\n",
       "        vertical-align: middle;\n",
       "    }\n",
       "\n",
       "    .dataframe tbody tr th {\n",
       "        vertical-align: top;\n",
       "    }\n",
       "\n",
       "    .dataframe thead th {\n",
       "        text-align: right;\n",
       "    }\n",
       "</style>\n",
       "<table border=\"1\" class=\"dataframe\">\n",
       "  <thead>\n",
       "    <tr style=\"text-align: right;\">\n",
       "      <th></th>\n",
       "      <th>equation</th>\n",
       "      <th>lower_bound</th>\n",
       "      <th>upper_bound</th>\n",
       "    </tr>\n",
       "  </thead>\n",
       "  <tbody>\n",
       "    <tr>\n",
       "      <th>MNXR69185</th>\n",
       "      <td>geranyl diphosphate + isopentenyl diphosphate ...</td>\n",
       "      <td>-1000.0</td>\n",
       "      <td>1000.0</td>\n",
       "    </tr>\n",
       "  </tbody>\n",
       "</table>\n",
       "</div>"
      ],
      "text/plain": [
       "                                                    equation  lower_bound  \\\n",
       "MNXR69185  geranyl diphosphate + isopentenyl diphosphate ...      -1000.0   \n",
       "\n",
       "           upper_bound  \n",
       "MNXR69185       1000.0  "
      ]
     },
     "metadata": {},
     "output_type": "display_data"
    },
    {
     "data": {
      "text/html": [
       "<span>Pathway 2</span>"
      ],
      "text/plain": [
       "<IPython.core.display.HTML object>"
      ]
     },
     "metadata": {},
     "output_type": "display_data"
    },
    {
     "data": {
      "text/html": [
       "<div>\n",
       "<style scoped>\n",
       "    .dataframe tbody tr th:only-of-type {\n",
       "        vertical-align: middle;\n",
       "    }\n",
       "\n",
       "    .dataframe tbody tr th {\n",
       "        vertical-align: top;\n",
       "    }\n",
       "\n",
       "    .dataframe thead th {\n",
       "        text-align: right;\n",
       "    }\n",
       "</style>\n",
       "<table border=\"1\" class=\"dataframe\">\n",
       "  <thead>\n",
       "    <tr style=\"text-align: right;\">\n",
       "      <th></th>\n",
       "      <th>equation</th>\n",
       "      <th>lower_bound</th>\n",
       "      <th>upper_bound</th>\n",
       "    </tr>\n",
       "  </thead>\n",
       "  <tbody>\n",
       "    <tr>\n",
       "      <th>MNXR55238</th>\n",
       "      <td>geranyl diphosphate + diphosphate &lt;=&gt; dimethyl...</td>\n",
       "      <td>-1000.0</td>\n",
       "      <td>1000.0</td>\n",
       "    </tr>\n",
       "  </tbody>\n",
       "</table>\n",
       "</div>"
      ],
      "text/plain": [
       "                                                    equation  lower_bound  \\\n",
       "MNXR55238  geranyl diphosphate + diphosphate <=> dimethyl...      -1000.0   \n",
       "\n",
       "           upper_bound  \n",
       "MNXR55238       1000.0  "
      ]
     },
     "metadata": {},
     "output_type": "display_data"
    },
    {
     "name": "stdout",
     "output_type": "stream",
     "text": [
      "grdp_c + ipdp_c --> frdp_c + ppi_c\n",
      "frdp_c --> amorph_c + ppi_c\n",
      "amorph_c + nadp_c + o2_c --> artalc_c + h2o_c + nadph_c\n",
      "artalc_c + nadp_c + o2_c --> artald_c + 2 h2o_c + nadph_c\n",
      "artald_c + h_c + nadph_c --> dihydroartald_c + nadp_c\n",
      "artalc_c + nadp_c + o2_c --> dihydroartaci_c + h2o_c + nadph_c\n",
      "artalc_c + nadp_c + o2_c --> artaci_c + h2o_c + nadph_c\n",
      "0.36342857142857143\n"
     ]
    }
   ],
   "source": [
    "%run 1_incorporation_of_heterologous_genes.ipynb"
   ]
  },
  {
   "cell_type": "code",
   "execution_count": 4,
   "metadata": {},
   "outputs": [],
   "source": [
    "model = read_sbml_model('data/iYO844_modified.xml') "
   ]
  },
  {
   "cell_type": "code",
   "execution_count": 5,
   "metadata": {},
   "outputs": [
    {
     "data": {
      "text/plain": [
       "{'EX_fe3_e': 999999.0,\n",
       " 'EX_glc__D_e': 1.7,\n",
       " 'EX_ca2_e': 999999.0,\n",
       " 'EX_so4_e': 5.0,\n",
       " 'EX_co2_e': 999999.0,\n",
       " 'EX_h2o_e': 999999.0,\n",
       " 'EX_h_e': 999999.0,\n",
       " 'EX_k_e': 999999.0,\n",
       " 'EX_mg2_e': 999999.0,\n",
       " 'EX_na1_e': 999999.0,\n",
       " 'EX_nh4_e': 5.0,\n",
       " 'EX_o2_e': 999999.0,\n",
       " 'EX_pi_e': 5.0}"
      ]
     },
     "execution_count": 5,
     "metadata": {},
     "output_type": "execute_result"
    }
   ],
   "source": [
    "model.medium"
   ]
  },
  {
   "cell_type": "code",
   "execution_count": 10,
   "metadata": {},
   "outputs": [
    {
     "name": "stdout",
     "output_type": "stream",
     "text": [
      "Maximum theoretical biomass productivity: 0.11796638932239711 /h\n",
      "Maximum theoretical productivity of dihydroartemisinic acid: 0.36342857142856866 mmol/gDW*h\n"
     ]
    }
   ],
   "source": [
    "with model:\n",
    "    solution = model.optimize()\n",
    "    print('Maximum theoretical biomass productivity:', solution.fluxes['BIOMASS_BS_10'], '/h')\n",
    "    #print('Maximum theoretical biomass productivity:', solution.fluxes['DRAIN_Biomass'], '/h') original! I think what we have now works as intended\n",
    "    \n",
    "    model.objective = model.reactions.ALDH1_CYP71AV1\n",
    "    dihydroartemisinic_acid_production = model.optimize().objective_value\n",
    "    print('Maximum theoretical productivity of dihydroartemisinic acid:', dihydroartemisinic_acid_production, 'mmol/gDW*h')"
   ]
  },
  {
   "cell_type": "markdown",
   "metadata": {},
   "source": [
    "Changing glucose to a different carbon source\n",
    "Productivities using the alternative carbon source:"
   ]
  },
  {
   "cell_type": "code",
   "execution_count": null,
   "metadata": {},
   "outputs": [],
   "source": [
    "medium = model.medium\n",
    "with model:\n",
    "    medium['EX_glc__D_e'] = 0\n",
    "    medium['BOUNDARY_SUCCe'] = 10 #CHANGE THIS TO ANOTHER POTENTIAL CARBON COURSE \n",
    "    model.medium = medium\n",
    "    \n",
    "    solution2 = model.optimize() #remember to change these numbers \n",
    "    print('Maximum theoretical biomass productivity:', solution2.fluxes['BIOMASS_BS_10'], '/h')\n",
    "    \n",
    "    model.objective = model.reactions.ALDH1_CYP71AV1\n",
    "    dihydroartemisinic_acid_production2 = model.optimize().objective_value #remember to change these numbers\n",
    "    print('Maximum theoretical productivity of dihydroartemisinic acid:', dihydroartemisinic_acid_production, 'mmol/gDW*h')"
   ]
  },
  {
   "cell_type": "markdown",
   "metadata": {},
   "source": [
    "Just try a bunch of different carbon sources, and maybe also a very defined media (that is what they say is best for b. subtilis: https://www.sciencedirect.com/topics/medicine-and-dentistry/bacillus-subtilis: \"B. subtilis is able to grow both in nutrient media and in chemically defined salt media in which glucose, malate and other simple sugars provide sources of carbon and ammonium salts or certain amino acids as sources of nitrogen (Harwood & Archibald, 1990).\") \n",
    "For code origin and ideas for carbon sources: https://github.com/27410/27410-2020-group-project-group13_psilocybin_a-niger/blob/main/Analysis/Medium_significance.ipynb"
   ]
  },
  {
   "cell_type": "markdown",
   "metadata": {},
   "source": []
  },
  {
   "cell_type": "markdown",
   "metadata": {},
   "source": []
  }
 ],
 "metadata": {
  "kernelspec": {
   "display_name": "Nanna_environment",
   "language": "python",
   "name": "python3"
  },
  "language_info": {
   "codemirror_mode": {
    "name": "ipython",
    "version": 3
   },
   "file_extension": ".py",
   "mimetype": "text/x-python",
   "name": "python",
   "nbconvert_exporter": "python",
   "pygments_lexer": "ipython3",
   "version": "3.7.16"
  }
 },
 "nbformat": 4,
 "nbformat_minor": 2
}
