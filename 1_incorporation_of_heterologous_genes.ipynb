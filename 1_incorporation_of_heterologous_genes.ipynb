{
 "cells": [
  {
   "cell_type": "markdown",
   "metadata": {},
   "source": [
    "# Incorporation of heterologous genes in the iYO844 model for artemisinin production"
   ]
  },
  {
   "cell_type": "code",
   "execution_count": 1,
   "metadata": {},
   "outputs": [],
   "source": [
    "# Loading the required packages\n",
    "from cobra.io import read_sbml_model, write_sbml_model # To read the model and save new newly generated model\n",
    "from cobra import Reaction, Metabolite # To create new reactions and metabolites\n",
    "from cameo.strain_design import pathway_prediction # To predict if there exist a pathway for a given metabolite"
   ]
  },
  {
   "cell_type": "code",
   "execution_count": 2,
   "metadata": {},
   "outputs": [
    {
     "data": {
      "text/html": [
       "\n",
       "        <table>\n",
       "            <tr>\n",
       "                <td><strong>Name</strong></td>\n",
       "                <td>iYO844</td>\n",
       "            </tr><tr>\n",
       "                <td><strong>Memory address</strong></td>\n",
       "                <td>0x01e6da77cb08</td>\n",
       "            </tr><tr>\n",
       "                <td><strong>Number of metabolites</strong></td>\n",
       "                <td>990</td>\n",
       "            </tr><tr>\n",
       "                <td><strong>Number of reactions</strong></td>\n",
       "                <td>1250</td>\n",
       "            </tr><tr>\n",
       "                <td><strong>Number of groups</strong></td>\n",
       "                <td>0</td>\n",
       "            </tr><tr>\n",
       "                <td><strong>Objective expression</strong></td>\n",
       "                <td>1.0*BIOMASS_BS_10 - 1.0*BIOMASS_BS_10_reverse_8788b</td>\n",
       "            </tr><tr>\n",
       "                <td><strong>Compartments</strong></td>\n",
       "                <td>cytosol, extracellular space</td>\n",
       "            </tr>\n",
       "          </table>"
      ],
      "text/plain": [
       "<Model iYO844 at 0x1e6da77cb08>"
      ]
     },
     "execution_count": 2,
     "metadata": {},
     "output_type": "execute_result"
    }
   ],
   "source": [
    "# Loading the the model\n",
    "iYO844 = read_sbml_model(\"data/iYO844.xml\")\n",
    "# Generating a copy of iY0844 in a variable to add the reactions to the new model\n",
    "iYO844_modified = iYO844.copy() \n",
    "iYO844"
   ]
  },
  {
   "cell_type": "markdown",
   "metadata": {},
   "source": [
    "First we make sure, that the MEP pathway is present in the current model iY40844 by searching for a pathway for creation of geranyl diphosphate, the second last step of the pathway."
   ]
  },
  {
   "cell_type": "code",
   "execution_count": 3,
   "metadata": {},
   "outputs": [
    {
     "data": {
      "text/html": [
       "<span>Pathway 1</span>"
      ],
      "text/plain": [
       "<IPython.core.display.HTML object>"
      ]
     },
     "metadata": {},
     "output_type": "display_data"
    },
    {
     "data": {
      "text/html": [
       "<div>\n",
       "<style scoped>\n",
       "    .dataframe tbody tr th:only-of-type {\n",
       "        vertical-align: middle;\n",
       "    }\n",
       "\n",
       "    .dataframe tbody tr th {\n",
       "        vertical-align: top;\n",
       "    }\n",
       "\n",
       "    .dataframe thead th {\n",
       "        text-align: right;\n",
       "    }\n",
       "</style>\n",
       "<table border=\"1\" class=\"dataframe\">\n",
       "  <thead>\n",
       "    <tr style=\"text-align: right;\">\n",
       "      <th></th>\n",
       "      <th>equation</th>\n",
       "      <th>lower_bound</th>\n",
       "      <th>upper_bound</th>\n",
       "    </tr>\n",
       "  </thead>\n",
       "  <tbody>\n",
       "    <tr>\n",
       "      <th>MNXR69185</th>\n",
       "      <td>geranyl diphosphate + isopentenyl diphosphate ...</td>\n",
       "      <td>-1000.0</td>\n",
       "      <td>1000.0</td>\n",
       "    </tr>\n",
       "  </tbody>\n",
       "</table>\n",
       "</div>"
      ],
      "text/plain": [
       "                                                    equation  lower_bound  \\\n",
       "MNXR69185  geranyl diphosphate + isopentenyl diphosphate ...      -1000.0   \n",
       "\n",
       "           upper_bound  \n",
       "MNXR69185       1000.0  "
      ]
     },
     "metadata": {},
     "output_type": "display_data"
    },
    {
     "data": {
      "text/html": [
       "<span>Pathway 2</span>"
      ],
      "text/plain": [
       "<IPython.core.display.HTML object>"
      ]
     },
     "metadata": {},
     "output_type": "display_data"
    },
    {
     "data": {
      "text/html": [
       "<div>\n",
       "<style scoped>\n",
       "    .dataframe tbody tr th:only-of-type {\n",
       "        vertical-align: middle;\n",
       "    }\n",
       "\n",
       "    .dataframe tbody tr th {\n",
       "        vertical-align: top;\n",
       "    }\n",
       "\n",
       "    .dataframe thead th {\n",
       "        text-align: right;\n",
       "    }\n",
       "</style>\n",
       "<table border=\"1\" class=\"dataframe\">\n",
       "  <thead>\n",
       "    <tr style=\"text-align: right;\">\n",
       "      <th></th>\n",
       "      <th>equation</th>\n",
       "      <th>lower_bound</th>\n",
       "      <th>upper_bound</th>\n",
       "    </tr>\n",
       "  </thead>\n",
       "  <tbody>\n",
       "    <tr>\n",
       "      <th>MNXR55238</th>\n",
       "      <td>geranyl diphosphate + diphosphate &lt;=&gt; dimethyl...</td>\n",
       "      <td>-1000.0</td>\n",
       "      <td>1000.0</td>\n",
       "    </tr>\n",
       "  </tbody>\n",
       "</table>\n",
       "</div>"
      ],
      "text/plain": [
       "                                                    equation  lower_bound  \\\n",
       "MNXR55238  geranyl diphosphate + diphosphate <=> dimethyl...      -1000.0   \n",
       "\n",
       "           upper_bound  \n",
       "MNXR55238       1000.0  "
      ]
     },
     "metadata": {},
     "output_type": "display_data"
    }
   ],
   "source": [
    "# Might take a long time to run! 3-4 min\n",
    "# Predicting if there already exists a patwhay for the end product\n",
    "predictor = pathway_prediction.PathwayPredictor(iYO844) # Loading the model into the predictor tool\n",
    "# Specifying metabolite. From KEGG we know only two known pathways are found.\n",
    "pathways = predictor.run(product='geranyl diphosphate', max_predictions=2) \n"
   ]
  },
  {
   "cell_type": "markdown",
   "metadata": {},
   "source": [
    "Here it can be seen that the precursor geranyl diphosphate is produced in two reactions. From litterature, we know that  isopentenyl pyrophosphate and dimethylallyl pyrophosphate (in the model called ipdp_c and dmpp_c, respectively) are isomers of each other and the isomerisation reaction occurs in the step before formation of geranyl diphosphate, hence the two reactions above. Geranyl diphosphate is therefor only produced through one pathway."
   ]
  },
  {
   "cell_type": "markdown",
   "metadata": {},
   "source": [
    "### First reaction incorporation\n",
    "GPP --> FPP \\\n",
    "Geranyl diphosphate + Isopentenyl diphosphate <=> Diphosphate + trans,trans-Farnesyl diphosphate \\\n",
    "Catalysed by farnesyl pyrophosphate synthase (FPPS) \\\n",
    "KEGG reaction: https://www.genome.jp/entry/R02003"
   ]
  },
  {
   "cell_type": "code",
   "execution_count": 4,
   "metadata": {},
   "outputs": [
    {
     "name": "stdout",
     "output_type": "stream",
     "text": [
      "grdp_c + ipdp_c --> frdp_c + ppi_c\n"
     ]
    }
   ],
   "source": [
    "# Creating the reaction\n",
    "reaction_1 = Reaction('FPPS') # FPPS: farnesyl pyrophosphate synthase\n",
    "\n",
    "# Adding the metabolites based on the stoichiometric reaction\n",
    "reaction_1.add_metabolites({iYO844.metabolites.get_by_id('grdp_c'): -1,\n",
    "                            iYO844.metabolites.get_by_id('ipdp_c'): -1,\n",
    "                            iYO844.metabolites.get_by_id('ppi_c'): 1,\n",
    "                            iYO844.metabolites.get_by_id('frdp_c'): 1\n",
    "                            })\n",
    "\n",
    "print(reaction_1.build_reaction_string()) # Printing the reaction to check\n",
    "iYO844_modified.add_reactions([reaction_1]) # Adding the reaction to the new iY0844 model"
   ]
  },
  {
   "cell_type": "markdown",
   "metadata": {},
   "source": [
    "### Second reaction incorporation\n",
    "FPP --> amorphadiene / amorpha-4,11-diene + Diphosphate \\\n",
    "Catalysed by amorphadiene synthase (ADS) \\\n",
    "KEGG reaction: https://www.genome.jp/entry/R07630"
   ]
  },
  {
   "cell_type": "code",
   "execution_count": 5,
   "metadata": {},
   "outputs": [
    {
     "name": "stdout",
     "output_type": "stream",
     "text": [
      "frdp_c --> amorph_c + ppi_c\n"
     ]
    }
   ],
   "source": [
    "# Creating the reaction\n",
    "reaction_2 = Reaction('ADS') # ADS: amorphadiene synthase\n",
    "\n",
    "# Defining the new metabolite, as it does not exists in GSM\n",
    "amorphadiene = Metabolite(id='amorph_c', name='amorphadiene', compartment='c', formula='C15H24')\n",
    "\n",
    "# Adding the metabolites based on the stoichiometric reaction\n",
    "reaction_2.add_metabolites({iYO844.metabolites.get_by_id('frdp_c'): -1,\n",
    "                            amorphadiene: 1,\n",
    "                            iYO844.metabolites.get_by_id('ppi_c'): 1})\n",
    "print(reaction_2.build_reaction_string()) # Printing the reaction to check\n",
    "iYO844_modified.add_reactions([reaction_2]) # Adding the reaction to the new iY0844 model"
   ]
  },
  {
   "cell_type": "markdown",
   "metadata": {},
   "source": [
    "### Third reaction incorporation\n",
    "Amorpha-4,11-diene + Oxygen + [Reduced NADPH---hemoprotein reductase] <=> Artemisinic alcohol + [Oxidized NADPH---hemoprotein reductase] + H2O \\\n",
    "KEGG reaction: https://www.kegg.jp/entry/R10023\n",
    "\n",
    "[Reduced NADPH---hemoprotein reductase] means: NADP+ + n reduced hemoprotein \\\n",
    "[Oxidized NADPH---hemoprotein reductase] means: NADPH + H+ + n oxidized hemoprotein \\\n",
    "https://en.wikipedia.org/wiki/NADPH—hemoprotein_reductase\n"
   ]
  },
  {
   "cell_type": "code",
   "execution_count": 6,
   "metadata": {},
   "outputs": [
    {
     "name": "stdout",
     "output_type": "stream",
     "text": [
      "amorph_c + nadp_c + o2_c --> artalc_c + h2o_c + nadph_c\n"
     ]
    }
   ],
   "source": [
    "# Creating the reaction\n",
    "reaction_3 = Reaction('CYP71AV1') # CYP71AV1: amorphadiene oxidase\n",
    "\n",
    "# Defining the new metabolite, as it does not exists in GSM\n",
    "artemisinic_alcohol = Metabolite(id='artalc_c', name='artemisinic_alcohol', compartment='c', formula='C15H24O') \n",
    "\n",
    "# Adding the metabolites based on the stoichiometric reaction\n",
    "reaction_3.add_metabolites({amorphadiene: -1,\n",
    "                            iYO844.metabolites.get_by_id('o2_c'): -1,\n",
    "                            iYO844.metabolites.get_by_id('nadp_c'): -1,\n",
    "                            artemisinic_alcohol: 1, \n",
    "                            iYO844.metabolites.get_by_id('nadph_c'): 1,\n",
    "                            iYO844.metabolites.get_by_id('h2o_c'): 1})\n",
    "\n",
    "print(reaction_3.build_reaction_string()) # Printing the reaction to check\n",
    "iYO844_modified.add_reactions([reaction_3]) # Adding the reaction to the new iY0844 model"
   ]
  },
  {
   "cell_type": "markdown",
   "metadata": {},
   "source": [
    "### Fourth reaction incorporation\n",
    "Artemisinic alcohol + Oxygen + [Reduced NADPH---hemoprotein reductase] <=> Artemisinic aldehyde + [Oxidized NADPH---hemoprotein reductase] + 2 H2O \\\n",
    "KEGG reaction: https://www.genome.jp/entry/R10024\n"
   ]
  },
  {
   "cell_type": "code",
   "execution_count": 7,
   "metadata": {},
   "outputs": [
    {
     "name": "stdout",
     "output_type": "stream",
     "text": [
      "artalc_c + nadp_c + o2_c --> artald_c + 2 h2o_c + nadph_c\n"
     ]
    }
   ],
   "source": [
    "# Creating the reaction\n",
    "reaction_4 = Reaction('ADH1_CYP71AV1') # ADH1: alcohol dehydrogenase, CYP71AV1: amorphadiene oxidase\n",
    "\n",
    "# Defining the new metabolite, as it does not exists in GSM\n",
    "artemisinic_aldehyde = Metabolite(id='artald_c', name='artemisinic aldehyde', compartment='c', formula='C15H22O')\n",
    "\n",
    "# Adding the metabolites based on the stoichiometric reaction\n",
    "reaction_4.add_metabolites({artemisinic_alcohol: -1,\n",
    "                            iYO844.metabolites.get_by_id('o2_c'): -1,\n",
    "                            iYO844.metabolites.get_by_id('nadp_c'): -1,\n",
    "                            artemisinic_aldehyde: 1, \n",
    "                            iYO844.metabolites.get_by_id('nadph_c'): 1,\n",
    "                            iYO844.metabolites.get_by_id('h2o_c'): 2})\n",
    "\n",
    "print(reaction_4.build_reaction_string()) # Printing the reaction to check\n",
    "iYO844_modified.add_reactions([reaction_4]) # Adding the reaction to the new iY0844 model"
   ]
  },
  {
   "cell_type": "markdown",
   "metadata": {},
   "source": [
    "### Fifth reaction incorporation\n",
    "Artemisinic aldehyde + NADPH + H+  <=> (11R)-Dihydroartemisinic aldehyde + NADP+ \\\n",
    "KEGG reaction: https://www.genome.jp/entry/R10075"
   ]
  },
  {
   "cell_type": "code",
   "execution_count": 8,
   "metadata": {},
   "outputs": [
    {
     "name": "stdout",
     "output_type": "stream",
     "text": [
      "artald_c + h_c + nadph_c --> dihydroartald_c + nadp_c\n"
     ]
    }
   ],
   "source": [
    "# Creating the reaction\n",
    "reaction_5 = Reaction('DBR2') # DBR2: artemisinic aldehyde double-bond reductase\n",
    "\n",
    "# Defining the new metabolite, as it does not exists in GSM\n",
    "dihydroartemisinic_aldehyde = Metabolite(id='dihydroartald_c', name='dihydroartemisinic aldehyde', compartment='c', formula='C15H24O')\n",
    "\n",
    "# Adding the metabolites based on the stoichiometric reaction\n",
    "reaction_5.add_metabolites({artemisinic_aldehyde: -1,\n",
    "                            iYO844.metabolites.get_by_id('nadph_c'): -1,\n",
    "                            iYO844.metabolites.get_by_id('h_c'): -1,\n",
    "                            dihydroartemisinic_aldehyde: 1, \n",
    "                            iYO844.metabolites.get_by_id('nadp_c'): 1})\n",
    "\n",
    "print(reaction_5.build_reaction_string()) # Printing the reaction to check\n",
    "iYO844_modified.add_reactions([reaction_5]) # Adding the reaction to the new iY0844 model"
   ]
  },
  {
   "cell_type": "markdown",
   "metadata": {},
   "source": [
    "### Sixth reaction incorporation\n",
    "Dihydroartemisinic aldehyde + Oxygen + [Reduced NADPH---hemoprotein reductase] <=> Dihydroartemisinic acid + [Oxidized NADPH---hemoprotein reductase] + H2O\n",
    "\n",
    "Modified from KEGG reaction: https://www.genome.jp/entry/R10025\n"
   ]
  },
  {
   "cell_type": "code",
   "execution_count": 9,
   "metadata": {},
   "outputs": [
    {
     "name": "stdout",
     "output_type": "stream",
     "text": [
      "artalc_c + nadp_c + o2_c --> DHAA_c + h2o_c + nadph_c\n"
     ]
    }
   ],
   "source": [
    "# Creating the reaction\n",
    "reaction_6 = Reaction('ALDH1_CYP71AV1') # ALDH1: aldehyde dehydrogenase 1, CYP71AV1: amorphadiene oxidase\n",
    "\n",
    "# Defining the new metabolite, as it does not exists in GSM\n",
    "dihydroartemisinic_acid = Metabolite(id='DHAA_c', name='dihydroartemisinic acid', compartment='c', formula='C15H24O2')\n",
    "\n",
    "# Adding the metabolites based on the stoichiometric reaction\n",
    "reaction_6.add_metabolites({artemisinic_alcohol: -1,\n",
    "                            iYO844.metabolites.get_by_id('o2_c'): -1,\n",
    "                            iYO844.metabolites.get_by_id('nadp_c'): -1,\n",
    "                            dihydroartemisinic_acid: 1, \n",
    "                            iYO844.metabolites.get_by_id('nadph_c'): 1,\n",
    "                            iYO844.metabolites.get_by_id('h2o_c'): 1})\n",
    "\n",
    "print(reaction_6.build_reaction_string()) # Printing the reaction to check\n",
    "iYO844_modified.add_reactions([reaction_6]) # Adding the reaction to the new iY0844 model"
   ]
  },
  {
   "cell_type": "markdown",
   "metadata": {},
   "source": [
    "### Seventh reaction incorporation\n",
    "Artemisinic aldehyde + Oxygen + [Reduced NADPH---hemoprotein reductase] <=> Artemisinate + [Oxidized NADPH---hemoprotein reductase] + H2O \\\n",
    "KEGG reaction: https://www.genome.jp/entry/R10025\n",
    "\n",
    "[Reduced NADPH---hemoprotein reductase] means: NADP+ + n reduced hemoprotein \\\n",
    "[Oxidized NADPH---hemoprotein reductase] means: NADPH + H+ + n oxidized hemoprotein"
   ]
  },
  {
   "cell_type": "code",
   "execution_count": 10,
   "metadata": {},
   "outputs": [
    {
     "name": "stdout",
     "output_type": "stream",
     "text": [
      "artalc_c + nadp_c + o2_c --> artac_c + h2o_c + nadph_c\n"
     ]
    }
   ],
   "source": [
    "# Creating the reaction\n",
    "reaction_7 = Reaction('ALDH1_CYP71AV1_2') # ALDH1: aldehyde dehydrogenase 1, CYP71AV1: amorphadiene oxidase\n",
    "\n",
    "# Defining the new metabolite, as it does not exists in GSM\n",
    "artemisinic_acid = Metabolite(id='artac_c', name='artemisinic acid', compartment='c', formula='C15H22O2')\n",
    "\n",
    "# Adding the metabolites based on the stoichiometric reaction\n",
    "reaction_7.add_metabolites({artemisinic_alcohol: -1,\n",
    "                            iYO844.metabolites.get_by_id('o2_c'): -1,\n",
    "                            iYO844.metabolites.get_by_id('nadp_c'): -1,\n",
    "                            artemisinic_acid: 1, \n",
    "                            iYO844.metabolites.get_by_id('nadph_c'): 1,\n",
    "                            iYO844.metabolites.get_by_id('h2o_c'): 1})\n",
    "\n",
    "print(reaction_7.build_reaction_string()) # Printing the reaction to check\n",
    "iYO844_modified.add_reactions([reaction_7]) # Adding the reaction to the new iY0844 model"
   ]
  },
  {
   "cell_type": "markdown",
   "metadata": {},
   "source": [
    "### Testing implementation"
   ]
  },
  {
   "cell_type": "code",
   "execution_count": 11,
   "metadata": {},
   "outputs": [
    {
     "data": {
      "text/html": [
       "\n",
       "        <table>\n",
       "            <tr>\n",
       "                <td><strong>Metabolite identifier</strong></td><td>DHAA_c</td>\n",
       "            </tr><tr>\n",
       "                <td><strong>Name</strong></td><td>dihydroartemisinic acid</td>\n",
       "            </tr><tr>\n",
       "                <td><strong>Memory address</strong></td>\n",
       "                <td>0x01e6e37d0388</td>\n",
       "            </tr><tr>\n",
       "                <td><strong>Formula</strong></td><td>C15H24O2</td>\n",
       "            </tr><tr>\n",
       "                <td><strong>Compartment</strong></td><td>c</td>\n",
       "            </tr><tr>\n",
       "                <td><strong>In 1 reaction(s)</strong></td><td>\n",
       "                    ALDH1_CYP71AV1</td>\n",
       "            </tr>\n",
       "        </table>"
      ],
      "text/plain": [
       "<Metabolite DHAA_c at 0x1e6e37d0388>"
      ]
     },
     "execution_count": 11,
     "metadata": {},
     "output_type": "execute_result"
    }
   ],
   "source": [
    "# Fetching the artimisinin precursor to check it exists in the model\n",
    "iYO844_modified.metabolites.DHAA_c"
   ]
  },
  {
   "cell_type": "code",
   "execution_count": 12,
   "metadata": {},
   "outputs": [
    {
     "name": "stdout",
     "output_type": "stream",
     "text": [
      "0.36342857142857143\n"
     ]
    }
   ],
   "source": [
    "# Specifying which metabolite, we want to test the production of\n",
    "DHAA = iYO844_modified.add_boundary(iYO844_modified.metabolites.get_by_id('DHAA_c'), type='demand')\n",
    "\n",
    "# Testing production of DHAA in the system after pathway implementation in model to ensure metabolic connectivity\n",
    "with iYO844_modified :\n",
    "    iYO844_modified.objective = DHAA #changing objective of GSM to be production of DHAA\n",
    "    sol = iYO844_modified.optimize()\n",
    "    print(sol.objective_value)"
   ]
  },
  {
   "cell_type": "markdown",
   "metadata": {},
   "source": [
    "### Saving the model"
   ]
  },
  {
   "cell_type": "code",
   "execution_count": 13,
   "metadata": {},
   "outputs": [],
   "source": [
    "# Saving the variable as a new xml file\n",
    "iYO844_modified.id = \"iYO844_modified\"\n",
    "write_sbml_model(iYO844_modified, 'data/iYO844_modified.xml')"
   ]
  },
  {
   "cell_type": "markdown",
   "metadata": {},
   "source": [
    "### Memote analysis on modified model"
   ]
  },
  {
   "cell_type": "code",
   "execution_count": 14,
   "metadata": {},
   "outputs": [
    {
     "data": {
      "text/html": [
       "\n",
       "        <table>\n",
       "            <tr>\n",
       "                <td><strong>Name</strong></td>\n",
       "                <td>iYO844_modified</td>\n",
       "            </tr><tr>\n",
       "                <td><strong>Memory address</strong></td>\n",
       "                <td>0x01e6da1c2ec8</td>\n",
       "            </tr><tr>\n",
       "                <td><strong>Number of metabolites</strong></td>\n",
       "                <td>996</td>\n",
       "            </tr><tr>\n",
       "                <td><strong>Number of reactions</strong></td>\n",
       "                <td>1258</td>\n",
       "            </tr><tr>\n",
       "                <td><strong>Number of groups</strong></td>\n",
       "                <td>0</td>\n",
       "            </tr><tr>\n",
       "                <td><strong>Objective expression</strong></td>\n",
       "                <td>1.0*BIOMASS_BS_10 - 1.0*BIOMASS_BS_10_reverse_8788b</td>\n",
       "            </tr><tr>\n",
       "                <td><strong>Compartments</strong></td>\n",
       "                <td>cytosol, extracellular space</td>\n",
       "            </tr>\n",
       "          </table>"
      ],
      "text/plain": [
       "<Model iYO844_modified at 0x1e6da1c2ec8>"
      ]
     },
     "execution_count": 14,
     "metadata": {},
     "output_type": "execute_result"
    }
   ],
   "source": [
    "model = read_sbml_model(\"data/iYO844_modified.xml\")\n",
    "model"
   ]
  },
  {
   "cell_type": "code",
   "execution_count": 15,
   "metadata": {},
   "outputs": [
    {
     "name": "stderr",
     "output_type": "stream",
     "text": [
      "Traceback (most recent call last):\n",
      "  File \"C:\\Users\\nanna\\anaconda3\\envs\\Nanna_environment\\lib\\site-packages\\git\\__init__.py\", line 166, in <module>\n",
      "    refresh()\n",
      "  File \"C:\\Users\\nanna\\anaconda3\\envs\\Nanna_environment\\lib\\site-packages\\git\\__init__.py\", line 153, in refresh\n",
      "    if not Git.refresh(path=path):\n",
      "  File \"C:\\Users\\nanna\\anaconda3\\envs\\Nanna_environment\\lib\\site-packages\\git\\cmd.py\", line 391, in refresh\n",
      "    raise ImportError(err)\n",
      "ImportError: Bad git executable.\n",
      "The git executable must be specified in one of the following ways:\n",
      "    - be included in your $PATH\n",
      "    - be set via $GIT_PYTHON_GIT_EXECUTABLE\n",
      "    - explicitly set via git.refresh()\n",
      "\n",
      "All git commands will error until this is rectified.\n",
      "\n",
      "This initial warning can be silenced or aggravated in the future by setting the\n",
      "$GIT_PYTHON_REFRESH environment variable. Use one of the following values:\n",
      "    - quiet|q|silence|s|none|n|0: for no warning or exception\n",
      "    - warn|w|warning|1: for a printed warning\n",
      "    - error|e|raise|r|2: for a raised exception\n",
      "\n",
      "Example:\n",
      "    export GIT_PYTHON_REFRESH=quiet\n",
      "\n",
      "\n",
      "The above exception was the direct cause of the following exception:\n",
      "\n",
      "Traceback (most recent call last):\n",
      "  File \"C:\\Users\\nanna\\anaconda3\\envs\\Nanna_environment\\lib\\runpy.py\", line 193, in _run_module_as_main\n",
      "    \"__main__\", mod_spec)\n",
      "  File \"C:\\Users\\nanna\\anaconda3\\envs\\Nanna_environment\\lib\\runpy.py\", line 85, in _run_code\n",
      "    exec(code, run_globals)\n",
      "  File \"C:\\Users\\nanna\\anaconda3\\envs\\Nanna_environment\\Scripts\\memote.exe\\__main__.py\", line 4, in <module>\n",
      "  File \"C:\\Users\\nanna\\anaconda3\\envs\\Nanna_environment\\lib\\site-packages\\memote\\suite\\cli\\runner.py\", line 36, in <module>\n",
      "    import git\n",
      "  File \"C:\\Users\\nanna\\anaconda3\\envs\\Nanna_environment\\lib\\site-packages\\git\\__init__.py\", line 168, in <module>\n",
      "    raise ImportError(\"Failed to initialize: {0}\".format(_exc)) from _exc\n",
      "ImportError: Failed to initialize: Bad git executable.\n",
      "The git executable must be specified in one of the following ways:\n",
      "    - be included in your $PATH\n",
      "    - be set via $GIT_PYTHON_GIT_EXECUTABLE\n",
      "    - explicitly set via git.refresh()\n",
      "\n",
      "All git commands will error until this is rectified.\n",
      "\n",
      "This initial warning can be silenced or aggravated in the future by setting the\n",
      "$GIT_PYTHON_REFRESH environment variable. Use one of the following values:\n",
      "    - quiet|q|silence|s|none|n|0: for no warning or exception\n",
      "    - warn|w|warning|1: for a printed warning\n",
      "    - error|e|raise|r|2: for a raised exception\n",
      "\n",
      "Example:\n",
      "    export GIT_PYTHON_REFRESH=quiet\n",
      "\n"
     ]
    }
   ],
   "source": [
    "# Generating memote analysis and saving result in html file\n",
    "!memote report snapshot data/iYO844_modified.xml --filename memote/iYO844_modified_memote.html"
   ]
  }
 ],
 "metadata": {
  "kernelspec": {
   "display_name": "cobra_escher",
   "language": "python",
   "name": "python3"
  },
  "language_info": {
   "codemirror_mode": {
    "name": "ipython",
    "version": 3
   },
   "file_extension": ".py",
   "mimetype": "text/x-python",
   "name": "python",
   "nbconvert_exporter": "python",
   "pygments_lexer": "ipython3",
   "version": "3.7.16"
  }
 },
 "nbformat": 4,
 "nbformat_minor": 2
}
