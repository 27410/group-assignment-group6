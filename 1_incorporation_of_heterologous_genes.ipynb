{
 "cells": [
  {
   "cell_type": "markdown",
   "metadata": {},
   "source": [
    "# Incoporation of heterologous genes in the iYO844 model for artemisinin production"
   ]
  },
  {
   "cell_type": "markdown",
   "metadata": {},
   "source": [
    "_B. subtilis_ should be capable of producing farnesyl pyrophosphate (FPP), which is the end product of the MEP pathway. For production of artemisinin, six additional reactions are required. Additionally, a seventh reaction is added, as the enzymes incorporated also is responsible for generating a sideproduct. \\\n",
    "\n",
    "For each reaction a KEGG link is provided, as this is where the stoiciometric reactions were found."
   ]
  },
  {
   "cell_type": "code",
   "execution_count": 9,
   "metadata": {},
   "outputs": [],
   "source": [
    "# Loading the required packages\n",
    "from cobra.io import read_sbml_model, write_sbml_model # To read the model and save new newly generated model\n",
    "from cobra import Reaction, Metabolite # To creat new reactions and metabolites\n",
    "from cameo.strain_design import pathway_prediction # To predict if there exist a pathway for a given metabolite"
   ]
  },
  {
   "cell_type": "code",
   "execution_count": 10,
   "metadata": {},
   "outputs": [
    {
     "data": {
      "text/html": [
       "\n",
       "        <table>\n",
       "            <tr>\n",
       "                <td><strong>Name</strong></td>\n",
       "                <td>iYO844</td>\n",
       "            </tr><tr>\n",
       "                <td><strong>Memory address</strong></td>\n",
       "                <td>0x07f9980a01910</td>\n",
       "            </tr><tr>\n",
       "                <td><strong>Number of metabolites</strong></td>\n",
       "                <td>990</td>\n",
       "            </tr><tr>\n",
       "                <td><strong>Number of reactions</strong></td>\n",
       "                <td>1250</td>\n",
       "            </tr><tr>\n",
       "                <td><strong>Number of groups</strong></td>\n",
       "                <td>0</td>\n",
       "            </tr><tr>\n",
       "                <td><strong>Objective expression</strong></td>\n",
       "                <td>1.0*BIOMASS_BS_10 - 1.0*BIOMASS_BS_10_reverse_8788b</td>\n",
       "            </tr><tr>\n",
       "                <td><strong>Compartments</strong></td>\n",
       "                <td>cytosol, extracellular space</td>\n",
       "            </tr>\n",
       "          </table>"
      ],
      "text/plain": [
       "<Model iYO844 at 0x7f9980a01910>"
      ]
     },
     "execution_count": 10,
     "metadata": {},
     "output_type": "execute_result"
    }
   ],
   "source": [
    "# Loading the the model\n",
    "iYO844 = read_sbml_model(\"data/iYO844.xml\")\n",
    "iYO844_modified = iYO844.copy() # Generating a copy of iY0844 in a variable to add the reactions to the new model\n",
    "iYO844"
   ]
  },
  {
   "cell_type": "markdown",
   "metadata": {},
   "source": [
    "First we make sure, that the MEP pathway is present in the current model iY40844 by searching for a pathway for creation of geranyl diphosphate, the second last step of the pathway."
   ]
  },
  {
   "cell_type": "code",
   "execution_count": 11,
   "metadata": {},
   "outputs": [
    {
     "data": {
      "text/html": [
       "<span>Pathway 1</span>"
      ],
      "text/plain": [
       "<IPython.core.display.HTML object>"
      ]
     },
     "metadata": {},
     "output_type": "display_data"
    },
    {
     "data": {
      "text/html": [
       "<div>\n",
       "<style scoped>\n",
       "    .dataframe tbody tr th:only-of-type {\n",
       "        vertical-align: middle;\n",
       "    }\n",
       "\n",
       "    .dataframe tbody tr th {\n",
       "        vertical-align: top;\n",
       "    }\n",
       "\n",
       "    .dataframe thead th {\n",
       "        text-align: right;\n",
       "    }\n",
       "</style>\n",
       "<table border=\"1\" class=\"dataframe\">\n",
       "  <thead>\n",
       "    <tr style=\"text-align: right;\">\n",
       "      <th></th>\n",
       "      <th>equation</th>\n",
       "      <th>lower_bound</th>\n",
       "      <th>upper_bound</th>\n",
       "    </tr>\n",
       "  </thead>\n",
       "  <tbody>\n",
       "    <tr>\n",
       "      <th>MNXR69185</th>\n",
       "      <td>geranyl diphosphate + isopentenyl diphosphate ...</td>\n",
       "      <td>-1000.0</td>\n",
       "      <td>1000.0</td>\n",
       "    </tr>\n",
       "  </tbody>\n",
       "</table>\n",
       "</div>"
      ],
      "text/plain": [
       "                                                    equation  lower_bound  \\\n",
       "MNXR69185  geranyl diphosphate + isopentenyl diphosphate ...      -1000.0   \n",
       "\n",
       "           upper_bound  \n",
       "MNXR69185       1000.0  "
      ]
     },
     "metadata": {},
     "output_type": "display_data"
    },
    {
     "data": {
      "text/html": [
       "<span>Pathway 2</span>"
      ],
      "text/plain": [
       "<IPython.core.display.HTML object>"
      ]
     },
     "metadata": {},
     "output_type": "display_data"
    },
    {
     "data": {
      "text/html": [
       "<div>\n",
       "<style scoped>\n",
       "    .dataframe tbody tr th:only-of-type {\n",
       "        vertical-align: middle;\n",
       "    }\n",
       "\n",
       "    .dataframe tbody tr th {\n",
       "        vertical-align: top;\n",
       "    }\n",
       "\n",
       "    .dataframe thead th {\n",
       "        text-align: right;\n",
       "    }\n",
       "</style>\n",
       "<table border=\"1\" class=\"dataframe\">\n",
       "  <thead>\n",
       "    <tr style=\"text-align: right;\">\n",
       "      <th></th>\n",
       "      <th>equation</th>\n",
       "      <th>lower_bound</th>\n",
       "      <th>upper_bound</th>\n",
       "    </tr>\n",
       "  </thead>\n",
       "  <tbody>\n",
       "    <tr>\n",
       "      <th>MNXR55238</th>\n",
       "      <td>geranyl diphosphate + diphosphate &lt;=&gt; dimethyl...</td>\n",
       "      <td>-1000.0</td>\n",
       "      <td>1000.0</td>\n",
       "    </tr>\n",
       "  </tbody>\n",
       "</table>\n",
       "</div>"
      ],
      "text/plain": [
       "                                                    equation  lower_bound  \\\n",
       "MNXR55238  geranyl diphosphate + diphosphate <=> dimethyl...      -1000.0   \n",
       "\n",
       "           upper_bound  \n",
       "MNXR55238       1000.0  "
      ]
     },
     "metadata": {},
     "output_type": "display_data"
    }
   ],
   "source": [
    "# Might take a long time to run! 3-4 min\n",
    "# Trying to predict if there already exists a patwhay for the end product, which there should\n",
    "predictor = pathway_prediction.PathwayPredictor(iYO844) # Loading the model into the predictor tool\n",
    "pathways = predictor.run(product='geranyl diphosphate', max_predictions=2) # Specifying metabolite. From KEGG pathway only two known pathways"
   ]
  },
  {
   "cell_type": "markdown",
   "metadata": {},
   "source": [
    "### First reaction\n",
    "In the article \"High level production of amorphadiene using Bacillus subtilis as an optimized terpenoid cell factory\", a FPPS from  _Saccharomyces cerevisiae_ was inserted to convert geranyl pyrophosphate (GPP) to farnesyl pyrophosphate (FPP) as the last step in the MEP pathway instead of using the native IspA as FPPS. \\\n",
    "\n",
    "GPP --> FPP\n",
    "Catalysed by FPPS \\\n",
    "Geranyl diphosphate + Isopentenyl diphosphate <=> Diphosphate + trans,trans-Farnesyl diphosphate \\\n",
    "https://www.genome.jp/entry/R02003"
   ]
  },
  {
   "cell_type": "code",
   "execution_count": 12,
   "metadata": {},
   "outputs": [
    {
     "name": "stdout",
     "output_type": "stream",
     "text": [
      "grdp_c + ipdp_c --> frdp_c + ppi_c\n"
     ]
    }
   ],
   "source": [
    "# Creating the reaction\n",
    "reaction_1 = Reaction('FPPS') # FPPS: farnesyl pyrophosphate synthase\n",
    "\n",
    "# Adding the metabolites based on the stoichiometric reaction\n",
    "reaction_1.add_metabolites({iYO844.metabolites.get_by_id('grdp_c'): -1,\n",
    "                            iYO844.metabolites.get_by_id('ipdp_c'): -1,\n",
    "                            iYO844.metabolites.get_by_id('ppi_c'): 1,\n",
    "                            iYO844.metabolites.get_by_id('frdp_c'): 1\n",
    "                            })\n",
    "\n",
    "print(reaction_1.build_reaction_string()) # Printing how the reaction looks\n",
    "iYO844_modified.add_reactions([reaction_1]) # Adding the reaction to the new iY0844 model"
   ]
  },
  {
   "cell_type": "markdown",
   "metadata": {},
   "source": [
    "### Second reaction\n",
    "FPP --> amorphadiene / amorpha-4,11-diene + Diphosphate \\\n",
    "Catalysed by amorphadiene synthase (ADS) \\\n",
    "https://www.genome.jp/entry/R07630"
   ]
  },
  {
   "cell_type": "code",
   "execution_count": 13,
   "metadata": {},
   "outputs": [
    {
     "name": "stdout",
     "output_type": "stream",
     "text": [
      "frdp_c --> amorph_c + ppi_c\n"
     ]
    }
   ],
   "source": [
    "# Creating the reaction\n",
    "reaction_2 = Reaction('ADS') # ADS: amorphadiene synthase\n",
    "\n",
    "# Defining the new metabolite, as it does not exists in GSM\n",
    "amorphadiene = Metabolite(id='amorph_c', name='amorphadiene', compartment='c', formula='C15H24')\n",
    "\n",
    "# Adding the metabolites based on the stoichiometric reaction\n",
    "reaction_2.add_metabolites({iYO844.metabolites.get_by_id('frdp_c'): -1,\n",
    "                            amorphadiene: 1,\n",
    "                            iYO844.metabolites.get_by_id('ppi_c'): 1})\n",
    "print(reaction_2.build_reaction_string()) # Printing how the reaction looks\n",
    "iYO844_modified.add_reactions([reaction_2]) # Adding the reaction to the new iY0844 model"
   ]
  },
  {
   "cell_type": "markdown",
   "metadata": {},
   "source": [
    "### Third reaction\n",
    "Amorpha-4,11-diene + Oxygen + [Reduced NADPH---hemoprotein reductase] <=> Artemisinic alcohol + [Oxidized NADPH---hemoprotein reductase] + H2O \\\n",
    "https://www.kegg.jp/entry/R10023\n",
    "\n",
    "[Reduced NADPH---hemoprotein reductase] means: NADP+ + n reduced hemoprotein \\\n",
    "[Oxidized NADPH---hemoprotein reductase] means: NADPH + H+ + n oxidized hemoprotein \\\n",
    "https://en.wikipedia.org/wiki/NADPH—hemoprotein_reductase\n"
   ]
  },
  {
   "cell_type": "code",
   "execution_count": 14,
   "metadata": {},
   "outputs": [
    {
     "name": "stdout",
     "output_type": "stream",
     "text": [
      "amorph_c + nadp_c + o2_c --> artalc_c + h2o_c + nadph_c\n"
     ]
    }
   ],
   "source": [
    "# Creating the reaction\n",
    "reaction_3 = Reaction('CYP71AV1') # CYP71AV1: amorphadiene oxidase\n",
    "\n",
    "# Defining the new metabolite, as it does not exists in GSM\n",
    "artemisinic_alcohol = Metabolite(id='artalc_c', name='artemisinic_alcohol', compartment='c', formula='C15H24O') \n",
    "\n",
    "# Adding the metabolites based on the stoichiometric reaction\n",
    "reaction_3.add_metabolites({amorphadiene: -1,\n",
    "                            iYO844.metabolites.get_by_id('o2_c'): -1,\n",
    "                            iYO844.metabolites.get_by_id('nadp_c'): -1,\n",
    "                            artemisinic_alcohol: 1, \n",
    "                            iYO844.metabolites.get_by_id('nadph_c'): 1,\n",
    "                            iYO844.metabolites.get_by_id('h2o_c'): 1})\n",
    "\n",
    "print(reaction_3.build_reaction_string()) # Printing how the reaction looks\n",
    "iYO844_modified.add_reactions([reaction_3]) # Adding the reaction to the new iY0844 model"
   ]
  },
  {
   "cell_type": "markdown",
   "metadata": {},
   "source": [
    "### Fourth reaction\n",
    "Artemisinic alcohol + Oxygen + [Reduced NADPH---hemoprotein reductase] <=> Artemisinic aldehyde + [Oxidized NADPH---hemoprotein reductase] + 2 H2O \\ https://www.genome.jp/entry/R10024\n"
   ]
  },
  {
   "cell_type": "code",
   "execution_count": 15,
   "metadata": {},
   "outputs": [
    {
     "name": "stdout",
     "output_type": "stream",
     "text": [
      "artalc_c + nadp_c + o2_c --> artald_c + 2 h2o_c + nadph_c\n"
     ]
    }
   ],
   "source": [
    "# Creating the reaction\n",
    "reaction_4 = Reaction('ADH1_CYP71AV1') # ADH1: alcohol dehydrogenase, CYP71AV1: amorphadiene oxidase\n",
    "\n",
    "# Defining the new metabolite, as it does not exists in GSM\n",
    "artemisinic_aldehyde = Metabolite(id='artald_c', name='artemisinic aldehyde', compartment='c', formula='C15H22O')\n",
    "\n",
    "# Adding the metabolites based on the stoichiometric reaction\n",
    "reaction_4.add_metabolites({artemisinic_alcohol: -1,\n",
    "                            iYO844.metabolites.get_by_id('o2_c'): -1,\n",
    "                            iYO844.metabolites.get_by_id('nadp_c'): -1,\n",
    "                            artemisinic_aldehyde: 1, \n",
    "                            iYO844.metabolites.get_by_id('nadph_c'): 1,\n",
    "                            iYO844.metabolites.get_by_id('h2o_c'): 2})\n",
    "\n",
    "print(reaction_4.build_reaction_string()) # Printing how the reaction looks\n",
    "iYO844_modified.add_reactions([reaction_4]) # Adding the reaction to the new iY0844 model"
   ]
  },
  {
   "cell_type": "markdown",
   "metadata": {},
   "source": [
    "### Fifth reaction\n",
    "Artemisinic aldehyde + NADPH + H+  <=> (11R)-Dihydroartemisinic aldehyde + NADP+ \\\n",
    "https://www.genome.jp/entry/R10075"
   ]
  },
  {
   "cell_type": "code",
   "execution_count": 16,
   "metadata": {},
   "outputs": [
    {
     "name": "stdout",
     "output_type": "stream",
     "text": [
      "artald_c + h_c + nadph_c --> dihydroartald_c + nadp_c\n"
     ]
    }
   ],
   "source": [
    "# Creating the reaction\n",
    "reaction_5 = Reaction('DBR2') # DBR2: artemisinic aldehyde double-bond reductase\n",
    "\n",
    "# Defining the new metabolite, as it does not exists in GSM\n",
    "dihydroartemisinic_aldehyde = Metabolite(id='dihydroartald_c', name='dihydroartemisinic aldehyde', compartment='c', formula='C15H24O')\n",
    "\n",
    "# Adding the metabolites based on the stoichiometric reaction\n",
    "reaction_5.add_metabolites({artemisinic_aldehyde: -1,\n",
    "                            iYO844.metabolites.get_by_id('nadph_c'): -1,\n",
    "                            iYO844.metabolites.get_by_id('h_c'): -1,\n",
    "                            dihydroartemisinic_aldehyde: 1, \n",
    "                            iYO844.metabolites.get_by_id('nadp_c'): 1})\n",
    "\n",
    "print(reaction_5.build_reaction_string()) # Printing how the reaction looks\n",
    "iYO844_modified.add_reactions([reaction_5]) # Adding the reaction to the new iY0844 model"
   ]
  },
  {
   "cell_type": "markdown",
   "metadata": {},
   "source": [
    "### Sixth reaction\n",
    "Dihydroartemisinic aldehyde + Oxygen + [Reduced NADPH---hemoprotein reductase] <=> Dihydroartemisinic acid + [Oxidized NADPH---hemoprotein reductase] + H2O\n",
    "\n",
    "Modified from: https://www.genome.jp/entry/R10025\n"
   ]
  },
  {
   "cell_type": "code",
   "execution_count": 17,
   "metadata": {},
   "outputs": [
    {
     "name": "stdout",
     "output_type": "stream",
     "text": [
      "artalc_c + nadp_c + o2_c --> dihydroartaci_c + h2o_c + nadph_c\n"
     ]
    }
   ],
   "source": [
    "# Creating the reaction\n",
    "reaction_6 = Reaction('ALDH1_CYP71AV1') # ALDH1: aldehyde dehydrogenase 1, CYP71AV1: amorphadiene oxidase\n",
    "\n",
    "# Defining the new metabolite, as it does not exists in GSM\n",
    "dihydroartemisinic_acid = Metabolite(id='dihydroartaci_c', name='dihydroartemisinic acid', compartment='c', formula='C15H24O2')\n",
    "\n",
    "# Adding the metabolites based on the stoichiometric reaction\n",
    "reaction_6.add_metabolites({artemisinic_alcohol: -1,\n",
    "                            iYO844.metabolites.get_by_id('o2_c'): -1,\n",
    "                            iYO844.metabolites.get_by_id('nadp_c'): -1,\n",
    "                            dihydroartemisinic_acid: 1, \n",
    "                            iYO844.metabolites.get_by_id('nadph_c'): 1,\n",
    "                            iYO844.metabolites.get_by_id('h2o_c'): 1})\n",
    "\n",
    "print(reaction_6.build_reaction_string()) # Printing how the reaction looks\n",
    "iYO844_modified.add_reactions([reaction_6]) # Adding the reaction to the new iY0844 model"
   ]
  },
  {
   "cell_type": "markdown",
   "metadata": {},
   "source": [
    "### Seventh reaction\n",
    "As the same enzymes responsible for reaction six also converts artemisinic aldehyde into artemisinic acid, this reaction also needs to be added to _B. subtilis_.\n",
    "\n",
    "Artemisinic aldehyde + Oxygen + [Reduced NADPH---hemoprotein reductase] <=> Artemisinate + [Oxidized NADPH---hemoprotein reductase] + H2O \\\n",
    "https://www.genome.jp/entry/R10025 \\\n",
    "\n",
    "[Reduced NADPH---hemoprotein reductase] means: NADP+ + n reduced hemoprotein \\\n",
    "[Oxidized NADPH---hemoprotein reductase] means: NADPH + H+ + n oxidized hemoprotein"
   ]
  },
  {
   "cell_type": "code",
   "execution_count": 18,
   "metadata": {},
   "outputs": [
    {
     "name": "stdout",
     "output_type": "stream",
     "text": [
      "artalc_c + nadp_c + o2_c --> artaci_c + h2o_c + nadph_c\n"
     ]
    }
   ],
   "source": [
    "# Creating the reaction\n",
    "reaction_7 = Reaction('ALDH1_CYP71AV1_2') # ALDH1: aldehyde dehydrogenase 1, CYP71AV1: amorphadiene oxidase\n",
    "\n",
    "# Defining the new metabolite, as it does not exists in GSM\n",
    "artemisinic_acid = Metabolite(id='artaci_c', name='artemisinic acid', compartment='c', formula='C15H22O2')\n",
    "\n",
    "# Adding the metabolites based on the stoichiometric reaction\n",
    "reaction_7.add_metabolites({artemisinic_alcohol: -1,\n",
    "                            iYO844.metabolites.get_by_id('o2_c'): -1,\n",
    "                            iYO844.metabolites.get_by_id('nadp_c'): -1,\n",
    "                            artemisinic_acid: 1, \n",
    "                            iYO844.metabolites.get_by_id('nadph_c'): 1,\n",
    "                            iYO844.metabolites.get_by_id('h2o_c'): 1})\n",
    "\n",
    "print(reaction_7.build_reaction_string()) # Printing how the reaction looks\n",
    "iYO844_modified.add_reactions([reaction_7]) # Adding the reaction to the new iY0844 model"
   ]
  },
  {
   "cell_type": "markdown",
   "metadata": {},
   "source": [
    "### Testing implementation\n",
    "Testing to see if dihydroartemisinic aldehyde can be produced after implementing the seven reactions to the GSM \\\n",
    "OBS! Maybe we should test for all the reactions?"
   ]
  },
  {
   "cell_type": "code",
   "execution_count": 19,
   "metadata": {},
   "outputs": [
    {
     "name": "stdout",
     "output_type": "stream",
     "text": [
      "0.36342857142857143\n"
     ]
    }
   ],
   "source": [
    "# Specifying which metabolite, we want to test the production of\n",
    "dihydroartaci = iYO844_modified.add_boundary(iYO844_modified.metabolites.get_by_id('dihydroartaci_c'), type='demand')\n",
    "\n",
    "# OBS! Comments needs to be added to this \n",
    "with iYO844_modified :\n",
    "    iYO844_modified.objective = dihydroartaci\n",
    "    sol = iYO844_modified.optimize()\n",
    "    print(sol.objective_value)"
   ]
  },
  {
   "cell_type": "markdown",
   "metadata": {},
   "source": [
    "From this it can be seen, that here is a production of dihydroartemisinic aldehyde within the cell."
   ]
  },
  {
   "cell_type": "markdown",
   "metadata": {},
   "source": [
    "### Saving the model\n",
    "The current model is saved as \"iYO844_modified.xml\" in the data folder."
   ]
  },
  {
   "cell_type": "code",
   "execution_count": 20,
   "metadata": {},
   "outputs": [],
   "source": [
    "# Saving the variable as a new xml file\n",
    "write_sbml_model(iYO844_modified, 'data/iYO844_modified.xml')"
   ]
  },
  {
   "cell_type": "code",
   "execution_count": 28,
   "metadata": {},
   "outputs": [
    {
     "data": {
      "text/html": [
       "\n",
       "        <table>\n",
       "            <tr>\n",
       "                <td><strong>Metabolite identifier</strong></td><td>dihydroartaci_c</td>\n",
       "            </tr><tr>\n",
       "                <td><strong>Name</strong></td><td>dihydroartemisinic acid</td>\n",
       "            </tr><tr>\n",
       "                <td><strong>Memory address</strong></td>\n",
       "                <td>0x07f9964c0bc10</td>\n",
       "            </tr><tr>\n",
       "                <td><strong>Formula</strong></td><td>C15H24O2</td>\n",
       "            </tr><tr>\n",
       "                <td><strong>Compartment</strong></td><td>c</td>\n",
       "            </tr><tr>\n",
       "                <td><strong>In 2 reaction(s)</strong></td><td>\n",
       "                    ALDH1_CYP71AV1, DM_dihydroartaci_c</td>\n",
       "            </tr>\n",
       "        </table>"
      ],
      "text/plain": [
       "<Metabolite dihydroartaci_c at 0x7f9964c0bc10>"
      ]
     },
     "execution_count": 28,
     "metadata": {},
     "output_type": "execute_result"
    }
   ],
   "source": [
    "# iYO844_modified.medium\n",
    "iYO844_modified.metabolites.dihydroartaci_c"
   ]
  },
  {
   "cell_type": "markdown",
   "metadata": {},
   "source": [
    "# FOR MEDIUM ANALYSIS\n",
    "OBS! Move to another file"
   ]
  },
  {
   "cell_type": "code",
   "execution_count": 34,
   "metadata": {},
   "outputs": [
    {
     "data": {
      "text/html": [
       "\n",
       "        <table>\n",
       "            <tr>\n",
       "                <td><strong>Metabolite identifier</strong></td><td>glc__D_c</td>\n",
       "            </tr><tr>\n",
       "                <td><strong>Name</strong></td><td>D-Glucose</td>\n",
       "            </tr><tr>\n",
       "                <td><strong>Memory address</strong></td>\n",
       "                <td>0x07f996711cb50</td>\n",
       "            </tr><tr>\n",
       "                <td><strong>Formula</strong></td><td>C6H12O6</td>\n",
       "            </tr><tr>\n",
       "                <td><strong>Compartment</strong></td><td>c</td>\n",
       "            </tr><tr>\n",
       "                <td><strong>In 20 reaction(s)</strong></td><td>\n",
       "                    LACZ, MPL, MAL6PG, BGLA1, MLTG4, MLTG2, HEX1, MALT, MLTG5, MLTG1, TRE6PH, MLTG3, SUCR, GALS3, XYLI2, GLCt2, MLTG6, G1PPDM, MLTG7, G1Dx</td>\n",
       "            </tr>\n",
       "        </table>"
      ],
      "text/plain": [
       "<Metabolite glc__D_c at 0x7f996711cb50>"
      ]
     },
     "execution_count": 34,
     "metadata": {},
     "output_type": "execute_result"
    }
   ],
   "source": [
    "iYO844_modified.metabolites.get_by_id('glc__D_c')"
   ]
  },
  {
   "cell_type": "code",
   "execution_count": 36,
   "metadata": {},
   "outputs": [
    {
     "name": "stdout",
     "output_type": "stream",
     "text": [
      "Maximum productivity = 0.36342857142857177 mmol/gDW*h\n"
     ]
    }
   ],
   "source": [
    "iYO844_modified.objective = iYO844_modified.reactions.ALDH1_CYP71AV1\n",
    "\n",
    "dihydroartaci_production = iYO844_modified.optimize().objective_value\n",
    "print('Maximum productivity =', dihydroartaci_production, 'mmol/gDW*h')\n",
    "\n",
    "#maximum_yield = dihydroartaci_production / (-1*(iYO844_modified.reactions.BOUNDARY_glc__D_c.flux))\n",
    "#print('Maximum theoretical yield =', maximum_yield, 'mmol-dihydroaci/mmol-glc')\n"
   ]
  }
 ],
 "metadata": {
  "kernelspec": {
   "display_name": "cobra_escher",
   "language": "python",
   "name": "python3"
  },
  "language_info": {
   "codemirror_mode": {
    "name": "ipython",
    "version": 3
   },
   "file_extension": ".py",
   "mimetype": "text/x-python",
   "name": "python",
   "nbconvert_exporter": "python",
   "pygments_lexer": "ipython3",
   "version": "3.7.16"
  }
 },
 "nbformat": 4,
 "nbformat_minor": 2
}
