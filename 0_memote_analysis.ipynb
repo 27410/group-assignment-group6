{
 "cells": [
  {
   "cell_type": "markdown",
   "id": "b3814e0f",
   "metadata": {},
   "source": [
    "# Analysis of existing GSM\n",
    "\n",
    "Loading the existing model and using memote for analysis of the existing Bacillus subtilus model iYO844"
   ]
  },
  {
   "cell_type": "markdown",
   "id": "be1c83d1",
   "metadata": {},
   "source": []
  },
  {
   "cell_type": "code",
   "execution_count": 1,
   "id": "325fa5ce",
   "metadata": {},
   "outputs": [],
   "source": [
    "from cobra.io import read_sbml_model\n",
    "# import memote # Maybe not necessary\n",
    "import escher"
   ]
  },
  {
   "cell_type": "code",
   "execution_count": 3,
   "id": "8fcefadc",
   "metadata": {},
   "outputs": [
    {
     "data": {
      "text/html": [
       "\n",
       "        <table>\n",
       "            <tr>\n",
       "                <td><strong>Name</strong></td>\n",
       "                <td>iYO844</td>\n",
       "            </tr><tr>\n",
       "                <td><strong>Memory address</strong></td>\n",
       "                <td>0x07fa53dda6350</td>\n",
       "            </tr><tr>\n",
       "                <td><strong>Number of metabolites</strong></td>\n",
       "                <td>990</td>\n",
       "            </tr><tr>\n",
       "                <td><strong>Number of reactions</strong></td>\n",
       "                <td>1250</td>\n",
       "            </tr><tr>\n",
       "                <td><strong>Number of groups</strong></td>\n",
       "                <td>0</td>\n",
       "            </tr><tr>\n",
       "                <td><strong>Objective expression</strong></td>\n",
       "                <td>1.0*BIOMASS_BS_10 - 1.0*BIOMASS_BS_10_reverse_8788b</td>\n",
       "            </tr><tr>\n",
       "                <td><strong>Compartments</strong></td>\n",
       "                <td>cytosol, extracellular space</td>\n",
       "            </tr>\n",
       "          </table>"
      ],
      "text/plain": [
       "<Model iYO844 at 0x7fa53dda6350>"
      ]
     },
     "execution_count": 3,
     "metadata": {},
     "output_type": "execute_result"
    }
   ],
   "source": [
    "iYO844 = read_sbml_model(\"data/iYO844.xml\")\n",
    "iYO844"
   ]
  },
  {
   "cell_type": "code",
   "execution_count": 4,
   "id": "d9378569",
   "metadata": {},
   "outputs": [
    {
     "name": "stdout",
     "output_type": "stream",
     "text": [
      "The current solver interface glpk doesn't support setting the optimality tolerance.\n",
      "\u001b[1m============================= test session starts ==============================\u001b[0m\n",
      "platform darwin -- Python 3.7.9, pytest-4.6.11, py-1.11.0, pluggy-0.13.1\n",
      "rootdir: /Users/millegjedingskovsorensen\n",
      "plugins: anyio-3.7.1\n",
      "collected 146 items / 1 skipped / 145 selected                                 \u001b[0m\u001b[1m\u001b[1m\n",
      "\n",
      "../../../Desktop/27410 - Computer-Aided Cell Factory Engineering/.venv/lib/python3.7/site-packages/memote/suite/tests/test_annotation.py \u001b[32m.\u001b[0m\u001b[36m [  0%]\n",
      "\u001b[0m\u001b[32m.\u001b[0m\u001b[32m.\u001b[0m\u001b[31mF\u001b[0m\u001b[31mF\u001b[0m\u001b[31mF\u001b[0m\u001b[31mF\u001b[0m\u001b[31mF\u001b[0m\u001b[31mF\u001b[0m\u001b[31mF\u001b[0m\u001b[31mF\u001b[0m\u001b[32m.\u001b[0m\u001b[32m.\u001b[0m\u001b[31mF\u001b[0m\u001b[31mF\u001b[0m\u001b[31mF\u001b[0m\u001b[31mF\u001b[0m\u001b[32m.\u001b[0m\u001b[32m.\u001b[0m\u001b[31mF\u001b[0m\u001b[31mF\u001b[0m\u001b[31mF\u001b[0m\u001b[31mF\u001b[0m\u001b[31mF\u001b[0m\u001b[31mF\u001b[0m\u001b[31mF\u001b[0m\u001b[31mF\u001b[0m\u001b[31mF\u001b[0m\u001b[31mF\u001b[0m\u001b[31mF\u001b[0m\u001b[31mF\u001b[0m\u001b[31mF\u001b[0m\u001b[31mF\u001b[0m\u001b[31mF\u001b[0m\u001b[32m.\u001b[0m\u001b[32m.\u001b[0m\u001b[31mF\u001b[0m\u001b[31mF\u001b[0m\u001b[32m.\u001b[0m\u001b[32m.\u001b[0m\u001b[31mF\u001b[0m\u001b[32m.\u001b[0m\u001b[32m.\u001b[0m\u001b[32m.\u001b[0m\u001b[31mF\u001b[0m\u001b[32m.\u001b[0m\u001b[32m.\u001b[0m\u001b[32m.\u001b[0m\u001b[32m.\u001b[0m\u001b[31mF\u001b[0m\u001b[31mF\u001b[0m\u001b[31mF\u001b[0m\u001b[32m.\u001b[0m\u001b[31mF\u001b[0m\u001b[31mF\u001b[0m\u001b[31mF\u001b[0m\u001b[31mF\u001b[0m\u001b[31mF\u001b[0m\u001b[31mF\u001b[0m\u001b[31mF\u001b[0m\u001b[31mF\u001b[0m\u001b[31mF\u001b[0m\u001b[31mF\u001b[0m\u001b[32m.\u001b[0m\u001b[32m.\u001b[0m\u001b[36m         [ 44%]\u001b[0m\n",
      "../../../Desktop/27410 - Computer-Aided Cell Factory Engineering/.venv/lib/python3.7/site-packages/memote/suite/tests/test_basic.py \u001b[32m.\u001b[0m\u001b[36m [ 45%]\n",
      "\u001b[0m\u001b[32m.\u001b[0m\u001b[32m.\u001b[0m\u001b[32m.\u001b[0m\u001b[32m.\u001b[0m\u001b[32m.\u001b[0m\u001b[31mF\u001b[0m\u001b[32m.\u001b[0m\u001b[32m.\u001b[0m\u001b[32m.\u001b[0m\u001b[32m.\u001b[0m\u001b[32m.\u001b[0m\u001b[32m.\u001b[0m\u001b[32m.\u001b[0m\u001b[32m.\u001b[0m\u001b[31mF\u001b[0m\u001b[32m.\u001b[0m\u001b[32m.\u001b[0m\u001b[32m.\u001b[0m\u001b[31mF\u001b[0m\u001b[32m.\u001b[0m\u001b[31mF\u001b[0m\u001b[31mF\u001b[0m\u001b[36m                                                   [ 60%]\u001b[0m\n",
      "../../../Desktop/27410 - Computer-Aided Cell Factory Engineering/.venv/lib/python3.7/site-packages/memote/suite/tests/test_biomass.py \u001b[32m.\u001b[0m\u001b[36m [ 60%]\n",
      "\u001b[0m\u001b[31mF\u001b[0m\u001b[32m.\u001b[0m\u001b[32m.\u001b[0m\u001b[32m.\u001b[0m\u001b[32m.\u001b[0m\u001b[32m.\u001b[0m\u001b[31mF\u001b[0m\u001b[32m.\u001b[0m\u001b[31mF\u001b[0m\u001b[36m                                                                [ 67%]\u001b[0m\n",
      "../../../Desktop/27410 - Computer-Aided Cell Factory Engineering/.venv/lib/python3.7/site-packages/memote/suite/tests/test_consistency.py \u001b[32m.\u001b[0m\u001b[36m [ 67%]\n",
      "\u001b[0m\u001b[32m.\u001b[0m\u001b[32m.\u001b[0m\u001b[33ms\u001b[0m\u001b[33ms\u001b[0m\u001b[33ms\u001b[0m\u001b[33ms\u001b[0m\u001b[33ms\u001b[0m\u001b[33ms\u001b[0m\u001b[33ms\u001b[0m\u001b[33ms\u001b[0m\u001b[33ms\u001b[0m\u001b[33ms\u001b[0m\u001b[33ms\u001b[0m\u001b[33ms\u001b[0m\u001b[33ms\u001b[0m\u001b[33ms\u001b[0m\u001b[33ms\u001b[0m\u001b[33ms\u001b[0m\u001b[31mF\u001b[0m\u001b[31mF\u001b[0m\u001b[31mF\u001b[0m\u001b[31mF\u001b[0m\u001b[31mF\u001b[0m\u001b[31mF\u001b[0m\u001b[32m.\u001b[0m\u001b[31mF\u001b[0m\u001b[31mF\u001b[0m\u001b[32m.\u001b[0m\u001b[36m                                             [ 86%]\u001b[0m\n",
      "../../../Desktop/27410 - Computer-Aided Cell Factory Engineering/.venv/lib/python3.7/site-packages/memote/suite/tests/test_essentiality.py \u001b[33ms\u001b[0m\u001b[36m [ 87%]\n",
      "\u001b[0m\u001b[36m                                                                         [ 87%]\u001b[0m\n",
      "../../../Desktop/27410 - Computer-Aided Cell Factory Engineering/.venv/lib/python3.7/site-packages/memote/suite/tests/test_growth.py \u001b[33ms\u001b[0m\u001b[36m [ 88%]\n",
      "\u001b[0m\u001b[36m                                                                         [ 88%]\u001b[0m\n",
      "../../../Desktop/27410 - Computer-Aided Cell Factory Engineering/.venv/lib/python3.7/site-packages/memote/suite/tests/test_matrix.py \u001b[32m.\u001b[0m\u001b[36m [ 89%]\n",
      "\u001b[0m\u001b[32m.\u001b[0m\u001b[32m.\u001b[0m\u001b[32m.\u001b[0m\u001b[36m                                                                      [ 91%]\u001b[0m\n",
      "../../../Desktop/27410 - Computer-Aided Cell Factory Engineering/.venv/lib/python3.7/site-packages/memote/suite/tests/test_sbml.py \u001b[32m.\u001b[0m\u001b[36m [ 91%]\n",
      "\u001b[0m\u001b[32m.\u001b[0m\u001b[36m                                                                        [ 92%]\u001b[0m\n",
      "../../../Desktop/27410 - Computer-Aided Cell Factory Engineering/.venv/lib/python3.7/site-packages/memote/suite/tests/test_sbo.py \u001b[31mF\u001b[0m\u001b[36m [ 93%]\n",
      "\u001b[0m\u001b[31mF\u001b[0m\u001b[31mF\u001b[0m\u001b[31mF\u001b[0m\u001b[31mF\u001b[0m\u001b[31mF\u001b[0m\u001b[31mF\u001b[0m\u001b[31mF\u001b[0m\u001b[33ms\u001b[0m\u001b[33ms\u001b[0m\u001b[32m.\u001b[0m\u001b[36m                                                               [100%]\u001b[0m\n",
      "\n",
      "\u001b[33m=============================== warnings summary ===============================\u001b[0m\n",
      "/Users/millegjedingskovsorensen/Desktop/27410 - Computer-Aided Cell Factory Engineering/.venv/lib/python3.7/site-packages/_pytest/config/__init__.py:886\n",
      "  /Users/millegjedingskovsorensen/Desktop/27410 - Computer-Aided Cell Factory Engineering/.venv/lib/python3.7/site-packages/_pytest/config/__init__.py:886: PytestAssertRewriteWarning: Module already imported so cannot be rewritten: anyio\n",
      "    self._mark_plugins_for_rewrite(hook)\n",
      "\n",
      "-- Docs: https://docs.pytest.org/en/latest/warnings.html\n",
      "\u001b[31m\u001b[1m======== 68 failed, 58 passed, 21 skipped, 1 warnings in 173.82 seconds ========\u001b[0m\n",
      "Writing snapshot report to 'data/iYO844_memote.html'.\n"
     ]
    }
   ],
   "source": [
    "!memote report snapshot data/iYO844.xml --filename data/iYO844_memote.html"
   ]
  }
 ],
 "metadata": {
  "kernelspec": {
   "display_name": "Python 3 (ipykernel)",
   "language": "python",
   "name": "python3"
  },
  "language_info": {
   "codemirror_mode": {
    "name": "ipython",
    "version": 3
   },
   "file_extension": ".py",
   "mimetype": "text/x-python",
   "name": "python",
   "nbconvert_exporter": "python",
   "pygments_lexer": "ipython3",
   "version": "3.7.16"
  }
 },
 "nbformat": 4,
 "nbformat_minor": 5
}
