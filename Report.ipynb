{
 "cells": [
  {
   "cell_type": "markdown",
   "metadata": {},
   "source": [
    "# [Title]"
   ]
  },
  {
   "cell_type": "markdown",
   "metadata": {},
   "source": [
    "## 1. Introduction"
   ]
  },
  {
   "cell_type": "markdown",
   "metadata": {},
   "source": [
    "### 1.1 Literature review of the compound (<500 words)"
   ]
  },
  {
   "cell_type": "markdown",
   "metadata": {},
   "source": [
    "### 1.2 Literature review of the cell factory (<500 words)"
   ]
  },
  {
   "cell_type": "markdown",
   "metadata": {},
   "source": [
    "## 2. Problem definition (<300 words)"
   ]
  },
  {
   "cell_type": "code",
   "execution_count": null,
   "metadata": {},
   "outputs": [],
   "source": []
  },
  {
   "cell_type": "markdown",
   "metadata": {},
   "source": [
    "## 3. Selection and assessment of existing GSM (<500 words)"
   ]
  },
  {
   "cell_type": "markdown",
   "metadata": {},
   "source": [
    "\n",
    "\n",
    "| GSMs         | Genes | Reactions | Metabolites | Refs.                  | Description                                                                                                                                                                                                       |\n",
    "|--------------|-------|-----------|-------------|------------------------|-------------------------------------------------------------------------------------------------------------------------------------------------------------------------------------------------------------------|\n",
    "| Center model | 534   | 563       | 456         | Goelzer et al. (2008)  | Manually curated metabolic, genetic, and regulatory networks of central metabolism using published data and expert knowledge.                                                                                     |\n",
    "| iYO844       | 844   | 1021      | 988         | Oh et al. (2007)       | An in silico (i) generated model based on genomic, biochemical, and physiological information and high-throughput phenotyping experiments.                                                                        |\n",
    "| iBsu1103     | 1103  | 1437      | 1139        | Henry et al. (2009)    | An in silico model based on SEED annotations  and fitting of estimated thermodynamic data with experimental data combined with a directionality prediction method.                                                |\n",
    "| iBsu1103v2   | 1103  | 1451      | 1156        | Tanaka et al. (2013)   | Systematic mapping of non-essential regions by deletion mutations fitted to iBsu1103 predict interval deletion outcomes led to improvement of the accuracy of iBsu1103.                                           |\n",
    "| iBsu1147     | 1147  | 1742      | 1456        | Hao et al. (2013)      | Model constructed from genomic and bibliomic data, the model iBsu1103 and subsequent modifications made in accordance with simulations related to biomass and ATP synthesis.                                      |\n",
    "| iBsu1144     | 1144  | 1955      | 1103        | Kocabaş et al. (2017)  | The model was constructed from thermodynamic analyses and elimination of unconnected-reactions in the renewed B. subtilis reaction network, BsRN-2016.                                                            |\n",
    "| eciYO844     | 844   | 1021      | 988         | Massaiu et al. (2019)  | An enzyme-constrained (ec) model made by integrating enzyme restrictions in iYO844 based on publicly available proteomics and enzyme kinetic parameters for central carbon metabolic reactions, the GECKO method. |\n",
    "| etiBsu1209   | 1209  | 1948      | 1595        | Bi et al. (2023)       | Updated version of iBsu1147 utilising machine learning tools to fill the gaps and additional integration of enzymatic constraints (e), thermodynamic constraints (t), and transcriptional regulatory networks.    |\n",
    "| ecBSU1       | 1155  | 3307      | 1459        | Wu et al. (2023)       | Updated version of iBsu1147 through gene-protein-reaction updates, biomass reaction standardization etc. and subsequent appliance of enzymatic constrains.                                                        |\n",
    "| iBB1018      | 1018  | 1577      | 1291        | Blázquez et al. (2023) | Constructed on the basis on iBsu1103v2 subjected to manual curation with updated biochemical and physiological knowledge and manual gap-filling analysis.                                                         |"
   ]
  },
  {
   "cell_type": "markdown",
   "metadata": {},
   "source": [
    "## 4. Computer-Aided Cell Factory Engineering (<1500 words if Category II project)"
   ]
  },
  {
   "cell_type": "markdown",
   "metadata": {},
   "source": [
    "## 5. Discussion (<500 words)"
   ]
  },
  {
   "cell_type": "markdown",
   "metadata": {},
   "source": [
    "## 6. Conclusion (<200 words)"
   ]
  },
  {
   "cell_type": "markdown",
   "metadata": {},
   "source": [
    "## References"
   ]
  },
  {
   "cell_type": "code",
   "execution_count": null,
   "metadata": {},
   "outputs": [],
   "source": []
  }
 ],
 "metadata": {
  "kernelspec": {
   "display_name": "python3.6",
   "language": "python",
   "name": "python3.6"
  },
  "language_info": {
   "codemirror_mode": {
    "name": "ipython",
    "version": 3
   },
   "file_extension": ".py",
   "mimetype": "text/x-python",
   "name": "python",
   "nbconvert_exporter": "python",
   "pygments_lexer": "ipython3",
   "version": "3.6.11"
  }
 },
 "nbformat": 4,
 "nbformat_minor": 4
}
