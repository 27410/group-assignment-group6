{
 "cells": [
  {
   "cell_type": "markdown",
   "metadata": {},
   "source": [
    "# Optimisation Target Analysis"
   ]
  },
  {
   "cell_type": "code",
   "execution_count": 1,
   "metadata": {},
   "outputs": [],
   "source": [
    "from cobra.io import read_sbml_model\n",
    "from cameo.strain_design import OptGene, OptKnock"
   ]
  },
  {
   "cell_type": "code",
   "execution_count": 2,
   "metadata": {},
   "outputs": [
    {
     "data": {
      "text/html": [
       "\n",
       "        <table>\n",
       "            <tr>\n",
       "                <td><strong>Name</strong></td>\n",
       "                <td>iYO844_modified</td>\n",
       "            </tr><tr>\n",
       "                <td><strong>Memory address</strong></td>\n",
       "                <td>0x01a77178aa08</td>\n",
       "            </tr><tr>\n",
       "                <td><strong>Number of metabolites</strong></td>\n",
       "                <td>996</td>\n",
       "            </tr><tr>\n",
       "                <td><strong>Number of reactions</strong></td>\n",
       "                <td>1258</td>\n",
       "            </tr><tr>\n",
       "                <td><strong>Number of groups</strong></td>\n",
       "                <td>0</td>\n",
       "            </tr><tr>\n",
       "                <td><strong>Objective expression</strong></td>\n",
       "                <td>1.0*BIOMASS_BS_10 - 1.0*BIOMASS_BS_10_reverse_8788b</td>\n",
       "            </tr><tr>\n",
       "                <td><strong>Compartments</strong></td>\n",
       "                <td>cytosol, extracellular space</td>\n",
       "            </tr>\n",
       "          </table>"
      ],
      "text/plain": [
       "<Model iYO844_modified at 0x1a77178aa08>"
      ]
     },
     "execution_count": 2,
     "metadata": {},
     "output_type": "execute_result"
    }
   ],
   "source": [
    "# Get the model for analysis\n",
    "model = read_sbml_model('data/iYO844_modified.xml')\n",
    "model.solver = \"glpk\" # mathematical programming solver\n",
    "model"
   ]
  },
  {
   "cell_type": "markdown",
   "metadata": {},
   "source": [
    "## Optimisation target analysis using OptGene"
   ]
  },
  {
   "cell_type": "code",
   "execution_count": 3,
   "metadata": {},
   "outputs": [
    {
     "name": "stdout",
     "output_type": "stream",
     "text": [
      "Starting optimization at Tue, 05 Dec 2023 11:39:54\n"
     ]
    },
    {
     "data": {
      "application/vnd.jupyter.widget-view+json": {
       "model_id": "63535919a45848a0a4ad24328f6d1706",
       "version_major": 2,
       "version_minor": 0
      },
      "text/plain": [
       "HBox()"
      ]
     },
     "metadata": {},
     "output_type": "display_data"
    },
    {
     "name": "stderr",
     "output_type": "stream",
     "text": [
      "No solutions found\n"
     ]
    },
    {
     "name": "stdout",
     "output_type": "stream",
     "text": [
      "Finished after 00:04:42\n"
     ]
    },
    {
     "data": {
      "text/html": [
       "\n",
       "        <h3>OptGene Result</h3>\n",
       "        <ul>\n",
       "            <li>Simulation: fba<br/></li>\n",
       "            <li>Objective Function: $$bpcy = \\frac{(BIOMASS\\_BS\\_10 * ALDH1\\_CYP71AV1)}{EX\\_glc\\_\\_D\\_e}$$<br/></li>\n",
       "        </ul>\n",
       "        <div>\n",
       "<style scoped>\n",
       "    .dataframe tbody tr th:only-of-type {\n",
       "        vertical-align: middle;\n",
       "    }\n",
       "\n",
       "    .dataframe tbody tr th {\n",
       "        vertical-align: top;\n",
       "    }\n",
       "\n",
       "    .dataframe thead th {\n",
       "        text-align: right;\n",
       "    }\n",
       "</style>\n",
       "<table border=\"1\" class=\"dataframe\">\n",
       "  <thead>\n",
       "    <tr style=\"text-align: right;\">\n",
       "      <th></th>\n",
       "      <th>reactions</th>\n",
       "      <th>genes</th>\n",
       "      <th>size</th>\n",
       "      <th>fva_min</th>\n",
       "      <th>fva_max</th>\n",
       "      <th>target_flux</th>\n",
       "      <th>biomass_flux</th>\n",
       "      <th>yield</th>\n",
       "      <th>fitness</th>\n",
       "    </tr>\n",
       "  </thead>\n",
       "  <tbody>\n",
       "  </tbody>\n",
       "</table>\n",
       "</div>\n",
       "        "
      ],
      "text/plain": [
       "<cameo.strain_design.heuristic.evolutionary_based.OptGeneResult at 0x1a777880948>"
      ]
     },
     "execution_count": 3,
     "metadata": {},
     "output_type": "execute_result"
    }
   ],
   "source": [
    "# Run analysis with OptGene to find optimisation targets\n",
    "optgene = OptGene(model)\n",
    "result = optgene.run(target=model.reactions.ALDH1_CYP71AV1,     # Reaction producing dihydroartemisinic acid\n",
    "                     biomass=model.reactions.BIOMASS_BS_10,\n",
    "                     substrate=model.reactions.EX_glc__D_e,     # Using glucose as substrate\n",
    "                     max_evaluations=5000,\n",
    "                     plot=False)\n",
    "\n",
    "result"
   ]
  },
  {
   "cell_type": "markdown",
   "metadata": {},
   "source": [
    "OptGene has not found any options for optimising the production of dihydroartemisinic acid."
   ]
  },
  {
   "cell_type": "markdown",
   "metadata": {},
   "source": [
    "## Knock-out target analysis with OptKnock"
   ]
  },
  {
   "cell_type": "markdown",
   "metadata": {},
   "source": [
    "### With the full GSM"
   ]
  },
  {
   "cell_type": "code",
   "execution_count": null,
   "metadata": {},
   "outputs": [],
   "source": [
    "# Analysis with OptKnock of the reactions not involved with biomass or dihydroartemisinic acid production\n",
    "optknock = OptKnock(model, fraction_of_optimum=0.1)\n",
    "result = optknock.run(max_knockouts=1,\n",
    "                      target=\"ALDH1_CYP71AV1\",     # Production of dihydroartemisinic acid\n",
    "                      biomass=\"BIOMASS_BS_10\")\n",
    "\n",
    "result"
   ]
  },
  {
   "cell_type": "markdown",
   "metadata": {},
   "source": [
    "This code takes a long time because all the genes are tried for being knocked out. Even essensial ones. Hence it is necessary to narrow the list of potential target genes down."
   ]
  },
  {
   "cell_type": "markdown",
   "metadata": {},
   "source": [
    "### With non-essential genes as possible knockouts\n",
    "Because of the necessary time for OptKnock to run, the possible knock-out targets are narrowed down from all reactions in the cell to all the reactions not necessary for either biomass formation or product production.\n",
    "\n",
    "According to the documentation for OptKnock, inserting a list of reactions after the model will make these reactions the possible knockout targets. This documentation can be found at https://opencobra.github.io/cobratoolbox/stable/modules/design/index.html?highlight=OptKnock#src.design..OptKnock."
   ]
  },
  {
   "cell_type": "code",
   "execution_count": 4,
   "metadata": {},
   "outputs": [],
   "source": [
    "# Finding non-essential reactions for OptKnock to improve runtime\n",
    "non_essential = []\n",
    "not_necessary = []\n",
    "\n",
    "# Looping through all reactions in the model and knocking them out one at a time\n",
    "for reaction in model.reactions:\n",
    "    with model:\n",
    "        reaction.knock_out()\n",
    "        # The ability to produce biomass with the knock-out leads to the reaction being deemed non-essential\n",
    "        # Essential reactions are marked with 0. as the model objective can't be reached and are filtered out\n",
    "        if model.slim_optimize(error_value=0.) != 0.0:\n",
    "            non_essential.append(reaction)\n",
    "\n",
    "# Looping through all non-essential reactions and knocking them out one at a time\n",
    "for reaction in non_essential:\n",
    "    with model:\n",
    "        reaction.knock_out()\n",
    "        # Model objective is formation of dihydroartemisinic acid\n",
    "        model.objective = model.reactions.ALDH1_CYP71AV1\n",
    "        # The ability to produce the product with the knock-out leads to the reaction being deemed not important\n",
    "        if model.slim_optimize(error_value=0.) != 0.0:\n",
    "            not_necessary.append(reaction)"
   ]
  },
  {
   "cell_type": "code",
   "execution_count": 5,
   "metadata": {},
   "outputs": [
    {
     "name": "stdout",
     "output_type": "stream",
     "text": [
      "1258 1191 1186\n"
     ]
    }
   ],
   "source": [
    "# Check that the not_necessary reactions is the smallest list\n",
    "print(len(model.reactions),len(non_essential),len(not_necessary))"
   ]
  },
  {
   "cell_type": "code",
   "execution_count": null,
   "metadata": {},
   "outputs": [],
   "source": [
    "# Analysis with OptKnock of the reactions not involved with biomass or dihydroartemisinic acid production\n",
    "optknock = OptKnock(model, not_necessary, fraction_of_optimum=0.1)\n",
    "result = optknock.run(max_knockouts=1,\n",
    "                      target=\"ALDH1_CYP71AV1\",     # Production of dihydroartemisinic acid\n",
    "                      biomass=\"BIOMASS_BS_10\")\n",
    "\n",
    "result"
   ]
  },
  {
   "cell_type": "markdown",
   "metadata": {},
   "source": [
    "### Excluding essential genes\n",
    "\n",
    "Because of the necessary time for OptKnock to run, the possible knock-out targets are narrowed down from all reactions in the cell to all the reactions not necessary for either biomass formation or product production.\n",
    "\n",
    "According to the documentation for the OptKnock function, when getting help to the function within the code (see picture below), the function will always exclude essensial reactions from the list of genes to knock-out.\n",
    "What we want to do is to find the essential genes for production of dihydroartemisinic acid and also exclude these from the list of genes to knock-out.\n",
    "\n",
    "![OptKnock documentation](figures/OptKnock_class_doc.png)\n",
    "\n",
    "This is because the function has an option to include a list of genes to exclude from trying to knock them out."
   ]
  },
  {
   "cell_type": "code",
   "execution_count": 6,
   "metadata": {},
   "outputs": [
    {
     "name": "stdout",
     "output_type": "stream",
     "text": [
      "12\n"
     ]
    }
   ],
   "source": [
    "# Finding essential reactions for OptKnock to exclude from the possible genes to knock out\n",
    "# This will likely improve runtime\n",
    "essential_DHAA = []\n",
    "\n",
    "# Looping through all reactions in the model and knocking them out one at a time\n",
    "for reaction in model.reactions:\n",
    "    with model:\n",
    "        reaction.knock_out()\n",
    "        # Model objective is formation of dihydroartemisinic acid (DHAA)\n",
    "        model.objective = model.reactions.ALDH1_CYP71AV1\n",
    "        # The inability to produce DHAA with the knock-out leads to the reaction being essential\n",
    "        # Essential reactions are marked with 0. as the model objective can't be reached and are collected\n",
    "        if model.slim_optimize(error_value=0.) == 0.0:\n",
    "                essential_DHAA.append(reaction)\n",
    "\n",
    "# Check number of essential genes\n",
    "print(len(essential_DHAA))"
   ]
  },
  {
   "cell_type": "code",
   "execution_count": null,
   "metadata": {},
   "outputs": [],
   "source": [
    "# Analysis with OptKnock of the reactions not involved with biomass or dihydroartemisinic acid production\n",
    "optknock = OptKnock(model, essential_DHAA, fraction_of_optimum=0.1)\n",
    "result_optknock = optknock.run(max_knockouts=1,\n",
    "                      target=\"ALDH1_CYP71AV1\",     # Production of dihydroartemisinic acid\n",
    "                      biomass=\"BIOMASS_BS_10\")\n",
    "\n",
    "print(result_optknock)"
   ]
  }
 ],
 "metadata": {
  "kernelspec": {
   "display_name": "project",
   "language": "python",
   "name": "python3"
  },
  "language_info": {
   "codemirror_mode": {
    "name": "ipython",
    "version": 3
   },
   "file_extension": ".py",
   "mimetype": "text/x-python",
   "name": "python",
   "nbconvert_exporter": "python",
   "pygments_lexer": "ipython3",
   "version": "3.7.16"
  }
 },
 "nbformat": 4,
 "nbformat_minor": 2
}
