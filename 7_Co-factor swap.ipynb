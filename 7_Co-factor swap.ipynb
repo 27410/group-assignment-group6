{
 "cells": [
  {
   "cell_type": "markdown",
   "metadata": {},
   "source": [
    "# Design for Co-Factor Swapping"
   ]
  },
  {
   "cell_type": "markdown",
   "metadata": {},
   "source": [
    "The co-factor swapping analysis can be used to find reactions where one cofactor can be switched for another, leading to increased availability for cofactors used in the target reaction, DHAA production.\n",
    "\n",
    "The main function used in this analysis is CofactorSwapAnalysis. \n",
    "\n",
    "In order to enhance the availability of a cofactor that is rate-limiting for the generation of a target metabolite and raise its theoretical yield, CofactorSwapOptimization uses an algorithm to determine which reactions in the model can undergo a swap in cofactor specificity.\n"
   ]
  },
  {
   "cell_type": "code",
   "execution_count": 5,
   "metadata": {},
   "outputs": [],
   "source": [
    "# Initialising all required packages\n",
    "from cobra.io import read_sbml_model, write_sbml_model #importing functions needed\n",
    "from cobra import Reaction, Metabolite\n",
    "from cameo.strain_design.heuristic.evolutionary_based import CofactorSwapOptimization\n",
    "from cameo.strain_design.heuristic.evolutionary.objective_functions import product_yield\n",
    "from cameo.strain_design.heuristic.evolutionary.optimization import CofactorSwapOptimization, NADH_NADPH"
   ]
  },
  {
   "cell_type": "code",
   "execution_count": 6,
   "metadata": {},
   "outputs": [
    {
     "data": {
      "text/html": [
       "\n",
       "        <table>\n",
       "            <tr>\n",
       "                <td><strong>Name</strong></td>\n",
       "                <td>iYO844_modified</td>\n",
       "            </tr><tr>\n",
       "                <td><strong>Memory address</strong></td>\n",
       "                <td>0x07f84702463d0</td>\n",
       "            </tr><tr>\n",
       "                <td><strong>Number of metabolites</strong></td>\n",
       "                <td>996</td>\n",
       "            </tr><tr>\n",
       "                <td><strong>Number of reactions</strong></td>\n",
       "                <td>1258</td>\n",
       "            </tr><tr>\n",
       "                <td><strong>Number of groups</strong></td>\n",
       "                <td>0</td>\n",
       "            </tr><tr>\n",
       "                <td><strong>Objective expression</strong></td>\n",
       "                <td>1.0*BIOMASS_BS_10 - 1.0*BIOMASS_BS_10_reverse_8788b</td>\n",
       "            </tr><tr>\n",
       "                <td><strong>Compartments</strong></td>\n",
       "                <td>cytosol, extracellular space</td>\n",
       "            </tr>\n",
       "          </table>"
      ],
      "text/plain": [
       "<Model iYO844_modified at 0x7f84702463d0>"
      ]
     },
     "execution_count": 6,
     "metadata": {},
     "output_type": "execute_result"
    }
   ],
   "source": [
    "model = read_sbml_model(\"data/iYO844_modified.xml\")\n",
    "model"
   ]
  },
  {
   "cell_type": "code",
   "execution_count": 7,
   "metadata": {},
   "outputs": [
    {
     "name": "stdout",
     "output_type": "stream",
     "text": [
      "0.11796638932239784\n",
      "0.36342857142856866\n"
     ]
    }
   ],
   "source": [
    "# Calculating and printing the maximum theoretical growth rate and DHAA production using the current model\n",
    "with model:\n",
    "    base_max_growth = model.slim_optimize()\n",
    "    print(base_max_growth)\n",
    "    model.objective = model.reactions.ALDH1_CYP71AV1\n",
    "    base_max_production = model.slim_optimize()\n",
    "    print(base_max_production)"
   ]
  },
  {
   "cell_type": "code",
   "execution_count": 8,
   "metadata": {},
   "outputs": [],
   "source": [
    "# Setting up the mathematical programming solver for optimisation\n",
    "# Free source GLPK (GNU Linear Programming Kit)\n",
    "model.solver = \"glpk\" \n",
    "\n",
    "# Defining the biomass from the reaction describing biomass formation in the model\n",
    "biomass = model.reactions.BIOMASS_BS_10 \n",
    "\n",
    "# Setting lower bound for biomass\n",
    "biomass.lower_bound = 0.1\n",
    "\n",
    "# Defining the demand for target reaction dihydroartemisinic acid\n",
    "demand = model.reactions.DM_DHAA_c\n",
    "\n",
    "# Setting the objective of the model to the variable demand\n",
    "model.objective = demand"
   ]
  },
  {
   "cell_type": "code",
   "execution_count": 9,
   "metadata": {},
   "outputs": [
    {
     "data": {
      "text/latex": [
       "$$yield = \\frac{DM\\_DHAA\\_c}{BIOMASS\\_BS\\_10}$$"
      ],
      "text/plain": [
       "<cameo.strain_design.heuristic.evolutionary.objective_functions.product_yield at 0x7f8471ecb4d0>"
      ]
     },
     "execution_count": 9,
     "metadata": {},
     "output_type": "execute_result"
    }
   ],
   "source": [
    "# Defining the product yield as DHAA production as a function of biomass\n",
    "prod_yield = product_yield(model.reactions.DM_DHAA_c, biomass) \n",
    "prod_yield"
   ]
  },
  {
   "cell_type": "code",
   "execution_count": 10,
   "metadata": {},
   "outputs": [],
   "source": [
    "# Swapping NADPH to NADH                                                                               \n",
    "swap_opt = CofactorSwapOptimization(model=model, objective_function = prod_yield, plot=True)"
   ]
  },
  {
   "cell_type": "code",
   "execution_count": 11,
   "metadata": {},
   "outputs": [
    {
     "name": "stdout",
     "output_type": "stream",
     "text": [
      "Starting optimization at Tue, 05 Dec 2023 19:20:48\n"
     ]
    },
    {
     "data": {
      "application/vnd.jupyter.widget-view+json": {
       "model_id": "2c16a0665bf44fbf8791a8063c98185d",
       "version_major": 2,
       "version_minor": 0
      },
      "text/plain": [
       "HBox()"
      ]
     },
     "metadata": {},
     "output_type": "display_data"
    },
    {
     "name": "stdout",
     "output_type": "stream",
     "text": [
      "Finished after 00:01:12\n",
      "CPU times: user 1min 25s, sys: 995 ms, total: 1min 26s\n",
      "Wall time: 2min\n"
     ]
    },
    {
     "data": {
      "text/html": [
       "\n",
       "        <h4>Result:</h4>\n",
       "        <ul>\n",
       "            <li>model: iYO844_modified</li>\n",
       "            <li>heuristic: GA</li>\n",
       "            <li>objective function: $$yield = \\frac{DM\\_DHAA\\_c}{BIOMASS\\_BS\\_10}$$</li>\n",
       "            <li>simulation method: pfba</li>\n",
       "            <li>target type: cofactor-swap</li>\n",
       "        <ul>\n",
       "        <div>\n",
       "<style scoped>\n",
       "    .dataframe tbody tr th:only-of-type {\n",
       "        vertical-align: middle;\n",
       "    }\n",
       "\n",
       "    .dataframe tbody tr th {\n",
       "        vertical-align: top;\n",
       "    }\n",
       "\n",
       "    .dataframe thead th {\n",
       "        text-align: right;\n",
       "    }\n",
       "</style>\n",
       "<table border=\"1\" class=\"dataframe\">\n",
       "  <thead>\n",
       "    <tr style=\"text-align: right;\">\n",
       "      <th></th>\n",
       "      <th>index</th>\n",
       "      <th>targets</th>\n",
       "      <th>fitness</th>\n",
       "    </tr>\n",
       "  </thead>\n",
       "  <tbody>\n",
       "  </tbody>\n",
       "</table>\n",
       "</div>"
      ],
      "text/plain": [
       "<cameo.strain_design.heuristic.evolutionary.optimization.TargetOptimizationResult at 0x7f846fccf810>"
      ]
     },
     "execution_count": 11,
     "metadata": {},
     "output_type": "execute_result"
    }
   ],
   "source": [
    "%%time\n",
    "result = swap_opt.run(max_size=5) #running the model, restricting to 5 possible co-factor swaps\n",
    "result"
   ]
  },
  {
   "cell_type": "markdown",
   "metadata": {},
   "source": [
    "The co-factor swap analysis reveals no reactions that, upon changing co-factor specificity, would lead to an increased theoretical yield of dihydroartemisinic acid."
   ]
  },
  {
   "cell_type": "markdown",
   "metadata": {},
   "source": [
    "### Manual cofactor swapping\n",
    "Investigation of swapping the co-factor specificity of CYP71AV1 from NADP+NADH to NAD+NADH will allow an increased theoretical yield of dihydroartesiminic acid. Several of the introduced reactions utilize CYP71AV1; reaction 3, 4 and 6."
   ]
  },
  {
   "cell_type": "code",
   "execution_count": 12,
   "metadata": {},
   "outputs": [],
   "source": [
    "# Generating a copy of iY0844_modified in a variable to add the reactions to the new model\n",
    "iYO844_modified_swap = model.copy()"
   ]
  },
  {
   "cell_type": "code",
   "execution_count": 13,
   "metadata": {},
   "outputs": [
    {
     "name": "stdout",
     "output_type": "stream",
     "text": [
      "amorph_c + nad_c + o2_c --> artalc_c + h2o_c + nadh_c\n"
     ]
    }
   ],
   "source": [
    "# Creating the reaction\n",
    "reaction_3_swap = Reaction('CYP71AV1_swap') # CYP71AV1: amorphadiene oxidase\n",
    "\n",
    "# Adding the metabolites based on the stoichiometric reaction\n",
    "reaction_3_swap.add_metabolites({model.metabolites.get_by_id('amorph_c'): -1,\n",
    "                            model.metabolites.get_by_id('o2_c'): -1,\n",
    "                            model.metabolites.get_by_id('nad_c'): -1,\n",
    "                            model.metabolites.get_by_id('artalc_c'): 1, \n",
    "                            model.metabolites.get_by_id('nadh_c'): 1,\n",
    "                            model.metabolites.get_by_id('h2o_c'): 1})\n",
    "\n",
    "print(reaction_3_swap.build_reaction_string()) # Printing reaction to check\n",
    "iYO844_modified_swap.add_reactions([reaction_3_swap]) # Adding the reaction to the new iY0844 model"
   ]
  },
  {
   "cell_type": "code",
   "execution_count": 14,
   "metadata": {},
   "outputs": [
    {
     "name": "stdout",
     "output_type": "stream",
     "text": [
      "artalc_c + nad_c + o2_c --> DHAA_c + h2o_c + nadh_c\n"
     ]
    }
   ],
   "source": [
    "# Creating the reaction\n",
    "reaction_6_swap = Reaction('ALDH1_CYP71AV1_swap') # ALDH1: aldehyde dehydrogenase 1, CYP71AV1: amorphadiene oxidase\n",
    "\n",
    "# Adding the metabolites based on the stoichiometric reaction\n",
    "reaction_6_swap.add_metabolites({model.metabolites.get_by_id('artalc_c'): -1,\n",
    "                            model.metabolites.get_by_id('o2_c'): -1,\n",
    "                            model.metabolites.get_by_id('nad_c'): -1,\n",
    "                            model.metabolites.get_by_id('DHAA_c'): 1, \n",
    "                            model.metabolites.get_by_id('nadh_c'): 1,\n",
    "                            model.metabolites.get_by_id('h2o_c'): 1})\n",
    "\n",
    "print(reaction_6_swap.build_reaction_string()) # Printing reaction to check\n",
    "iYO844_modified_swap.add_reactions([reaction_6_swap]) # Adding the reaction to the new iY0844 model"
   ]
  },
  {
   "cell_type": "markdown",
   "metadata": {},
   "source": [
    "The original reactions 3, 4 and 6 are knocked out the new iYO844_modified_swap GSM"
   ]
  },
  {
   "cell_type": "code",
   "execution_count": 15,
   "metadata": {},
   "outputs": [],
   "source": [
    "model.reactions.CYP71AV1.knock_out()\n",
    "model.reactions.ADH1_CYP71AV1.knock_out()\n",
    "model.reactions.ALDH1_CYP71AV1.knock_out()"
   ]
  },
  {
   "cell_type": "code",
   "execution_count": 16,
   "metadata": {},
   "outputs": [
    {
     "name": "stdout",
     "output_type": "stream",
     "text": [
      "0.11796638932239714\n",
      "0.05535050485715387\n"
     ]
    }
   ],
   "source": [
    "# Calculating and printing the maximum theoretical growth rate and DHAA production using the coswap model\n",
    "with iYO844_modified_swap:\n",
    "    iYO844_modified_swap.objective = iYO844_modified_swap.reactions.BIOMASS_BS_10\n",
    "    swap_max_growth = iYO844_modified_swap.slim_optimize()\n",
    "    print(swap_max_growth)\n",
    "    iYO844_modified_swap.objective = iYO844_modified_swap.reactions.ALDH1_CYP71AV1_swap\n",
    "    swap_max_production = iYO844_modified_swap.slim_optimize()\n",
    "    print(swap_max_production)"
   ]
  },
  {
   "cell_type": "code",
   "execution_count": 17,
   "metadata": {},
   "outputs": [
    {
     "name": "stdout",
     "output_type": "stream",
     "text": [
      "Max growth has changed by -0.0 percent\n",
      "Max production has changed by -84.77 percent\n"
     ]
    }
   ],
   "source": [
    "print(\"Max growth has changed by\", \\\n",
    "      round((swap_max_growth - base_max_growth) / base_max_growth * 100, 2), \\\n",
    "      \"percent\")\n",
    "\n",
    "print(\"Max production has changed by\", \\\n",
    "      round((swap_max_production - base_max_production) / base_max_production * 100, 2), \\\n",
    "      \"percent\")"
   ]
  },
  {
   "cell_type": "markdown",
   "metadata": {},
   "source": [
    "Co-factor swapping of CYP71AV1 does not result in increased yield of DHAA. \\\n",
    "\n",
    "As a last resort, the co-factor swap analysis is run on this new swap model, to test if a model with two co-factor swaps (CYP71AV1 and another enzyme) would lead to increased yield. "
   ]
  },
  {
   "cell_type": "code",
   "execution_count": 18,
   "metadata": {},
   "outputs": [],
   "source": [
    "# Swapping NADPH to NADH                                                                               \n",
    "swap_opt = CofactorSwapOptimization(model=iYO844_modified_swap, objective_function = prod_yield, plot=True)"
   ]
  },
  {
   "cell_type": "code",
   "execution_count": 19,
   "metadata": {},
   "outputs": [
    {
     "name": "stdout",
     "output_type": "stream",
     "text": [
      "Starting optimization at Tue, 05 Dec 2023 19:22:55\n"
     ]
    },
    {
     "data": {
      "application/vnd.jupyter.widget-view+json": {
       "model_id": "1946ed669d02470286f0b9947fc3e8eb",
       "version_major": 2,
       "version_minor": 0
      },
      "text/plain": [
       "HBox()"
      ]
     },
     "metadata": {},
     "output_type": "display_data"
    },
    {
     "name": "stdout",
     "output_type": "stream",
     "text": [
      "Finished after 00:01:21\n",
      "CPU times: user 1min 43s, sys: 1.4 s, total: 1min 44s\n",
      "Wall time: 2min 42s\n"
     ]
    },
    {
     "data": {
      "text/html": [
       "\n",
       "        <h4>Result:</h4>\n",
       "        <ul>\n",
       "            <li>model: iYO844_modified</li>\n",
       "            <li>heuristic: GA</li>\n",
       "            <li>objective function: $$yield = \\frac{DM\\_DHAA\\_c}{BIOMASS\\_BS\\_10}$$</li>\n",
       "            <li>simulation method: pfba</li>\n",
       "            <li>target type: cofactor-swap</li>\n",
       "        <ul>\n",
       "        <div>\n",
       "<style scoped>\n",
       "    .dataframe tbody tr th:only-of-type {\n",
       "        vertical-align: middle;\n",
       "    }\n",
       "\n",
       "    .dataframe tbody tr th {\n",
       "        vertical-align: top;\n",
       "    }\n",
       "\n",
       "    .dataframe thead th {\n",
       "        text-align: right;\n",
       "    }\n",
       "</style>\n",
       "<table border=\"1\" class=\"dataframe\">\n",
       "  <thead>\n",
       "    <tr style=\"text-align: right;\">\n",
       "      <th></th>\n",
       "      <th>index</th>\n",
       "      <th>targets</th>\n",
       "      <th>fitness</th>\n",
       "    </tr>\n",
       "  </thead>\n",
       "  <tbody>\n",
       "  </tbody>\n",
       "</table>\n",
       "</div>"
      ],
      "text/plain": [
       "<cameo.strain_design.heuristic.evolutionary.optimization.TargetOptimizationResult at 0x7f846c9fef10>"
      ]
     },
     "execution_count": 19,
     "metadata": {},
     "output_type": "execute_result"
    }
   ],
   "source": [
    "%%time\n",
    "result = swap_opt.run(max_size=5)\n",
    "result"
   ]
  },
  {
   "cell_type": "markdown",
   "metadata": {},
   "source": [
    "This second co-factor swap analysis also reveals no reactions that would lead to an increased theoretical yield of DHAA."
   ]
  }
 ],
 "metadata": {
  "kernelspec": {
   "display_name": "Python 3 (ipykernel)",
   "language": "python",
   "name": "python3"
  },
  "language_info": {
   "codemirror_mode": {
    "name": "ipython",
    "version": 3
   },
   "file_extension": ".py",
   "mimetype": "text/x-python",
   "name": "python",
   "nbconvert_exporter": "python",
   "pygments_lexer": "ipython3",
   "version": "3.7.16"
  }
 },
 "nbformat": 4,
 "nbformat_minor": 5
}
