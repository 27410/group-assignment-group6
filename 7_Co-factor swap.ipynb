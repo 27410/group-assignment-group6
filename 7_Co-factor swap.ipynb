{
 "cells": [
  {
   "cell_type": "markdown",
   "metadata": {},
   "source": [
    "### Design for Co-Factor Swapping"
   ]
  },
  {
   "cell_type": "markdown",
   "metadata": {},
   "source": [
    "The objective of this analysis is to investigate if productivity can be improved by swapping NADPH for NADH as a cofactor in the model, in order to optimize flux through reactions requiring CYP71AV1. The co-factor swap analysis will determine if an increase in the available NADPH will lead to increased production of dihydroartemisinic acid, our target compound. The hypothesis proposed, that changing co-factor specificity may increase production of a target compound, is supported by work conducted by King and Feist (2014) who showed that co-factor swapping in central carbon metabolism has the potential to improve (theoretical) yields of some amino acids in _S. cerevisiae_. The main function used in this analysis is CofactorSwapAnalysis. In order to enhance the availability of a cofactor that is rate-limiting for the generation of a target metabolite and raise its theoretical yield, CofactorSwapOptimization uses an algorithm to determine which reactions in the model can undergo a swap in cofactor specificity."
   ]
  },
  {
   "cell_type": "code",
   "execution_count": 1,
   "metadata": {},
   "outputs": [],
   "source": [
    "# Initialising all required packages\n",
    "from cobra.io import read_sbml_model, write_sbml_model #importing functions needed\n",
    "from cobra import Reaction, Metabolite\n",
    "from cameo.strain_design.heuristic.evolutionary_based import CofactorSwapOptimization\n",
    "from cameo.strain_design.heuristic.evolutionary.objective_functions import product_yield\n",
    "from cameo.strain_design.heuristic.evolutionary.optimization import CofactorSwapOptimization, NADH_NADPH"
   ]
  },
  {
   "cell_type": "code",
   "execution_count": 2,
   "metadata": {},
   "outputs": [
    {
     "data": {
      "text/html": [
       "\n",
       "        <table>\n",
       "            <tr>\n",
       "                <td><strong>Name</strong></td>\n",
       "                <td>iYO844</td>\n",
       "            </tr><tr>\n",
       "                <td><strong>Memory address</strong></td>\n",
       "                <td>0x01eabb20c708</td>\n",
       "            </tr><tr>\n",
       "                <td><strong>Number of metabolites</strong></td>\n",
       "                <td>996</td>\n",
       "            </tr><tr>\n",
       "                <td><strong>Number of reactions</strong></td>\n",
       "                <td>1258</td>\n",
       "            </tr><tr>\n",
       "                <td><strong>Number of groups</strong></td>\n",
       "                <td>0</td>\n",
       "            </tr><tr>\n",
       "                <td><strong>Objective expression</strong></td>\n",
       "                <td>1.0*BIOMASS_BS_10 - 1.0*BIOMASS_BS_10_reverse_8788b</td>\n",
       "            </tr><tr>\n",
       "                <td><strong>Compartments</strong></td>\n",
       "                <td>cytosol, extracellular space</td>\n",
       "            </tr>\n",
       "          </table>"
      ],
      "text/plain": [
       "<Model iYO844 at 0x1eabb20c708>"
      ]
     },
     "execution_count": 2,
     "metadata": {},
     "output_type": "execute_result"
    }
   ],
   "source": [
    "model = read_sbml_model(\"data/iYO844_modified.xml\")\n",
    "model"
   ]
  },
  {
   "cell_type": "code",
   "execution_count": 3,
   "metadata": {},
   "outputs": [
    {
     "name": "stdout",
     "output_type": "stream",
     "text": [
      "0.11796638932239784\n",
      "0.36342857142856866\n"
     ]
    }
   ],
   "source": [
    "with model:\n",
    "    base_max_growth = model.slim_optimize()\n",
    "    print(base_max_growth)\n",
    "    model.objective = model.reactions.ALDH1_CYP71AV1\n",
    "    base_max_production = model.slim_optimize()\n",
    "    print(base_max_production)"
   ]
  },
  {
   "cell_type": "code",
   "execution_count": 4,
   "metadata": {},
   "outputs": [],
   "source": [
    "model.solver = \"glpk\" #specifying the solver for optimizing to be used as GLPK (GNU Linear Programming Kit)\n",
    "\n",
    "biomass = model.reactions.BIOMASS_BS_10 #defining the biomass from the reaction describing biomass formation in our model\n",
    "\n",
    "biomass.lower_bound = 0.1 # WHY ARE WE SETTING THE LOWER BOUND FOR THIS\n",
    "\n",
    "demand = model.reactions.DM_dihydroartaci_c # Defining the demand for our target reaction of dihydroartemisinic acid\n",
    "#DM_ defines the demand for us.\n",
    "\n",
    "model.objective = demand # Setting the objective of the model to the variable demand"
   ]
  },
  {
   "cell_type": "code",
   "execution_count": 5,
   "metadata": {},
   "outputs": [
    {
     "data": {
      "text/latex": [
       "$$yield = \\frac{DM\\_dihydroartaci\\_c}{BIOMASS\\_BS\\_10}$$"
      ],
      "text/plain": [
       "<cameo.strain_design.heuristic.evolutionary.objective_functions.product_yield at 0x1eae7400b08>"
      ]
     },
     "execution_count": 5,
     "metadata": {},
     "output_type": "execute_result"
    }
   ],
   "source": [
    "#Her skal vi have vores nye boundary, som optimerer for produktionen af vores ønskede stof\n",
    "# prod_yield = product_yield(demand, model.reactions.EX_glc__D_e) - this has been done by other groups, but for us, yields only the biomass as result\n",
    "# prod_yield = product_yield(model.reactions.ALDH1_CYP71AV1, biomass) - gives same result as below\n",
    "prod_yield = product_yield(model.reactions.DM_dihydroartaci_c, biomass) \n",
    "prod_yield"
   ]
  },
  {
   "cell_type": "code",
   "execution_count": 6,
   "metadata": {},
   "outputs": [],
   "source": [
    "# Swapping NADPH to NADH                                                                               \n",
    "#swap_opt = CofactorSwapOptimization(model=model, objective_function = prod_yield, plot=True, cofactor_id_swaps=(['nad_c', 'nadh_c'], ['nadp_c', 'nadph_c']))\n",
    "swap_opt = CofactorSwapOptimization(model=model, objective_function = prod_yield, plot=True)"
   ]
  },
  {
   "cell_type": "code",
   "execution_count": 7,
   "metadata": {},
   "outputs": [
    {
     "name": "stdout",
     "output_type": "stream",
     "text": [
      "Starting optimization at Tue, 21 Nov 2023 15:22:35\n"
     ]
    },
    {
     "data": {
      "application/vnd.jupyter.widget-view+json": {
       "model_id": "ad6c57b6642343a1b52f786e78f35abb",
       "version_major": 2,
       "version_minor": 0
      },
      "text/plain": [
       "HBox()"
      ]
     },
     "metadata": {},
     "output_type": "display_data"
    },
    {
     "name": "stdout",
     "output_type": "stream",
     "text": [
      "Finished after 00:00:26\n",
      "Wall time: 49 s\n"
     ]
    }
   ],
   "source": [
    "%%time\n",
    "result = swap_opt.run(max_size=5) #can be changed, but I'M NOT QUITE SURE WHAT EXACTLY CHANGES (looks like time in min)\n",
    "#we get no result right now, meaning nothing was found.... Can that be right?"
   ]
  },
  {
   "cell_type": "code",
   "execution_count": 8,
   "metadata": {},
   "outputs": [
    {
     "data": {
      "text/html": [
       "\n",
       "        <h4>Result:</h4>\n",
       "        <ul>\n",
       "            <li>model: iYO844</li>\n",
       "            <li>heuristic: GA</li>\n",
       "            <li>objective function: $$yield = \\frac{DM\\_dihydroartaci\\_c}{BIOMASS\\_BS\\_10}$$</li>\n",
       "            <li>simulation method: pfba</li>\n",
       "            <li>target type: cofactor-swap</li>\n",
       "        <ul>\n",
       "        <div>\n",
       "<style scoped>\n",
       "    .dataframe tbody tr th:only-of-type {\n",
       "        vertical-align: middle;\n",
       "    }\n",
       "\n",
       "    .dataframe tbody tr th {\n",
       "        vertical-align: top;\n",
       "    }\n",
       "\n",
       "    .dataframe thead th {\n",
       "        text-align: right;\n",
       "    }\n",
       "</style>\n",
       "<table border=\"1\" class=\"dataframe\">\n",
       "  <thead>\n",
       "    <tr style=\"text-align: right;\">\n",
       "      <th></th>\n",
       "      <th>index</th>\n",
       "      <th>targets</th>\n",
       "      <th>fitness</th>\n",
       "    </tr>\n",
       "  </thead>\n",
       "  <tbody>\n",
       "  </tbody>\n",
       "</table>\n",
       "</div>"
      ],
      "text/plain": [
       "<cameo.strain_design.heuristic.evolutionary.optimization.TargetOptimizationResult at 0x1eae741e2c8>"
      ]
     },
     "execution_count": 8,
     "metadata": {},
     "output_type": "execute_result"
    }
   ],
   "source": [
    "result"
   ]
  },
  {
   "cell_type": "markdown",
   "metadata": {},
   "source": [
    "The co-factor swap analysis reveals no reactions that, upon changing co-factor specificity, would lead to an increased theoretical yield of dihydroartesiminic acid."
   ]
  },
  {
   "cell_type": "markdown",
   "metadata": {},
   "source": [
    "We will now investigate if swapping the co-factor specificity of CYP71AV1 from NADP+NADH to NAD+NADH will allow an increased theoretical yield of dihydroartesiminic acid. Several of the introduced reactions utilize CYP71AV1; reaction 3, 4 and 6."
   ]
  },
  {
   "cell_type": "code",
   "execution_count": 9,
   "metadata": {},
   "outputs": [],
   "source": [
    "iYO844_modified_swap = model.copy() # Generating a copy of iY0844_modified in a variable to add the reactions to the new model"
   ]
  },
  {
   "cell_type": "code",
   "execution_count": 10,
   "metadata": {},
   "outputs": [
    {
     "name": "stdout",
     "output_type": "stream",
     "text": [
      "amorph_c + nad_c + o2_c --> artalc_c + h2o_c + nadh_c\n"
     ]
    }
   ],
   "source": [
    "# Creating the reaction\n",
    "reaction_3_swap = Reaction('CYP71AV1_swap') # CYP71AV1: amorphadiene oxidase\n",
    "\n",
    "# Adding the metabolites based on the stoichiometric reaction\n",
    "reaction_3_swap.add_metabolites({model.metabolites.get_by_id('amorph_c'): -1,\n",
    "                            model.metabolites.get_by_id('o2_c'): -1,\n",
    "                            model.metabolites.get_by_id('nad_c'): -1,\n",
    "                            model.metabolites.get_by_id('artalc_c'): 1, \n",
    "                            model.metabolites.get_by_id('nadh_c'): 1,\n",
    "                            model.metabolites.get_by_id('h2o_c'): 1})\n",
    "\n",
    "print(reaction_3_swap.build_reaction_string()) # Printing how the reaction looks\n",
    "iYO844_modified_swap.add_reactions([reaction_3_swap]) # Adding the reaction to the new iY0844 model"
   ]
  },
  {
   "cell_type": "code",
   "execution_count": 11,
   "metadata": {},
   "outputs": [
    {
     "name": "stdout",
     "output_type": "stream",
     "text": [
      "artalc_c + nad_c + o2_c --> dihydroartaci_c + h2o_c + nadh_c\n"
     ]
    }
   ],
   "source": [
    "# Creating the reaction\n",
    "reaction_6_swap = Reaction('ALDH1_CYP71AV1_swap') # ALDH1: aldehyde dehydrogenase 1, CYP71AV1: amorphadiene oxidase\n",
    "\n",
    "# Adding the metabolites based on the stoichiometric reaction\n",
    "reaction_6_swap.add_metabolites({model.metabolites.get_by_id('artalc_c'): -1,\n",
    "                            model.metabolites.get_by_id('o2_c'): -1,\n",
    "                            model.metabolites.get_by_id('nad_c'): -1,\n",
    "                            model.metabolites.get_by_id('dihydroartaci_c'): 1, \n",
    "                            model.metabolites.get_by_id('nadh_c'): 1,\n",
    "                            model.metabolites.get_by_id('h2o_c'): 1})\n",
    "\n",
    "print(reaction_6_swap.build_reaction_string()) # Printing how the reaction looks\n",
    "iYO844_modified_swap.add_reactions([reaction_6_swap]) # Adding the reaction to the new iY0844 model"
   ]
  },
  {
   "cell_type": "code",
   "execution_count": 12,
   "metadata": {},
   "outputs": [],
   "source": [
    "model.reactions.CYP71AV1.knock_out()\n",
    "#model.reactions.CYP71AV1"
   ]
  },
  {
   "cell_type": "code",
   "execution_count": 13,
   "metadata": {},
   "outputs": [],
   "source": [
    "model.reactions.ADH1_CYP71AV1.knock_out()\n",
    "#model.reactions.ADH1_CYP71AV1"
   ]
  },
  {
   "cell_type": "code",
   "execution_count": 14,
   "metadata": {},
   "outputs": [],
   "source": [
    "model.reactions.ALDH1_CYP71AV1.knock_out()\n",
    "#model.reactions.ALDH1_CYP71AV1"
   ]
  },
  {
   "cell_type": "code",
   "execution_count": 18,
   "metadata": {},
   "outputs": [
    {
     "name": "stdout",
     "output_type": "stream",
     "text": [
      "0.11796638932239606\n",
      "0.05535050485715387\n"
     ]
    }
   ],
   "source": [
    "with iYO844_modified_swap:\n",
    "    iYO844_modified_swap.objective = iYO844_modified_swap.reactions.BIOMASS_BS_10\n",
    "    swap_max_growth = iYO844_modified_swap.slim_optimize()\n",
    "    print(swap_max_growth)\n",
    "    iYO844_modified_swap.objective = iYO844_modified_swap.reactions.ALDH1_CYP71AV1_swap\n",
    "    swap_max_production = iYO844_modified_swap.slim_optimize()\n",
    "    print(swap_max_production)"
   ]
  },
  {
   "cell_type": "code",
   "execution_count": 19,
   "metadata": {},
   "outputs": [
    {
     "name": "stdout",
     "output_type": "stream",
     "text": [
      "Max growth has changed by -0.0 percent\n",
      "Max production has changed by -84.77 percent\n"
     ]
    }
   ],
   "source": [
    "print(\"Max growth has changed by\", round((swap_max_growth-(base_max_growth))/(base_max_growth) * 100, 2), \"percent\")\n",
    "print(\"Max production has changed by\", round((swap_max_production-(base_max_production))/(base_max_production) * 100, 2), \"percent\")"
   ]
  },
  {
   "cell_type": "markdown",
   "metadata": {},
   "source": [
    "### Saving the model\n",
    "The current model is saved as \"iYO844_modified_swap.xml\" in the data folder."
   ]
  },
  {
   "cell_type": "code",
   "execution_count": null,
   "metadata": {},
   "outputs": [],
   "source": [
    "write_sbml_model(iYO844_modified_swap, 'data/iYO844_modified_swap.xml')"
   ]
  }
 ],
 "metadata": {
  "kernelspec": {
   "display_name": "Python 3 (ipykernel)",
   "language": "python",
   "name": "python3"
  },
  "language_info": {
   "codemirror_mode": {
    "name": "ipython",
    "version": 3
   },
   "file_extension": ".py",
   "mimetype": "text/x-python",
   "name": "python",
   "nbconvert_exporter": "python",
   "pygments_lexer": "ipython3",
   "version": "3.7.16"
  }
 },
 "nbformat": 4,
 "nbformat_minor": 5
}
