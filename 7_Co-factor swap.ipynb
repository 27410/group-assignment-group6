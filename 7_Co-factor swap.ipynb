{
 "cells": [
  {
   "cell_type": "markdown",
   "id": "f27ed087",
   "metadata": {},
   "source": [
    "### Design for Co-Factor Swapping"
   ]
  },
  {
   "cell_type": "markdown",
   "metadata": {},
   "source": [
    "The objective of this analysis is to investigate if productivity can be improved by swapping NADPH for NADH as a cofactor in the model, in order to optimize flux thorugh reactions requiring CYP71AV1. The co-factor swap analysis will determine if an increase in the available NADPH will lead to increased production of dihydroartemisinic acid, our target compound. The hypothesis proposed, that changing co-factor specificity may increase production of a target compound, is supported by work conducted by King and Feist (2014) who showed that co-factor swapping in central carbon metabolism has the potential to improve (theoretical) yields of some amino acids in _S. cerevisiae_. The main function used in this analysis is CofactorSwapAnalysis. In order to enhance the availability of a cofactor that is rate-limiting for the generation of a target metabolite and raise its theoretical yield, CofactorSwapOptimization uses an algorithm to determine which reactions in the model can undergo a swap in cofactor specificity."
   ]
  },
  {
   "cell_type": "code",
   "execution_count": 1,
   "id": "fd9fb2ca",
   "metadata": {},
   "outputs": [],
   "source": [
    "# Initialising all required packages\n",
    "from cobra.io import read_sbml_model, write_sbml_model #importing functions needed\n",
    "from cobra import Reaction, Metabolite\n",
    "from cameo.strain_design.heuristic.evolutionary_based import CofactorSwapOptimization\n",
    "from cameo.strain_design.heuristic.evolutionary.objective_functions import product_yield\n",
    "from cameo.strain_design.heuristic.evolutionary.optimization import CofactorSwapOptimization, NADH_NADPH"
   ]
  },
  {
   "cell_type": "code",
   "execution_count": 2,
   "metadata": {},
   "outputs": [
    {
     "data": {
      "text/html": [
       "\n",
       "        <table>\n",
       "            <tr>\n",
       "                <td><strong>Name</strong></td>\n",
       "                <td>iYO844</td>\n",
       "            </tr><tr>\n",
       "                <td><strong>Memory address</strong></td>\n",
       "                <td>0x07f945a1a6510</td>\n",
       "            </tr><tr>\n",
       "                <td><strong>Number of metabolites</strong></td>\n",
       "                <td>996</td>\n",
       "            </tr><tr>\n",
       "                <td><strong>Number of reactions</strong></td>\n",
       "                <td>1258</td>\n",
       "            </tr><tr>\n",
       "                <td><strong>Number of groups</strong></td>\n",
       "                <td>0</td>\n",
       "            </tr><tr>\n",
       "                <td><strong>Objective expression</strong></td>\n",
       "                <td>1.0*BIOMASS_BS_10 - 1.0*BIOMASS_BS_10_reverse_8788b</td>\n",
       "            </tr><tr>\n",
       "                <td><strong>Compartments</strong></td>\n",
       "                <td>cytosol, extracellular space</td>\n",
       "            </tr>\n",
       "          </table>"
      ],
      "text/plain": [
       "<Model iYO844 at 0x7f945a1a6510>"
      ]
     },
     "execution_count": 2,
     "metadata": {},
     "output_type": "execute_result"
    }
   ],
   "source": [
    "# Initialising mode\n",
    "model = read_sbml_model(\"data/iYO844_modified.xml\")\n",
    "model"
   ]
  },
  {
   "cell_type": "code",
   "execution_count": 3,
   "metadata": {},
   "outputs": [
    {
     "name": "stdout",
     "output_type": "stream",
     "text": [
      "0.11796638932239784\n",
      "0.36342857142856866\n"
     ]
    }
   ],
   "source": [
    "with model:\n",
    "    base_max_growth = model.slim_optimize()\n",
    "    print(base_max_growth)\n",
    "    model.objective = model.reactions.ALDH1_CYP71AV1\n",
    "    base_max_production = model.slim_optimize()\n",
    "    print(base_max_production)"
   ]
  },
  {
   "cell_type": "code",
   "execution_count": 4,
   "id": "074bb581",
   "metadata": {},
   "outputs": [],
   "source": [
    "model.solver = \"glpk\" #specifying the solver for optimizing to be used as GLPK (GNU Linear Programming Kit)\n",
    "\n",
    "biomass = model.reactions.BIOMASS_BS_10 #defining the biomass from the reaction describing biomass formation in our model\n",
    "\n",
    "biomass.lower_bound = 0.1 # WHY ARE WE SETTING THE LOWER BOUND FOR THIS\n",
    "\n",
    "demand = model.reactions.DM_dihydroartaci_c # Defining the demand for our target reaction of dihydroartemisinic acid\n",
    "#DM_ defines the demand for us.\n",
    "\n",
    "model.objective = demand # Setting the objective of the model to the variable demand\n",
    "#men vi bruger ikke demand nogle steder herunder... "
   ]
  },
  {
   "cell_type": "code",
   "execution_count": 5,
   "metadata": {},
   "outputs": [
    {
     "data": {
      "text/latex": [
       "$$yield = \\frac{ALDH1\\_CYP71AV1}{BIOMASS\\_BS\\_10}$$"
      ],
      "text/plain": [
       "<cameo.strain_design.heuristic.evolutionary.objective_functions.product_yield at 0x7f94402fea50>"
      ]
     },
     "execution_count": 5,
     "metadata": {},
     "output_type": "execute_result"
    }
   ],
   "source": [
    "#Her skal vi have vores nye boundary, som optimerer for produktionen af vores ønskede stof\n",
    "# prod_yield = product_yield(demand, model.reactions.EX_glc__D_e)\n",
    "prod_yield = product_yield(model.reactions.ALDH1_CYP71AV1, biomass)\n",
    "prod_yield"
   ]
  },
  {
   "cell_type": "code",
   "execution_count": 6,
   "id": "0ad4ecf8",
   "metadata": {},
   "outputs": [],
   "source": [
    "# Swapping NADPH to NADH                                                                               \n",
    "swap_opt = CofactorSwapOptimization(model=model, objective_function = prod_yield, plot=True, \n",
    "                                    cofactor_id_swaps=(['nad_c', 'nadh_c'], ['nadp_c', 'nadph_c']))\n",
    "\n",
    "#we may not need to define the cofactor_id_swaps, as the ids in our model are the same as the default (but will it know what to change???)\n",
    "# Yes it will"
   ]
  },
  {
   "cell_type": "code",
   "execution_count": 7,
   "metadata": {},
   "outputs": [
    {
     "name": "stdout",
     "output_type": "stream",
     "text": [
      "Starting optimization at Tue, 21 Nov 2023 10:49:04\n"
     ]
    },
    {
     "data": {
      "application/vnd.jupyter.widget-view+json": {
       "model_id": "50eaacceaa8846e9acb08051b4c0c5b5",
       "version_major": 2,
       "version_minor": 0
      },
      "text/plain": [
       "HBox()"
      ]
     },
     "metadata": {},
     "output_type": "display_data"
    },
    {
     "name": "stdout",
     "output_type": "stream",
     "text": [
      "Finished after 00:00:40\n",
      "CPU times: user 1min 5s, sys: 583 ms, total: 1min 6s\n",
      "Wall time: 1min 11s\n"
     ]
    }
   ],
   "source": [
    "%%time\n",
    "result = swap_opt.run(max_size=5) #can be changed, but I'M NOT QUITE SURE WHAT EXACTLY CHANGES (looks like time in min)\n",
    "#we get no result right now, meaning nothing was found.... Can that be right?"
   ]
  },
  {
   "cell_type": "markdown",
   "metadata": {},
   "source": [
    "The results of co-factor swapping analysis reveals one possible co-factor swap, that may lead to increased product formation; the GAPD reaction."
   ]
  },
  {
   "cell_type": "code",
   "execution_count": 8,
   "id": "b2c4f86c",
   "metadata": {},
   "outputs": [
    {
     "data": {
      "text/html": [
       "\n",
       "        <h4>Result:</h4>\n",
       "        <ul>\n",
       "            <li>model: iYO844</li>\n",
       "            <li>heuristic: GA</li>\n",
       "            <li>objective function: $$yield = \\frac{ALDH1\\_CYP71AV1}{BIOMASS\\_BS\\_10}$$</li>\n",
       "            <li>simulation method: pfba</li>\n",
       "            <li>target type: cofactor-swap</li>\n",
       "        <ul>\n",
       "        <div>\n",
       "<style scoped>\n",
       "    .dataframe tbody tr th:only-of-type {\n",
       "        vertical-align: middle;\n",
       "    }\n",
       "\n",
       "    .dataframe tbody tr th {\n",
       "        vertical-align: top;\n",
       "    }\n",
       "\n",
       "    .dataframe thead th {\n",
       "        text-align: right;\n",
       "    }\n",
       "</style>\n",
       "<table border=\"1\" class=\"dataframe\">\n",
       "  <thead>\n",
       "    <tr style=\"text-align: right;\">\n",
       "      <th></th>\n",
       "      <th>index</th>\n",
       "      <th>targets</th>\n",
       "      <th>fitness</th>\n",
       "    </tr>\n",
       "  </thead>\n",
       "  <tbody>\n",
       "  </tbody>\n",
       "</table>\n",
       "</div>"
      ],
      "text/plain": [
       "<cameo.strain_design.heuristic.evolutionary.optimization.TargetOptimizationResult at 0x7f94402fe450>"
      ]
     },
     "execution_count": 8,
     "metadata": {},
     "output_type": "execute_result"
    }
   ],
   "source": [
    "result"
   ]
  },
  {
   "cell_type": "markdown",
   "metadata": {},
   "source": [
    "We investigate the GAPD function, to find it is catalyzed by glyceraldehyde-3-phosphate dehydrogenase."
   ]
  },
  {
   "cell_type": "code",
   "execution_count": 9,
   "metadata": {},
   "outputs": [
    {
     "data": {
      "text/html": [
       "\n",
       "        <table>\n",
       "            <tr>\n",
       "                <td><strong>Reaction identifier</strong></td><td>GAPD</td>\n",
       "            </tr><tr>\n",
       "                <td><strong>Name</strong></td><td>Glyceraldehyde-3-phosphate dehydrogenase</td>\n",
       "            </tr><tr>\n",
       "                <td><strong>Memory address</strong></td>\n",
       "                <td>0x0186099e3ec8</td>\n",
       "            </tr><tr>\n",
       "                <td><strong>Stoichiometry</strong></td>\n",
       "                <td>\n",
       "                    <p style='text-align:right'>g3p_c + nad_c + pi_c --> 13dpg_c + h_c + nadh_c</p>\n",
       "                    <p style='text-align:right'>Glyceraldehyde 3-phosphate + Nicotinamide adenine dinucleotide + Phosphate --> 3-Phospho-D-glyceroyl phosphate + H+ + Nicotinamide adenine dinucleotide - reduced</p>\n",
       "                </td>\n",
       "            </tr><tr>\n",
       "                <td><strong>GPR</strong></td><td>BSU33940</td>\n",
       "            </tr><tr>\n",
       "                <td><strong>Lower bound</strong></td><td>0.0</td>\n",
       "            </tr><tr>\n",
       "                <td><strong>Upper bound</strong></td><td>999999.0</td>\n",
       "            </tr>\n",
       "        </table>\n",
       "        "
      ],
      "text/plain": [
       "<Reaction GAPD at 0x186099e3ec8>"
      ]
     },
     "execution_count": 9,
     "metadata": {},
     "output_type": "execute_result"
    }
   ],
   "source": [
    "model.reactions.GAPD"
   ]
  },
  {
   "cell_type": "code",
   "execution_count": 10,
   "metadata": {},
   "outputs": [],
   "source": [
    "reaction1 = Reaction('GAPD_swap')\n",
    "# The original reactions uses:\n",
    "## g3p_c + nad_c + pi_c <=> 13dpg_c + h_c + nadh_c\n",
    "## Glyceraldehyde 3-phosphate + NAD(+) + free phosphate <=> 3-phospho-D-glyceroyl phosphate + H+ + NADH\n",
    "\n",
    "# We can define the swapped reaction to change the NAD+ to NADP+ and the NADH to NADPH\n",
    "\n",
    "reaction1.add_metabolites({\n",
    "                            model.metabolites.get_by_id(\"g3p_c\"): -1,\n",
    "                            model.metabolites.get_by_id(\"nadp_c\"): -1,\n",
    "                            model.metabolites.get_by_id(\"pi_c\"): -1,\n",
    "                            model.metabolites.get_by_id(\"13dpg_c\"): 1,\n",
    "                            model.metabolites.get_by_id(\"h_c\"): 1,\n",
    "                            model.metabolites.get_by_id(\"nadph_c\"): 1\n",
    "                             })\n",
    "                             \n",
    "model.add_reactions([reaction1])\n",
    "\n",
    "# Since the reaction has bounds of -1000 to 1000, we are also setting that here\n",
    "model.reactions.GAPD_swap.bounds = -1000, 1000\n"
   ]
  },
  {
   "cell_type": "code",
   "execution_count": 11,
   "metadata": {},
   "outputs": [
    {
     "data": {
      "text/html": [
       "\n",
       "        <table>\n",
       "            <tr>\n",
       "                <td><strong>Reaction identifier</strong></td><td>GAPD_swap</td>\n",
       "            </tr><tr>\n",
       "                <td><strong>Name</strong></td><td></td>\n",
       "            </tr><tr>\n",
       "                <td><strong>Memory address</strong></td>\n",
       "                <td>0x018609b761c8</td>\n",
       "            </tr><tr>\n",
       "                <td><strong>Stoichiometry</strong></td>\n",
       "                <td>\n",
       "                    <p style='text-align:right'>g3p_c + nadp_c + pi_c <=> 13dpg_c + h_c + nadph_c</p>\n",
       "                    <p style='text-align:right'>Glyceraldehyde 3-phosphate + Nicotinamide adenine dinucleotide phosphate + Phosphate <=> 3-Phospho-D-glyceroyl phosphate + H+ + Nicotinamide adenine dinucleotide phosphate - reduced</p>\n",
       "                </td>\n",
       "            </tr><tr>\n",
       "                <td><strong>GPR</strong></td><td></td>\n",
       "            </tr><tr>\n",
       "                <td><strong>Lower bound</strong></td><td>-1000</td>\n",
       "            </tr><tr>\n",
       "                <td><strong>Upper bound</strong></td><td>1000</td>\n",
       "            </tr>\n",
       "        </table>\n",
       "        "
      ],
      "text/plain": [
       "<Reaction GAPD_swap at 0x18609b761c8>"
      ]
     },
     "execution_count": 11,
     "metadata": {},
     "output_type": "execute_result"
    }
   ],
   "source": [
    "model.reactions.GAPD_swap"
   ]
  },
  {
   "cell_type": "code",
   "execution_count": 12,
   "metadata": {},
   "outputs": [
    {
     "data": {
      "text/html": [
       "\n",
       "        <table>\n",
       "            <tr>\n",
       "                <td><strong>Reaction identifier</strong></td><td>GAPD</td>\n",
       "            </tr><tr>\n",
       "                <td><strong>Name</strong></td><td>Glyceraldehyde-3-phosphate dehydrogenase</td>\n",
       "            </tr><tr>\n",
       "                <td><strong>Memory address</strong></td>\n",
       "                <td>0x0186099e3ec8</td>\n",
       "            </tr><tr>\n",
       "                <td><strong>Stoichiometry</strong></td>\n",
       "                <td>\n",
       "                    <p style='text-align:right'>g3p_c + nad_c + pi_c --> 13dpg_c + h_c + nadh_c</p>\n",
       "                    <p style='text-align:right'>Glyceraldehyde 3-phosphate + Nicotinamide adenine dinucleotide + Phosphate --> 3-Phospho-D-glyceroyl phosphate + H+ + Nicotinamide adenine dinucleotide - reduced</p>\n",
       "                </td>\n",
       "            </tr><tr>\n",
       "                <td><strong>GPR</strong></td><td>BSU33940</td>\n",
       "            </tr><tr>\n",
       "                <td><strong>Lower bound</strong></td><td>0</td>\n",
       "            </tr><tr>\n",
       "                <td><strong>Upper bound</strong></td><td>0</td>\n",
       "            </tr>\n",
       "        </table>\n",
       "        "
      ],
      "text/plain": [
       "<Reaction GAPD at 0x186099e3ec8>"
      ]
     },
     "execution_count": 12,
     "metadata": {},
     "output_type": "execute_result"
    }
   ],
   "source": [
    "model.reactions.GAPD.knock_out() #deleting/knocking-out the original GAPD reaction\n",
    "model.reactions.GAPD #testing if bounds = 0, meaning nothing is produced"
   ]
  },
  {
   "cell_type": "markdown",
   "metadata": {},
   "source": [
    "We can now run a quick test to see if the co-factor swap has done any difference"
   ]
  },
  {
   "cell_type": "code",
   "execution_count": 13,
   "metadata": {},
   "outputs": [
    {
     "name": "stdout",
     "output_type": "stream",
     "text": [
      "0.055350504857146494\n",
      "0.05535050485715061\n"
     ]
    }
   ],
   "source": [
    "with model:\n",
    "    swap_max_growth = model.slim_optimize()\n",
    "    print(swap_max_growth)\n",
    "    model.objective = model.reactions.ALDH1_CYP71AV1\n",
    "    swap_max_production = model.slim_optimize()\n",
    "    print(swap_max_production)"
   ]
  },
  {
   "cell_type": "code",
   "execution_count": 14,
   "metadata": {},
   "outputs": [
    {
     "name": "stdout",
     "output_type": "stream",
     "text": [
      "Max growth has changed by -53.08 percent\n",
      "Max production has changed by -84.77 percent\n"
     ]
    }
   ],
   "source": [
    "print(\"Max growth has changed by\", round((swap_max_growth-(base_max_growth))/(base_max_growth) * 100, 2), \"percent\")\n",
    "print(\"Max production has changed by\", round((swap_max_production-(base_max_production))/(base_max_production) * 100, 2), \"percent\")"
   ]
  },
  {
   "cell_type": "markdown",
   "metadata": {},
   "source": [
    "Since production of dihydroartemisinic acid also needs NADPH, a relatively lower growth and production rate in response to occupying this co-factor by other reactions is not surprising."
   ]
  },
  {
   "cell_type": "code",
   "execution_count": 15,
   "metadata": {},
   "outputs": [],
   "source": [
    "#A phenotypic phase plan can be simulated:\n",
    "from cobra.flux_analysis.phenotype_phase_plane import production_envelope, add_envelope\n",
    "import pandas as pd\n",
    "import matplotlib\n",
    "import matplotlib.pyplot as plt \n",
    "# In this plot, we are looking at the dynamics between the dihydroartesiminic acid producing reaction (ALDH1_CYP71AV1) and the biomass formation reaction (BIOMASS_BS_10)\n",
    "ppp_GAPD_swap = production_envelope(model,\n",
    "                    reactions=[model.reactions.ALDH1_CYP71AV1],\n",
    "                    objective=model.reactions.BIOMASS_BS_10)"
   ]
  },
  {
   "cell_type": "code",
   "execution_count": 19,
   "metadata": {},
   "outputs": [
    {
     "data": {
      "image/png": "[encoded data removed]",
      "text/plain": [
       "<Figure size 640x480 with 1 Axes>"
      ]
     },
     "metadata": {},
     "output_type": "display_data"
    }
   ],
   "source": [
    "pppp = ppp_GAPD_swap.plot(x='ALDH1_CYP71AV1', y='flux_maximum')\n",
    "fig = pppp.get_figure()\n",
    "plt.title(label=\"Co-factor swap, GAPD\")\n",
    "fig.savefig(\"figures/co-factor_GAPD_swap.png\")"
   ]
  },
  {
   "cell_type": "markdown",
   "metadata": {},
   "source": [
    "From this plot, it is possible to see that very little has changed in the PPP, but that the maximal production of both biomass and dihydroartisiminic acid was decreased severely. #RIGHT?? MAYBE CHANGE THIS TEXT, IT IS VERY CLOSE TO THE ORIGINAL TEXT\n",
    "We will save this version of the model as \"iYO844_modified_GAPD_swap.xml\" for co-factor swap. However, it will not be used for final production."
   ]
  },
  {
   "cell_type": "code",
   "execution_count": 17,
   "metadata": {},
   "outputs": [],
   "source": [
    "write_sbml_model(model, \"data/iYO844_modified_GAPD_swap.xml\")"
   ]
  }
 ],
 "metadata": {
  "kernelspec": {
   "display_name": "Python 3 (ipykernel)",
   "language": "python",
   "name": "python3"
  },
  "language_info": {
   "codemirror_mode": {
    "name": "ipython",
    "version": 3
   },
   "file_extension": ".py",
   "mimetype": "text/x-python",
   "name": "python",
   "nbconvert_exporter": "python",
   "pygments_lexer": "ipython3",
   "version": "3.7.16"
  }
 },
 "nbformat": 4,
 "nbformat_minor": 5
}
