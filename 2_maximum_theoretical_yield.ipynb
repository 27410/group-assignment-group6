{
 "cells": [
  {
   "cell_type": "markdown",
   "metadata": {},
   "source": [
    "The object of this section is to calculate the theoretical maximum yields for chosen product for suitable carbon sources. Therefore, we should first see which different carbon sources are avialable:"
   ]
  },
  {
   "cell_type": "code",
   "execution_count": 1,
   "metadata": {},
   "outputs": [],
   "source": [
    "# Libraries to be imported:\n",
    "from cobra.io import read_sbml_model, write_sbml_model # To read the model and save new newly generated model\n",
    "from cobra import Reaction, Metabolite # To creat new reactions and metabolites\n",
    "import numpy as np\n",
    "import matplotlib.pyplot as plt\n",
    "import pandas as pd"
   ]
  },
  {
   "cell_type": "code",
   "execution_count": 2,
   "metadata": {},
   "outputs": [],
   "source": [
    "# Define the model based on the dataset in iY0844 with the added reactions:\n",
    "iY0844_model = read_sbml_model(\"data/iYO844_modified.xml\")"
   ]
  },
  {
   "cell_type": "code",
   "execution_count": 3,
   "metadata": {},
   "outputs": [
    {
     "data": {
      "text/plain": [
       "{'EX_fe3_e': 999999.0,\n",
       " 'EX_glc__D_e': 1.7,\n",
       " 'EX_ca2_e': 999999.0,\n",
       " 'EX_so4_e': 5.0,\n",
       " 'EX_co2_e': 999999.0,\n",
       " 'EX_h2o_e': 999999.0,\n",
       " 'EX_h_e': 999999.0,\n",
       " 'EX_k_e': 999999.0,\n",
       " 'EX_mg2_e': 999999.0,\n",
       " 'EX_na1_e': 999999.0,\n",
       " 'EX_nh4_e': 5.0,\n",
       " 'EX_o2_e': 999999.0,\n",
       " 'EX_pi_e': 5.0}"
      ]
     },
     "execution_count": 3,
     "metadata": {},
     "output_type": "execute_result"
    }
   ],
   "source": [
    "# Simulate base medium in the model:\n",
    "iY0844_model.medium"
   ]
  },
  {
   "cell_type": "markdown",
   "metadata": {},
   "source": [
    "First, we find all carbon exchange reactions in our model, and from this we establish a baseline to use for later reference:"
   ]
  },
  {
   "cell_type": "code",
   "execution_count": 5,
   "metadata": {},
   "outputs": [
    {
     "name": "stdout",
     "output_type": "stream",
     "text": [
      "['EX_etha_e', 'EX_drib_e', 'EX_csn_e', 'EX_5mtr_e', 'EX_dtmp_e', 'EX_6pgc_e', 'EX_ctbt_e', 'EX_Larab_e', 'EX_ectoine_e', 'EX_cys__D_e', 'EX_cys__L_e', 'EX_eths_e', 'EX_cyst__L_e', 'EX_Lcyst_e', 'EX_cytd_e', 'EX_abt__L_e', 'EX_etoh_e', 'EX_dad_2_e', 'EX_dcyt_e', 'EX_dextrin_e', 'EX_dha_e', 'EX_ac_e', 'EX_acac_e', 'EX_diact_e', 'EX_djenk_e', 'EX_fol_e', 'EX_acgam_e', 'EX_acmana_e', 'EX_acnam_e', 'EX_for_e', 'EX_fru_e', 'EX_actn__R_e', 'EX_ade_e', 'EX_adn_e', 'EX_akg_e', 'EX_ala_B_e', 'EX_ala__D_e', 'EX_ala_L_Thr__L_e', 'EX_ala_L_asp__L_e', 'EX_ala__L_e', 'EX_ala_L_gln__L_e', 'EX_ala_L_glu__L_e', 'EX_L_alagly_e', 'EX_ala_L_his__L_e', 'EX_ala_L_leu__L_e', 'EX_g6p_e', 'EX_gal_e', 'EX_galctr__D_e', 'EX_galt_e', 'EX_galur_e', 'EX_gam6p_e', 'EX_gam_e', 'EX_gbbtn_e', 'EX_glc__D_e', 'EX_glcn__D_e', 'EX_glcr_e', 'EX_glcur_e', 'EX_gln__L_e', 'EX_glu__D_e', 'EX_alaala_e', 'EX_alltn_e', 'EX_amp_e', 'EX_amylase_e', 'EX_fum_e', 'EX_g1p_e', 'EX_glu__L_e', 'EX_arab__D_e', 'EX_arab__L_e', 'EX_arbt_e', 'EX_arg__L_e', 'EX_argp_e', 'EX_asn__L_e', 'EX_asp__L_e', 'EX_bilea_e', 'EX_btd_RR_e', 'EX_glx_e', 'EX_buts_e', 'EX_pur_e', 'EX_pyr_e', 'EX_gly_asn__L_e', 'EX_cellb_e', 'EX_cgly_e', 'EX_raffin_e', 'EX_rib__D_e', 'EX_gly_asp__L_e', 'EX_ribflv_e', 'EX_chitob_e', 'EX_gly_e', 'EX_chol_e', 'EX_rmn_e', 'EX_gly_gln__L_e', 'EX_chols_e', 'EX_chor_e', 'EX_cit_e', 'EX_salcn_e', 'EX_gly_glu__L_e', 'EX_sbt__D_e', 'EX_ser__D_e', 'EX_citr__L_e', 'EX_cmp_e', 'EX_ser__L_e', 'EX_gly_met__L_e', 'EX_spmd_e', 'EX_co2_e', 'EX_crn_e', 'EX_srb__L_e', 'EX_starch_e', 'EX_subtilisin_e', 'EX_succ_e', 'EX_sucr_e', 'EX_gly_pro__L_e', 'EX_sula_e', 'EX_taur_e', 'EX_glyb_e', 'EX_thiog_e', 'EX_glyc3p_e', 'EX_glyc_e', 'EX_glyclt_e', 'EX_glycogen_e', 'EX_gmp_e', 'EX_gsn_e', 'EX_thr__L_e', 'EX_gthox_e', 'EX_thym_e', 'EX_gthrd_e', 'EX_thymd_e', 'EX_gua_e', 'EX_tre_e', 'EX_trp__L_e', 'EX_tyr__L_e', 'EX_ump_e', 'EX_ura_e', 'EX_urate_e', 'EX_hexs_e', 'EX_urea_e', 'EX_uri_e', 'EX_val__L_e', 'EX_xan_e', 'EX_xtsn_e', 'EX_xyl__D_e', 'EX_his__L_e', 'EX_hqn_e', 'EX_hxan_e', 'EX_icit_e', 'EX_ile__L_e', 'EX_inost_e', 'EX_ins_e', 'EX_istnt_e', 'EX_lac__L_e', 'EX_lanth_e', 'EX_lcts_e', 'EX_leu__L_e', 'EX_lipt_e', 'EX_lys__L_e', 'EX_madg_e', 'EX_mal__D_e', 'EX_mal__L_e', 'EX_malt_e', 'EX_malttr_e', 'EX_man1p_e', 'EX_man6p_e', 'EX_man_e', 'EX_3ump_e', 'EX_mbdg_e', 'EX_melib_e', 'EX_meoh_e', 'EX_met__D_e', 'EX_met_L_ala__L_e', 'EX_met__L_e', 'EX_metox__R_e', 'EX_metox_e', 'EX_mnl_e', 'EX_mops_e', 'EX_mso3_e', 'EX_nac_e', 'EX_orn__L_e', 'EX_pala_e', 'EX_4abut_e', 'EX_pep_e', 'EX_phe__L_e', 'EX_pnto__R_e', 'EX_ppa_e', 'EX_pro__L_e', 'EX_prolb_e', 'EX_pser__D_e', 'EX_pser__L_e', 'EX_2ddglcn_e', 'EX_2hxmp_e', 'EX_2pg_e', 'EX_2pglyc_e', 'EX_3amba_e', 'EX_3amp_e', 'EX_3cmp_e', 'EX_3gmp_e', 'EX_3pg_e', 'EX_f6p_e']\n",
      "['Ethanolamine exchange', 'Deoxy D Ribose exchange', 'Cytosine exchange', '5-Methylthio-D-ribose exchange', 'DTMP exchange', '6 Phospho D gluconate exchange', 'Crotonobetaine exchange', 'Alpha L Arabinan exchange', 'Ectoine exchange', 'D-Cysteine exchange', 'L-Cysteine exchange', 'Ethanesulfonate exchange', 'L Cystine exchange', 'L-Cysteate exchange', 'Cytidine exchange', 'L Arabinitol exchange', 'Ethanol exchange', 'Deoxyadenosine exchange', 'Deoxycytidine exchange', 'Dextrin exchange', 'Dihydroxyacetone exchange', 'Acetate exchange', 'Acetoacetate exchange', 'Diacetyl exchange', 'Djenkolate exchange', 'EX fol LPAREN e RPAREN ', 'N-Acetyl-D-glucosamine exchange', 'N-Acetyl-D-mannosamine exchange', 'N-Acetylneuraminate exchange', 'Formate exchange', 'D-Fructose exchange', 'EX actn R LPAREN e RPAREN ', 'Adenine exchange', 'Adenosine exchange', '2-Oxoglutarate exchange', 'Beta-Alanine exchange', 'D-Alanine exchange', 'Ala L Thr L exchange', 'Ala L asp L exchange', 'L-Alanine exchange', 'Ala Gln exchange', 'Ala L glu L exchange', 'Ala L gly exchange', 'Ala His exchange', 'Ala Leu exchange', 'D-Glucose 6-phosphate exchange', 'D-Galactose exchange', 'D Galactarate exchange', 'Galactitol exchange', 'D-Galacturonate exchange', 'D-Glucosamine 6-phosphate exchange', 'D-Glucosamine exchange', 'Gamma-butyrobetaine exchange', 'D-Glucose exchange', 'D Gluconate exchange', 'D-Glucarate exchange', 'D-Glucuronate exchange', 'L-Glutamine exchange', 'D Glutamate exchange', 'D-Alanyl-D-alanine exchange', 'Allantoin exchange', 'AMP exchange', 'Mature Bacillus subtilis amylase exchange', 'Fumarate exchange', 'D-Glucose 1-phosphate exchange', 'L-Glutamate exchange', 'D Arabinose exchange', 'L-Arabinose exchange', 'Arbutin exchange', 'L-Arginine exchange', 'L Arginine phosphate exchange', 'L-Asparagine exchange', 'L-Aspartate exchange', 'Bile acid exchange', ' R R  2 3 Butanediol exchange', 'Glyoxylate exchange', 'Butanesulfonate exchange', 'Puromycin exchange', 'Pyruvate exchange', 'Gly asn L exchange', 'Cellobiose exchange', 'Cys-Gly exchange', 'Raffinose exchange', 'D-Ribose exchange', 'Gly asp L exchange', 'Riboflavin exchange', 'Chitobiose exchange', 'Glycine exchange', 'Choline exchange', 'L-Rhamnose exchange', 'Gly Gln exchange', 'EX chols LPAREN e RPAREN ', 'Chorismate exchange', 'Citrate exchange', 'Salicin exchange', 'Gly glu L exchange', 'D-Sorbitol exchange', 'D-Serine exchange', 'L-Citrulline exchange', 'CMP exchange', 'L-Serine exchange', 'Gly Met exchange', 'Spermidine exchange', 'CO2 exchange', 'L-Carnitine exchange', 'L Sorbose exchange', 'Starch exchange', 'Mature Bacillus subtilis subtilisin exchange', 'Succinate exchange', 'Sucrose exchange', 'Gly pro L exchange', 'Sulfoacetate exchange', 'Taurine exchange', 'Glycine betaine exchange', 'Thioglycolate exchange', 'Glycerol 3-phosphate exchange', 'Glycerol exchange', 'Glycolate exchange', 'Glycogen exchange', 'GMP exchange', 'Guanosine exchange', 'L-Threonine exchange', 'Oxidized glutathione exchange', 'Thymine exchange', 'Reduced glutathione exchange', 'Thymidine exchange', 'Guanine exchange', 'Trehalose exchange', 'L-Tryptophan exchange', 'L-Tyrosine exchange', 'UMP exchange', 'Uracil exchange', 'Urate exchange', 'Hexanesulfonate exchange', 'Urea exchange', 'Uridine exchange', 'L-Valine exchange', 'Xanthine exchange', 'Xanthosine exchange', 'D-Xylose exchange', 'L-Histidine exchange', 'Hydroquinone exchange', 'Hypoxanthine exchange', 'Isocitrate exchange', 'L-Isoleucine exchange', 'Myo-Inositol exchange', 'Inosine exchange', 'Isethionate exchange', 'L-Lactate exchange', 'Lanthionine exchange', 'Lactose exchange', 'L-Leucine exchange', 'Lipoate exchange', 'L-Lysine exchange', 'Alpha Methyl D glucoside exchange', 'D-Malate exchange', 'L-Malate exchange', 'Maltose exchange', 'Maltotriose exchange', 'D Mannose 1 phosphate exchange', 'D-Mannose 6-phosphate exchange', 'D-Mannose exchange', \"3'-UMP exchange\", 'Beta Methylglucoside exchange', 'Melibiose exchange', 'Methanol exchange', 'D-Methionine exchange', 'Met L ala L exchange', 'L-Methionine exchange', 'L methionine R oxide exchange', 'L Methionine S oxide exchange', 'D-Mannitol exchange', 'MOPS exchange', 'Methanesulfonate exchange', 'Nicotinate exchange', 'Ornithine exchange', 'Palatinose exchange', '4-Aminobutanoate exchange', 'Phosphoenolpyruvate exchange', 'L-Phenylalanine exchange', '(R)-Pantothenate exchange', 'Propionate exchange', 'L-Proline exchange', 'Proline betaine exchange', 'D O Phosphoserine exchange', 'O-Phospho-L-serine exchange', '2-Dehydro-3-deoxy-D-gluconate exchange', '2  Hydroxymethyl phenol exchange', 'D Glycerate 2 phosphate exchange', '2 Phosphoglycolate exchange', '3 aminobutanoic acid exchange', \"3'-AMP exchange\", \"3'-cmp exchange\", \"3'-GMP exchange\", '3 Phospho D glycerate exchange', 'D-fructose 6-phosphate exchange']\n"
     ]
    }
   ],
   "source": [
    "# Create empty lists to store the...:\n",
    "carbon = []\n",
    "carbon_names = []\n",
    "\n",
    "# Create a loop where we find all reactions that contains carbon:\n",
    "for reaction in iY0844_model.exchanges:\n",
    "    for metabolite in reaction.reactants:\n",
    "        if \"C\" in metabolite.elements:\n",
    "            carbon.append(reaction.id)\n",
    "            carbon_names.append(reaction.name) \n",
    "            \n",
    "# Make temporary changes in the model:\n",
    "with iY0844_model:\n",
    "    max_base_growth = iY0844_model.slim_optimize()\n",
    "    iY0844_model.objective = iY0844_model.reactions.ALDH1_CYP71AV1\n",
    "    max_base_production = iY0844_model.slim_optimize()\n",
    "\n",
    "print(carbon)\n",
    "print(carbon_names)"
   ]
  },
  {
   "cell_type": "markdown",
   "metadata": {},
   "source": [
    "Now, we create a loop going through every carbon source in our model, and see how well it produces dihydroartemisinic acid. The ID's for the different carbon sources are found in BIGG by filtering for B. subtilis. "
   ]
  },
  {
   "cell_type": "code",
   "execution_count": 6,
   "metadata": {},
   "outputs": [
    {
     "name": "stderr",
     "output_type": "stream",
     "text": [
      "BIOMASS_BS_10 does not seem to be an an exchange reaction. Applying bounds anyway.\n",
      "BIOMASS_BS_10 does not seem to be an an exchange reaction. Applying bounds anyway.\n",
      "BIOMASS_BS_10 does not seem to be an an exchange reaction. Applying bounds anyway.\n",
      "BIOMASS_BS_10 does not seem to be an an exchange reaction. Applying bounds anyway.\n",
      "BIOMASS_BS_10 does not seem to be an an exchange reaction. Applying bounds anyway.\n",
      "BIOMASS_BS_10 does not seem to be an an exchange reaction. Applying bounds anyway.\n",
      "BIOMASS_BS_10 does not seem to be an an exchange reaction. Applying bounds anyway.\n",
      "BIOMASS_BS_10 does not seem to be an an exchange reaction. Applying bounds anyway.\n",
      "BIOMASS_BS_10 does not seem to be an an exchange reaction. Applying bounds anyway.\n",
      "BIOMASS_BS_10 does not seem to be an an exchange reaction. Applying bounds anyway.\n",
      "BIOMASS_BS_10 does not seem to be an an exchange reaction. Applying bounds anyway.\n",
      "BIOMASS_BS_10 does not seem to be an an exchange reaction. Applying bounds anyway.\n",
      "BIOMASS_BS_10 does not seem to be an an exchange reaction. Applying bounds anyway.\n",
      "BIOMASS_BS_10 does not seem to be an an exchange reaction. Applying bounds anyway.\n",
      "BIOMASS_BS_10 does not seem to be an an exchange reaction. Applying bounds anyway.\n",
      "BIOMASS_BS_10 does not seem to be an an exchange reaction. Applying bounds anyway.\n",
      "BIOMASS_BS_10 does not seem to be an an exchange reaction. Applying bounds anyway.\n",
      "BIOMASS_BS_10 does not seem to be an an exchange reaction. Applying bounds anyway.\n",
      "BIOMASS_BS_10 does not seem to be an an exchange reaction. Applying bounds anyway.\n",
      "BIOMASS_BS_10 does not seem to be an an exchange reaction. Applying bounds anyway.\n",
      "BIOMASS_BS_10 does not seem to be an an exchange reaction. Applying bounds anyway.\n",
      "BIOMASS_BS_10 does not seem to be an an exchange reaction. Applying bounds anyway.\n",
      "BIOMASS_BS_10 does not seem to be an an exchange reaction. Applying bounds anyway.\n",
      "BIOMASS_BS_10 does not seem to be an an exchange reaction. Applying bounds anyway.\n",
      "BIOMASS_BS_10 does not seem to be an an exchange reaction. Applying bounds anyway.\n",
      "BIOMASS_BS_10 does not seem to be an an exchange reaction. Applying bounds anyway.\n",
      "BIOMASS_BS_10 does not seem to be an an exchange reaction. Applying bounds anyway.\n",
      "BIOMASS_BS_10 does not seem to be an an exchange reaction. Applying bounds anyway.\n",
      "BIOMASS_BS_10 does not seem to be an an exchange reaction. Applying bounds anyway.\n",
      "BIOMASS_BS_10 does not seem to be an an exchange reaction. Applying bounds anyway.\n",
      "BIOMASS_BS_10 does not seem to be an an exchange reaction. Applying bounds anyway.\n",
      "BIOMASS_BS_10 does not seem to be an an exchange reaction. Applying bounds anyway.\n",
      "BIOMASS_BS_10 does not seem to be an an exchange reaction. Applying bounds anyway.\n",
      "BIOMASS_BS_10 does not seem to be an an exchange reaction. Applying bounds anyway.\n",
      "BIOMASS_BS_10 does not seem to be an an exchange reaction. Applying bounds anyway.\n",
      "BIOMASS_BS_10 does not seem to be an an exchange reaction. Applying bounds anyway.\n",
      "BIOMASS_BS_10 does not seem to be an an exchange reaction. Applying bounds anyway.\n",
      "BIOMASS_BS_10 does not seem to be an an exchange reaction. Applying bounds anyway.\n",
      "BIOMASS_BS_10 does not seem to be an an exchange reaction. Applying bounds anyway.\n",
      "BIOMASS_BS_10 does not seem to be an an exchange reaction. Applying bounds anyway.\n",
      "BIOMASS_BS_10 does not seem to be an an exchange reaction. Applying bounds anyway.\n",
      "BIOMASS_BS_10 does not seem to be an an exchange reaction. Applying bounds anyway.\n",
      "BIOMASS_BS_10 does not seem to be an an exchange reaction. Applying bounds anyway.\n",
      "BIOMASS_BS_10 does not seem to be an an exchange reaction. Applying bounds anyway.\n",
      "BIOMASS_BS_10 does not seem to be an an exchange reaction. Applying bounds anyway.\n",
      "BIOMASS_BS_10 does not seem to be an an exchange reaction. Applying bounds anyway.\n",
      "BIOMASS_BS_10 does not seem to be an an exchange reaction. Applying bounds anyway.\n",
      "BIOMASS_BS_10 does not seem to be an an exchange reaction. Applying bounds anyway.\n",
      "BIOMASS_BS_10 does not seem to be an an exchange reaction. Applying bounds anyway.\n",
      "BIOMASS_BS_10 does not seem to be an an exchange reaction. Applying bounds anyway.\n",
      "BIOMASS_BS_10 does not seem to be an an exchange reaction. Applying bounds anyway.\n",
      "BIOMASS_BS_10 does not seem to be an an exchange reaction. Applying bounds anyway.\n",
      "BIOMASS_BS_10 does not seem to be an an exchange reaction. Applying bounds anyway.\n",
      "BIOMASS_BS_10 does not seem to be an an exchange reaction. Applying bounds anyway.\n",
      "BIOMASS_BS_10 does not seem to be an an exchange reaction. Applying bounds anyway.\n",
      "BIOMASS_BS_10 does not seem to be an an exchange reaction. Applying bounds anyway.\n",
      "BIOMASS_BS_10 does not seem to be an an exchange reaction. Applying bounds anyway.\n",
      "BIOMASS_BS_10 does not seem to be an an exchange reaction. Applying bounds anyway.\n",
      "BIOMASS_BS_10 does not seem to be an an exchange reaction. Applying bounds anyway.\n",
      "BIOMASS_BS_10 does not seem to be an an exchange reaction. Applying bounds anyway.\n",
      "BIOMASS_BS_10 does not seem to be an an exchange reaction. Applying bounds anyway.\n",
      "BIOMASS_BS_10 does not seem to be an an exchange reaction. Applying bounds anyway.\n",
      "BIOMASS_BS_10 does not seem to be an an exchange reaction. Applying bounds anyway.\n",
      "BIOMASS_BS_10 does not seem to be an an exchange reaction. Applying bounds anyway.\n",
      "BIOMASS_BS_10 does not seem to be an an exchange reaction. Applying bounds anyway.\n",
      "BIOMASS_BS_10 does not seem to be an an exchange reaction. Applying bounds anyway.\n",
      "BIOMASS_BS_10 does not seem to be an an exchange reaction. Applying bounds anyway.\n",
      "BIOMASS_BS_10 does not seem to be an an exchange reaction. Applying bounds anyway.\n",
      "BIOMASS_BS_10 does not seem to be an an exchange reaction. Applying bounds anyway.\n",
      "BIOMASS_BS_10 does not seem to be an an exchange reaction. Applying bounds anyway.\n",
      "BIOMASS_BS_10 does not seem to be an an exchange reaction. Applying bounds anyway.\n",
      "BIOMASS_BS_10 does not seem to be an an exchange reaction. Applying bounds anyway.\n",
      "BIOMASS_BS_10 does not seem to be an an exchange reaction. Applying bounds anyway.\n",
      "BIOMASS_BS_10 does not seem to be an an exchange reaction. Applying bounds anyway.\n",
      "BIOMASS_BS_10 does not seem to be an an exchange reaction. Applying bounds anyway.\n",
      "BIOMASS_BS_10 does not seem to be an an exchange reaction. Applying bounds anyway.\n",
      "BIOMASS_BS_10 does not seem to be an an exchange reaction. Applying bounds anyway.\n",
      "BIOMASS_BS_10 does not seem to be an an exchange reaction. Applying bounds anyway.\n",
      "BIOMASS_BS_10 does not seem to be an an exchange reaction. Applying bounds anyway.\n",
      "BIOMASS_BS_10 does not seem to be an an exchange reaction. Applying bounds anyway.\n",
      "BIOMASS_BS_10 does not seem to be an an exchange reaction. Applying bounds anyway.\n",
      "BIOMASS_BS_10 does not seem to be an an exchange reaction. Applying bounds anyway.\n",
      "BIOMASS_BS_10 does not seem to be an an exchange reaction. Applying bounds anyway.\n",
      "BIOMASS_BS_10 does not seem to be an an exchange reaction. Applying bounds anyway.\n",
      "BIOMASS_BS_10 does not seem to be an an exchange reaction. Applying bounds anyway.\n",
      "BIOMASS_BS_10 does not seem to be an an exchange reaction. Applying bounds anyway.\n",
      "BIOMASS_BS_10 does not seem to be an an exchange reaction. Applying bounds anyway.\n",
      "BIOMASS_BS_10 does not seem to be an an exchange reaction. Applying bounds anyway.\n",
      "BIOMASS_BS_10 does not seem to be an an exchange reaction. Applying bounds anyway.\n",
      "BIOMASS_BS_10 does not seem to be an an exchange reaction. Applying bounds anyway.\n",
      "BIOMASS_BS_10 does not seem to be an an exchange reaction. Applying bounds anyway.\n",
      "BIOMASS_BS_10 does not seem to be an an exchange reaction. Applying bounds anyway.\n",
      "BIOMASS_BS_10 does not seem to be an an exchange reaction. Applying bounds anyway.\n",
      "BIOMASS_BS_10 does not seem to be an an exchange reaction. Applying bounds anyway.\n",
      "BIOMASS_BS_10 does not seem to be an an exchange reaction. Applying bounds anyway.\n",
      "BIOMASS_BS_10 does not seem to be an an exchange reaction. Applying bounds anyway.\n",
      "BIOMASS_BS_10 does not seem to be an an exchange reaction. Applying bounds anyway.\n",
      "BIOMASS_BS_10 does not seem to be an an exchange reaction. Applying bounds anyway.\n",
      "BIOMASS_BS_10 does not seem to be an an exchange reaction. Applying bounds anyway.\n",
      "BIOMASS_BS_10 does not seem to be an an exchange reaction. Applying bounds anyway.\n",
      "BIOMASS_BS_10 does not seem to be an an exchange reaction. Applying bounds anyway.\n",
      "BIOMASS_BS_10 does not seem to be an an exchange reaction. Applying bounds anyway.\n",
      "BIOMASS_BS_10 does not seem to be an an exchange reaction. Applying bounds anyway.\n",
      "BIOMASS_BS_10 does not seem to be an an exchange reaction. Applying bounds anyway.\n",
      "BIOMASS_BS_10 does not seem to be an an exchange reaction. Applying bounds anyway.\n",
      "BIOMASS_BS_10 does not seem to be an an exchange reaction. Applying bounds anyway.\n",
      "BIOMASS_BS_10 does not seem to be an an exchange reaction. Applying bounds anyway.\n",
      "BIOMASS_BS_10 does not seem to be an an exchange reaction. Applying bounds anyway.\n",
      "BIOMASS_BS_10 does not seem to be an an exchange reaction. Applying bounds anyway.\n",
      "BIOMASS_BS_10 does not seem to be an an exchange reaction. Applying bounds anyway.\n",
      "BIOMASS_BS_10 does not seem to be an an exchange reaction. Applying bounds anyway.\n",
      "BIOMASS_BS_10 does not seem to be an an exchange reaction. Applying bounds anyway.\n",
      "BIOMASS_BS_10 does not seem to be an an exchange reaction. Applying bounds anyway.\n",
      "BIOMASS_BS_10 does not seem to be an an exchange reaction. Applying bounds anyway.\n",
      "BIOMASS_BS_10 does not seem to be an an exchange reaction. Applying bounds anyway.\n",
      "BIOMASS_BS_10 does not seem to be an an exchange reaction. Applying bounds anyway.\n",
      "BIOMASS_BS_10 does not seem to be an an exchange reaction. Applying bounds anyway.\n",
      "BIOMASS_BS_10 does not seem to be an an exchange reaction. Applying bounds anyway.\n",
      "BIOMASS_BS_10 does not seem to be an an exchange reaction. Applying bounds anyway.\n",
      "BIOMASS_BS_10 does not seem to be an an exchange reaction. Applying bounds anyway.\n",
      "BIOMASS_BS_10 does not seem to be an an exchange reaction. Applying bounds anyway.\n",
      "BIOMASS_BS_10 does not seem to be an an exchange reaction. Applying bounds anyway.\n",
      "BIOMASS_BS_10 does not seem to be an an exchange reaction. Applying bounds anyway.\n",
      "BIOMASS_BS_10 does not seem to be an an exchange reaction. Applying bounds anyway.\n",
      "BIOMASS_BS_10 does not seem to be an an exchange reaction. Applying bounds anyway.\n",
      "BIOMASS_BS_10 does not seem to be an an exchange reaction. Applying bounds anyway.\n",
      "BIOMASS_BS_10 does not seem to be an an exchange reaction. Applying bounds anyway.\n",
      "BIOMASS_BS_10 does not seem to be an an exchange reaction. Applying bounds anyway.\n",
      "BIOMASS_BS_10 does not seem to be an an exchange reaction. Applying bounds anyway.\n",
      "BIOMASS_BS_10 does not seem to be an an exchange reaction. Applying bounds anyway.\n",
      "BIOMASS_BS_10 does not seem to be an an exchange reaction. Applying bounds anyway.\n",
      "BIOMASS_BS_10 does not seem to be an an exchange reaction. Applying bounds anyway.\n",
      "BIOMASS_BS_10 does not seem to be an an exchange reaction. Applying bounds anyway.\n",
      "BIOMASS_BS_10 does not seem to be an an exchange reaction. Applying bounds anyway.\n",
      "BIOMASS_BS_10 does not seem to be an an exchange reaction. Applying bounds anyway.\n",
      "BIOMASS_BS_10 does not seem to be an an exchange reaction. Applying bounds anyway.\n",
      "BIOMASS_BS_10 does not seem to be an an exchange reaction. Applying bounds anyway.\n",
      "BIOMASS_BS_10 does not seem to be an an exchange reaction. Applying bounds anyway.\n",
      "BIOMASS_BS_10 does not seem to be an an exchange reaction. Applying bounds anyway.\n",
      "BIOMASS_BS_10 does not seem to be an an exchange reaction. Applying bounds anyway.\n",
      "BIOMASS_BS_10 does not seem to be an an exchange reaction. Applying bounds anyway.\n",
      "BIOMASS_BS_10 does not seem to be an an exchange reaction. Applying bounds anyway.\n",
      "BIOMASS_BS_10 does not seem to be an an exchange reaction. Applying bounds anyway.\n",
      "BIOMASS_BS_10 does not seem to be an an exchange reaction. Applying bounds anyway.\n",
      "BIOMASS_BS_10 does not seem to be an an exchange reaction. Applying bounds anyway.\n",
      "BIOMASS_BS_10 does not seem to be an an exchange reaction. Applying bounds anyway.\n",
      "BIOMASS_BS_10 does not seem to be an an exchange reaction. Applying bounds anyway.\n",
      "BIOMASS_BS_10 does not seem to be an an exchange reaction. Applying bounds anyway.\n",
      "BIOMASS_BS_10 does not seem to be an an exchange reaction. Applying bounds anyway.\n",
      "BIOMASS_BS_10 does not seem to be an an exchange reaction. Applying bounds anyway.\n",
      "BIOMASS_BS_10 does not seem to be an an exchange reaction. Applying bounds anyway.\n",
      "BIOMASS_BS_10 does not seem to be an an exchange reaction. Applying bounds anyway.\n",
      "BIOMASS_BS_10 does not seem to be an an exchange reaction. Applying bounds anyway.\n",
      "BIOMASS_BS_10 does not seem to be an an exchange reaction. Applying bounds anyway.\n",
      "BIOMASS_BS_10 does not seem to be an an exchange reaction. Applying bounds anyway.\n",
      "BIOMASS_BS_10 does not seem to be an an exchange reaction. Applying bounds anyway.\n",
      "BIOMASS_BS_10 does not seem to be an an exchange reaction. Applying bounds anyway.\n",
      "BIOMASS_BS_10 does not seem to be an an exchange reaction. Applying bounds anyway.\n",
      "BIOMASS_BS_10 does not seem to be an an exchange reaction. Applying bounds anyway.\n",
      "BIOMASS_BS_10 does not seem to be an an exchange reaction. Applying bounds anyway.\n",
      "BIOMASS_BS_10 does not seem to be an an exchange reaction. Applying bounds anyway.\n",
      "BIOMASS_BS_10 does not seem to be an an exchange reaction. Applying bounds anyway.\n",
      "BIOMASS_BS_10 does not seem to be an an exchange reaction. Applying bounds anyway.\n",
      "BIOMASS_BS_10 does not seem to be an an exchange reaction. Applying bounds anyway.\n"
     ]
    },
    {
     "ename": "KeyboardInterrupt",
     "evalue": "",
     "output_type": "error",
     "traceback": [
      "\u001b[0;31m---------------------------------------------------------------------------\u001b[0m",
      "\u001b[0;31mKeyboardInterrupt\u001b[0m                         Traceback (most recent call last)",
      "\u001b[0;32m/var/folders/h1/_d7t2l9905573p8b3kw6m3c00000gn/T/ipykernel_3972/2003267289.py\u001b[0m in \u001b[0;36m<module>\u001b[0;34m\u001b[0m\n\u001b[1;32m     13\u001b[0m            \u001b[0mmax_growth\u001b[0m\u001b[0;34m.\u001b[0m\u001b[0mappend\u001b[0m\u001b[0;34m(\u001b[0m\u001b[0miY0844_model\u001b[0m\u001b[0;34m.\u001b[0m\u001b[0mslim_optimize\u001b[0m\u001b[0;34m(\u001b[0m\u001b[0merror_value\u001b[0m\u001b[0;34m=\u001b[0m\u001b[0;36m0.\u001b[0m\u001b[0;34m)\u001b[0m\u001b[0;34m)\u001b[0m\u001b[0;34m\u001b[0m\u001b[0;34m\u001b[0m\u001b[0m\n\u001b[1;32m     14\u001b[0m            \u001b[0miY0844_model\u001b[0m\u001b[0;34m.\u001b[0m\u001b[0mobjective\u001b[0m \u001b[0;34m=\u001b[0m \u001b[0miY0844_model\u001b[0m\u001b[0;34m.\u001b[0m\u001b[0mreactions\u001b[0m\u001b[0;34m.\u001b[0m\u001b[0mALDH1_CYP71AV1\u001b[0m \u001b[0;31m# production of dihydroartemisinic acid\u001b[0m\u001b[0;34m\u001b[0m\u001b[0;34m\u001b[0m\u001b[0m\n\u001b[0;32m---> 15\u001b[0;31m            \u001b[0mmax_production\u001b[0m\u001b[0;34m.\u001b[0m\u001b[0mappend\u001b[0m\u001b[0;34m(\u001b[0m\u001b[0miY0844_model\u001b[0m\u001b[0;34m.\u001b[0m\u001b[0mslim_optimize\u001b[0m\u001b[0;34m(\u001b[0m\u001b[0merror_value\u001b[0m\u001b[0;34m=\u001b[0m\u001b[0;36m0.\u001b[0m\u001b[0;34m)\u001b[0m\u001b[0;34m)\u001b[0m  \u001b[0;31m# Determining max production\u001b[0m\u001b[0;34m\u001b[0m\u001b[0;34m\u001b[0m\u001b[0m\n\u001b[0m\u001b[1;32m     16\u001b[0m        \u001b[0mmedium\u001b[0m\u001b[0;34m[\u001b[0m\u001b[0mreaction\u001b[0m\u001b[0;34m]\u001b[0m\u001b[0;34m=\u001b[0m\u001b[0;36m0\u001b[0m\u001b[0;34m\u001b[0m\u001b[0;34m\u001b[0m\u001b[0m\n",
      "\u001b[0;32m~/anaconda3/envs/cobra_escher/lib/python3.7/site-packages/cobra/core/model.py\u001b[0m in \u001b[0;36mslim_optimize\u001b[0;34m(self, error_value, message)\u001b[0m\n\u001b[1;32m   1056\u001b[0m             \u001b[0mThe\u001b[0m \u001b[0mobjective\u001b[0m \u001b[0mvalue\u001b[0m\u001b[0;34m.\u001b[0m\u001b[0;34m\u001b[0m\u001b[0;34m\u001b[0m\u001b[0m\n\u001b[1;32m   1057\u001b[0m         \"\"\"\n\u001b[0;32m-> 1058\u001b[0;31m         \u001b[0mself\u001b[0m\u001b[0;34m.\u001b[0m\u001b[0msolver\u001b[0m\u001b[0;34m.\u001b[0m\u001b[0moptimize\u001b[0m\u001b[0;34m(\u001b[0m\u001b[0;34m)\u001b[0m\u001b[0;34m\u001b[0m\u001b[0;34m\u001b[0m\u001b[0m\n\u001b[0m\u001b[1;32m   1059\u001b[0m         \u001b[0;32mif\u001b[0m \u001b[0mself\u001b[0m\u001b[0;34m.\u001b[0m\u001b[0msolver\u001b[0m\u001b[0;34m.\u001b[0m\u001b[0mstatus\u001b[0m \u001b[0;34m==\u001b[0m \u001b[0moptlang\u001b[0m\u001b[0;34m.\u001b[0m\u001b[0minterface\u001b[0m\u001b[0;34m.\u001b[0m\u001b[0mOPTIMAL\u001b[0m\u001b[0;34m:\u001b[0m\u001b[0;34m\u001b[0m\u001b[0;34m\u001b[0m\u001b[0m\n\u001b[1;32m   1060\u001b[0m             \u001b[0;32mreturn\u001b[0m \u001b[0mself\u001b[0m\u001b[0;34m.\u001b[0m\u001b[0msolver\u001b[0m\u001b[0;34m.\u001b[0m\u001b[0mobjective\u001b[0m\u001b[0;34m.\u001b[0m\u001b[0mvalue\u001b[0m\u001b[0;34m\u001b[0m\u001b[0;34m\u001b[0m\u001b[0m\n",
      "\u001b[0;32m~/anaconda3/envs/cobra_escher/lib/python3.7/site-packages/optlang/interface.py\u001b[0m in \u001b[0;36moptimize\u001b[0;34m(self)\u001b[0m\n\u001b[1;32m   1514\u001b[0m         \"\"\"\n\u001b[1;32m   1515\u001b[0m         \u001b[0mself\u001b[0m\u001b[0;34m.\u001b[0m\u001b[0mupdate\u001b[0m\u001b[0;34m(\u001b[0m\u001b[0;34m)\u001b[0m\u001b[0;34m\u001b[0m\u001b[0;34m\u001b[0m\u001b[0m\n\u001b[0;32m-> 1516\u001b[0;31m         \u001b[0mstatus\u001b[0m \u001b[0;34m=\u001b[0m \u001b[0mself\u001b[0m\u001b[0;34m.\u001b[0m\u001b[0m_optimize\u001b[0m\u001b[0;34m(\u001b[0m\u001b[0;34m)\u001b[0m\u001b[0;34m\u001b[0m\u001b[0;34m\u001b[0m\u001b[0m\n\u001b[0m\u001b[1;32m   1517\u001b[0m         \u001b[0;32mif\u001b[0m \u001b[0mstatus\u001b[0m \u001b[0;34m!=\u001b[0m \u001b[0mOPTIMAL\u001b[0m \u001b[0;32mand\u001b[0m \u001b[0mself\u001b[0m\u001b[0;34m.\u001b[0m\u001b[0mconfiguration\u001b[0m\u001b[0;34m.\u001b[0m\u001b[0mpresolve\u001b[0m \u001b[0;34m==\u001b[0m \u001b[0;34m\"auto\"\u001b[0m\u001b[0;34m:\u001b[0m\u001b[0;34m\u001b[0m\u001b[0;34m\u001b[0m\u001b[0m\n\u001b[1;32m   1518\u001b[0m             \u001b[0mself\u001b[0m\u001b[0;34m.\u001b[0m\u001b[0mconfiguration\u001b[0m\u001b[0;34m.\u001b[0m\u001b[0mpresolve\u001b[0m \u001b[0;34m=\u001b[0m \u001b[0;32mTrue\u001b[0m\u001b[0;34m\u001b[0m\u001b[0;34m\u001b[0m\u001b[0m\n",
      "\u001b[0;32m~/anaconda3/envs/cobra_escher/lib/python3.7/site-packages/optlang/glpk_interface.py\u001b[0m in \u001b[0;36m_optimize\u001b[0;34m(self)\u001b[0m\n\u001b[1;32m    704\u001b[0m \u001b[0;34m\u001b[0m\u001b[0m\n\u001b[1;32m    705\u001b[0m     \u001b[0;32mdef\u001b[0m \u001b[0m_optimize\u001b[0m\u001b[0;34m(\u001b[0m\u001b[0mself\u001b[0m\u001b[0;34m)\u001b[0m\u001b[0;34m:\u001b[0m\u001b[0;34m\u001b[0m\u001b[0;34m\u001b[0m\u001b[0m\n\u001b[0;32m--> 706\u001b[0;31m         \u001b[0mglp_scale_prob\u001b[0m\u001b[0;34m(\u001b[0m\u001b[0mself\u001b[0m\u001b[0;34m.\u001b[0m\u001b[0mproblem\u001b[0m\u001b[0;34m,\u001b[0m \u001b[0mGLP_SF_AUTO\u001b[0m\u001b[0;34m)\u001b[0m\u001b[0;34m\u001b[0m\u001b[0;34m\u001b[0m\u001b[0m\n\u001b[0m\u001b[1;32m    707\u001b[0m         \u001b[0mstatus\u001b[0m \u001b[0;34m=\u001b[0m \u001b[0mself\u001b[0m\u001b[0;34m.\u001b[0m\u001b[0m_run_glp_simplex\u001b[0m\u001b[0;34m(\u001b[0m\u001b[0;34m)\u001b[0m\u001b[0;34m\u001b[0m\u001b[0;34m\u001b[0m\u001b[0m\n\u001b[1;32m    708\u001b[0m \u001b[0;34m\u001b[0m\u001b[0m\n",
      "\u001b[0;32m~/anaconda3/envs/cobra_escher/lib/python3.7/site-packages/swiglpk/swiglpk.py\u001b[0m in \u001b[0;36mglp_scale_prob\u001b[0;34m(P, flags)\u001b[0m\n\u001b[1;32m    462\u001b[0m \u001b[0;34m\u001b[0m\u001b[0m\n\u001b[1;32m    463\u001b[0m \u001b[0;32mdef\u001b[0m \u001b[0mglp_scale_prob\u001b[0m\u001b[0;34m(\u001b[0m\u001b[0mP\u001b[0m\u001b[0;34m,\u001b[0m \u001b[0mflags\u001b[0m\u001b[0;34m)\u001b[0m\u001b[0;34m:\u001b[0m\u001b[0;34m\u001b[0m\u001b[0;34m\u001b[0m\u001b[0m\n\u001b[0;32m--> 464\u001b[0;31m     \u001b[0;32mreturn\u001b[0m \u001b[0m_swiglpk\u001b[0m\u001b[0;34m.\u001b[0m\u001b[0mglp_scale_prob\u001b[0m\u001b[0;34m(\u001b[0m\u001b[0mP\u001b[0m\u001b[0;34m,\u001b[0m \u001b[0mflags\u001b[0m\u001b[0;34m)\u001b[0m\u001b[0;34m\u001b[0m\u001b[0;34m\u001b[0m\u001b[0m\n\u001b[0m\u001b[1;32m    465\u001b[0m \u001b[0;34m\u001b[0m\u001b[0m\n\u001b[1;32m    466\u001b[0m \u001b[0;32mdef\u001b[0m \u001b[0mglp_unscale_prob\u001b[0m\u001b[0;34m(\u001b[0m\u001b[0mP\u001b[0m\u001b[0;34m)\u001b[0m\u001b[0;34m:\u001b[0m\u001b[0;34m\u001b[0m\u001b[0;34m\u001b[0m\u001b[0m\n",
      "\u001b[0;31mKeyboardInterrupt\u001b[0m: "
     ]
    }
   ],
   "source": [
    " # Define lists we will be using:\n",
    "max_growth = []\n",
    "max_production = []\n",
    "medium=iY0844_model.medium\n",
    "\n",
    "# Create loop for temporary changes in our model:\n",
    "with iY0844_model:\n",
    "    for reaction in carbon:\n",
    "        medium['BIOMASS_BS_10'] = 0 # glucose\n",
    "        medium[reaction]=1\n",
    "        iY0844_model.medium = medium\n",
    "        with iY0844_model:\n",
    "            max_growth.append(iY0844_model.slim_optimize(error_value=0.))\n",
    "            iY0844_model.objective = iY0844_model.reactions.ALDH1_CYP71AV1 # production of dihydroartemisinic acid\n",
    "            max_production.append(iY0844_model.slim_optimize(error_value=0.))  # Determining max production\n",
    "        medium[reaction]=0        \n"
   ]
  },
  {
   "cell_type": "markdown",
   "metadata": {},
   "source": [
    "We need to calculate the maxium yield using different carbon sources. First, we calculate for glucose:"
   ]
  },
  {
   "cell_type": "code",
   "execution_count": null,
   "metadata": {},
   "outputs": [
    {
     "ename": "",
     "evalue": "",
     "output_type": "error",
     "traceback": [
      "\u001b[1;31mRunning cells with 'cobra_escher' requires the ipykernel package.\n",
      "\u001b[1;31mRun the following command to install 'ipykernel' into the Python environment. \n",
      "\u001b[1;31mCommand: 'conda install -n cobra_escher ipykernel --update-deps --force-reinstall'"
     ]
    }
   ],
   "source": [
    "# Make temporary changes in the model to calculate the yield.\n",
    "# Productivity on standard medium with glucose as carbon source??\n",
    "with model:\n",
    "    solution = model.optimize()\n",
    "    print('Maximum theoretical biomass productivity:', solution.fluxes[?????], '/h')\n",
    "   \n",
    "    model.objective = model.reactions.ALDH1_CYP71AV1 # name of the final compound, our end goal (Mille wrote to Marie)\n",
    "    production_dihydroartemisinic_acid = model.optimize().objective_value\n",
    "    print('Maximum theoretical productivity of dihydroartemisinic acid:', production_dihydroartemisinic_acid, 'mmol/gDW*h')\n"
   ]
  },
  {
   "cell_type": "markdown",
   "metadata": {},
   "source": [
    "Now we change the carbon source in the medium from glucose:"
   ]
  },
  {
   "cell_type": "code",
   "execution_count": null,
   "metadata": {},
   "outputs": [],
   "source": [
    "with model:\n",
    "    solution = model.optimize()\n",
    "    print('Maximum theoretical biomass productivity:', solution.fluxes[?????], '/h')\n",
    "   \n",
    "    model.objective = model.reactions.ALDH1_CYP71AV1 # name of the final compound, our end goal (Mille wrote to Marie)\n",
    "    production_dihydroartemisinic_acid = model.optimize().objective_value\n",
    "    print('Maximum theoretical productivity of dihydroartemisinic acid:', production_dihydroartemisinic_acid, 'mmol/gDW*h')"
   ]
  }
 ],
 "metadata": {
  "kernelspec": {
   "display_name": "cobra_escher",
   "language": "python",
   "name": "python3"
  },
  "language_info": {
   "codemirror_mode": {
    "name": "ipython",
    "version": 3
   },
   "file_extension": ".py",
   "mimetype": "text/x-python",
   "name": "python",
   "nbconvert_exporter": "python",
   "pygments_lexer": "ipython3",
   "version": "3.7.16"
  }
 },
 "nbformat": 4,
 "nbformat_minor": 2
}
