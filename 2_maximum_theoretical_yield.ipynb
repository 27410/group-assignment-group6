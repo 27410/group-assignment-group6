{
 "cells": [
  {
   "cell_type": "markdown",
   "metadata": {},
   "source": [
    "The object of this section is to calculate the theoretical maximum yields for chosen product for suitable carbon sources. Therefore, we should first see which different carbon sources are avialable:"
   ]
  },
  {
   "cell_type": "code",
   "execution_count": 2,
   "metadata": {},
   "outputs": [],
   "source": [
    "# Libraries to be imported:\n",
    "from cobra.io import read_sbml_model, write_sbml_model # To read the model and save new newly generated model\n",
    "from cobra import Reaction, Metabolite # To creat new reactions and metabolites\n",
    "import numpy as np\n",
    "import matplotlib.pyplot as plt\n",
    "import pandas as pd"
   ]
  },
  {
   "cell_type": "code",
   "execution_count": 3,
   "metadata": {},
   "outputs": [],
   "source": [
    "# Define the model based on the dataset in iY0844 with the added reactions:\n",
    "iY0844_model = read_sbml_model(\"data/iYO844_modified.xml\")"
   ]
  },
  {
   "cell_type": "code",
   "execution_count": 4,
   "metadata": {},
   "outputs": [
    {
     "data": {
      "text/plain": [
       "{'EX_fe3_e': 999999.0,\n",
       " 'EX_glc__D_e': 1.7,\n",
       " 'EX_ca2_e': 999999.0,\n",
       " 'EX_so4_e': 5.0,\n",
       " 'EX_co2_e': 999999.0,\n",
       " 'EX_h2o_e': 999999.0,\n",
       " 'EX_h_e': 999999.0,\n",
       " 'EX_k_e': 999999.0,\n",
       " 'EX_mg2_e': 999999.0,\n",
       " 'EX_na1_e': 999999.0,\n",
       " 'EX_nh4_e': 5.0,\n",
       " 'EX_o2_e': 999999.0,\n",
       " 'EX_pi_e': 5.0}"
      ]
     },
     "execution_count": 4,
     "metadata": {},
     "output_type": "execute_result"
    }
   ],
   "source": [
    "# Simulate base medium in the model:\n",
    "iY0844_model.medium"
   ]
  },
  {
   "cell_type": "markdown",
   "metadata": {},
   "source": [
    "First, we find all carbon exchange reactions in our model, and from this we establish a baseline to use for later reference:"
   ]
  },
  {
   "cell_type": "code",
   "execution_count": 5,
   "metadata": {},
   "outputs": [],
   "source": [
    "# Create empty lists to store the...:\n",
    "carbon = []\n",
    "carbon_names = []\n",
    "\n",
    "# Create a loop where we find all reactions that contains carbon:\n",
    "for reaction in iY0844_model.exchanges:\n",
    "    for metabolite in reaction.reactants:\n",
    "        if \"C\" in metabolite.elements:\n",
    "            carbon.append(reaction.id)\n",
    "            carbon_names.append(reaction.name) \n",
    "            \n",
    "# Make temporary changes in the model:\n",
    "with iY0844_model:\n",
    "    max_base_growth = iY0844_model.slim_optimize()\n",
    "    iY0844_model.objective = iY0844_model.reactions.ALDH1_CYP71AV1\n",
    "    max_base_production = iY0844_model.slim_optimize()\n"
   ]
  },
  {
   "cell_type": "markdown",
   "metadata": {},
   "source": [
    "Now, we create a loop going through every carbon source in our model, and see how well it produces dihydroartemisinic acid. The ID's for the different carbon sources are found in BIGG by filtering for B. subtilis. "
   ]
  },
  {
   "cell_type": "code",
   "execution_count": 12,
   "metadata": {},
   "outputs": [],
   "source": [
    " # Define lists we will be using:\n",
    "max_growth = []\n",
    "max_production = []\n",
    "medium=iY0844_model.medium\n"
   ]
  },
  {
   "cell_type": "code",
   "execution_count": 13,
   "metadata": {},
   "outputs": [],
   "source": [
    "# Create loop for temporary changes in our model:\n",
    "with iY0844_model:\n",
    "    for reaction in carbon:\n",
    "        medium['EX_glc__D_e'] = 0 # glucose in the medium\n",
    "        medium[reaction]=1\n",
    "        iY0844_model.medium = medium\n",
    "        with iY0844_model:\n",
    "            max_growth.append(iY0844_model.slim_optimize(error_value=0.))\n",
    "            iY0844_model.objective = iY0844_model.reactions.ALDH1_CYP71AV1 # production of dihydroartemisinic acid\n",
    "            max_production.append(iY0844_model.slim_optimize(error_value=0.))  # Determining max production\n",
    "        medium[reaction]=0        \n"
   ]
  },
  {
   "cell_type": "code",
   "execution_count": 14,
   "metadata": {},
   "outputs": [
    {
     "name": "stdout",
     "output_type": "stream",
     "text": [
      "                              Carbon    Growth  Production\n",
      "0              Ethanolamine exchange  0.000000    0.000000\n",
      "1            Deoxy D Ribose exchange  0.037895    0.117143\n",
      "2                  Cytosine exchange  0.000000    0.000000\n",
      "3     5-Methylthio-D-ribose exchange  0.000000    0.000000\n",
      "4                      DTMP exchange  0.046307    0.142857\n",
      "..                               ...       ...         ...\n",
      "191                  3'-AMP exchange  0.076673    0.234286\n",
      "192                  3'-cmp exchange  0.046726    0.142857\n",
      "193                  3'-GMP exchange  0.070093    0.214286\n",
      "194   3 Phospho D glycerate exchange  0.005544    0.017143\n",
      "195  D-fructose 6-phosphate exchange  0.058426    0.180000\n",
      "\n",
      "[196 rows x 3 columns]\n"
     ]
    }
   ],
   "source": [
    "# Now, we collect all of the data in a dataframe:\n",
    "production = {'Carbon': carbon_names,\n",
    "             'Growth': max_growth,\n",
    "             'Production': max_production}\n",
    "df = pd.DataFrame(production, columns = ['Carbon', 'Growth', 'Production'])\n",
    "print(df)"
   ]
  },
  {
   "cell_type": "markdown",
   "metadata": {},
   "source": [
    "From this tabel we can see the growth and production on different carbon sources. We are only interested in carbon sources that result in growth above zero. Therefore, we remove all carbon sources where growth is equal to zero. "
   ]
  },
  {
   "cell_type": "code",
   "execution_count": 15,
   "metadata": {},
   "outputs": [
    {
     "name": "stdout",
     "output_type": "stream",
     "text": [
      "                              Carbon    Growth  Production\n",
      "1            Deoxy D Ribose exchange  0.037895    0.117143\n",
      "4                      DTMP exchange  0.046307    0.142857\n",
      "5     6 Phospho D gluconate exchange  0.051935    0.160000\n",
      "7          Alpha L Arabinan exchange  0.186409    0.574286\n",
      "14                 Cytidine exchange  0.045791    0.140000\n",
      "..                               ...       ...         ...\n",
      "191                  3'-AMP exchange  0.076673    0.234286\n",
      "192                  3'-cmp exchange  0.046726    0.142857\n",
      "193                  3'-GMP exchange  0.070093    0.214286\n",
      "194   3 Phospho D glycerate exchange  0.005544    0.017143\n",
      "195  D-fructose 6-phosphate exchange  0.058426    0.180000\n",
      "\n",
      "[111 rows x 3 columns]\n"
     ]
    }
   ],
   "source": [
    "# Create dataframe:\n",
    "df= df[df['Growth'] != 0]\n",
    "print(df)"
   ]
  },
  {
   "cell_type": "code",
   "execution_count": 20,
   "metadata": {},
   "outputs": [
    {
     "data": {
      "image/png": "[encoded data removed]",
      "text/plain": [
       "<Figure size 432x288 with 1 Axes>"
      ]
     },
     "metadata": {
      "needs_background": "light"
     },
     "output_type": "display_data"
    }
   ],
   "source": [
    "# We create a scatterplot of the production over growth to view the distribution\n",
    "plt.scatter(df.get('Growth'), df.get('Production'),c='red')\n",
    "plt.xlabel('Maximum growth rate')\n",
    "plt.ylabel('Maximum production')\n",
    "plt.xlim(0, 0.2)\n",
    "plt.ylim(0, 0.5)\n",
    "plt.title('Maximal Growth rate and production')\n",
    "plt.savefig(\"figures/carbon_sources\")\n",
    "plt.show()"
   ]
  },
  {
   "cell_type": "markdown",
   "metadata": {},
   "source": [
    "Now we look at the maximum growth and production obtained from glucose, which we will then compare with the growth and production obtained from other carbon sources:"
   ]
  },
  {
   "cell_type": "code",
   "execution_count": 21,
   "metadata": {},
   "outputs": [
    {
     "name": "stdout",
     "output_type": "stream",
     "text": [
      "0.11796638932239784 0.36342857142856866\n"
     ]
    }
   ],
   "source": [
    "#Original growth and production of dihydroartemisinic acid using glucose as a carbon source:\n",
    "print(max_base_growth,max_base_production)"
   ]
  },
  {
   "cell_type": "code",
   "execution_count": 22,
   "metadata": {},
   "outputs": [
    {
     "data": {
      "text/html": [
       "<div>\n",
       "<style scoped>\n",
       "    .dataframe tbody tr th:only-of-type {\n",
       "        vertical-align: middle;\n",
       "    }\n",
       "\n",
       "    .dataframe tbody tr th {\n",
       "        vertical-align: top;\n",
       "    }\n",
       "\n",
       "    .dataframe thead th {\n",
       "        text-align: right;\n",
       "    }\n",
       "</style>\n",
       "<table border=\"1\" class=\"dataframe\">\n",
       "  <thead>\n",
       "    <tr style=\"text-align: right;\">\n",
       "      <th></th>\n",
       "      <th>Carbon</th>\n",
       "      <th>Growth</th>\n",
       "      <th>Production</th>\n",
       "    </tr>\n",
       "  </thead>\n",
       "  <tbody>\n",
       "    <tr>\n",
       "      <th>158</th>\n",
       "      <td>Maltotriose exchange</td>\n",
       "      <td>0.233707</td>\n",
       "      <td>0.720000</td>\n",
       "    </tr>\n",
       "    <tr>\n",
       "      <th>82</th>\n",
       "      <td>Raffinose exchange</td>\n",
       "      <td>0.232780</td>\n",
       "      <td>0.717143</td>\n",
       "    </tr>\n",
       "    <tr>\n",
       "      <th>7</th>\n",
       "      <td>Alpha L Arabinan exchange</td>\n",
       "      <td>0.186409</td>\n",
       "      <td>0.574286</td>\n",
       "    </tr>\n",
       "    <tr>\n",
       "      <th>157</th>\n",
       "      <td>Maltose exchange</td>\n",
       "      <td>0.144676</td>\n",
       "      <td>0.445714</td>\n",
       "    </tr>\n",
       "    <tr>\n",
       "      <th>109</th>\n",
       "      <td>Sucrose exchange</td>\n",
       "      <td>0.144676</td>\n",
       "      <td>0.445714</td>\n",
       "    </tr>\n",
       "    <tr>\n",
       "      <th>80</th>\n",
       "      <td>Cellobiose exchange</td>\n",
       "      <td>0.144676</td>\n",
       "      <td>0.445714</td>\n",
       "    </tr>\n",
       "    <tr>\n",
       "      <th>127</th>\n",
       "      <td>Trehalose exchange</td>\n",
       "      <td>0.144676</td>\n",
       "      <td>0.445714</td>\n",
       "    </tr>\n",
       "    <tr>\n",
       "      <th>176</th>\n",
       "      <td>Palatinose exchange</td>\n",
       "      <td>0.143748</td>\n",
       "      <td>0.442857</td>\n",
       "    </tr>\n",
       "    <tr>\n",
       "      <th>19</th>\n",
       "      <td>Dextrin exchange</td>\n",
       "      <td>0.143748</td>\n",
       "      <td>0.442857</td>\n",
       "    </tr>\n",
       "    <tr>\n",
       "      <th>106</th>\n",
       "      <td>Starch exchange</td>\n",
       "      <td>0.143748</td>\n",
       "      <td>0.442857</td>\n",
       "    </tr>\n",
       "    <tr>\n",
       "      <th>164</th>\n",
       "      <td>Melibiose exchange</td>\n",
       "      <td>0.143748</td>\n",
       "      <td>0.442857</td>\n",
       "    </tr>\n",
       "    <tr>\n",
       "      <th>150</th>\n",
       "      <td>Lactose exchange</td>\n",
       "      <td>0.140966</td>\n",
       "      <td>0.434286</td>\n",
       "    </tr>\n",
       "    <tr>\n",
       "      <th>28</th>\n",
       "      <td>N-Acetylneuraminate exchange</td>\n",
       "      <td>0.127515</td>\n",
       "      <td>0.400000</td>\n",
       "    </tr>\n",
       "    <tr>\n",
       "      <th>122</th>\n",
       "      <td>Oxidized glutathione exchange</td>\n",
       "      <td>0.093274</td>\n",
       "      <td>0.285714</td>\n",
       "    </tr>\n",
       "    <tr>\n",
       "      <th>27</th>\n",
       "      <td>N-Acetyl-D-mannosamine exchange</td>\n",
       "      <td>0.088136</td>\n",
       "      <td>0.280000</td>\n",
       "    </tr>\n",
       "    <tr>\n",
       "      <th>26</th>\n",
       "      <td>N-Acetyl-D-glucosamine exchange</td>\n",
       "      <td>0.080783</td>\n",
       "      <td>0.248571</td>\n",
       "    </tr>\n",
       "    <tr>\n",
       "      <th>61</th>\n",
       "      <td>AMP exchange</td>\n",
       "      <td>0.076722</td>\n",
       "      <td>0.234286</td>\n",
       "    </tr>\n",
       "    <tr>\n",
       "      <th>191</th>\n",
       "      <td>3'-AMP exchange</td>\n",
       "      <td>0.076673</td>\n",
       "      <td>0.234286</td>\n",
       "    </tr>\n",
       "    <tr>\n",
       "      <th>17</th>\n",
       "      <td>Deoxyadenosine exchange</td>\n",
       "      <td>0.076415</td>\n",
       "      <td>0.234286</td>\n",
       "    </tr>\n",
       "    <tr>\n",
       "      <th>33</th>\n",
       "      <td>Adenosine exchange</td>\n",
       "      <td>0.075738</td>\n",
       "      <td>0.231429</td>\n",
       "    </tr>\n",
       "  </tbody>\n",
       "</table>\n",
       "</div>"
      ],
      "text/plain": [
       "                              Carbon    Growth  Production\n",
       "158             Maltotriose exchange  0.233707    0.720000\n",
       "82                Raffinose exchange  0.232780    0.717143\n",
       "7          Alpha L Arabinan exchange  0.186409    0.574286\n",
       "157                 Maltose exchange  0.144676    0.445714\n",
       "109                 Sucrose exchange  0.144676    0.445714\n",
       "80               Cellobiose exchange  0.144676    0.445714\n",
       "127               Trehalose exchange  0.144676    0.445714\n",
       "176              Palatinose exchange  0.143748    0.442857\n",
       "19                  Dextrin exchange  0.143748    0.442857\n",
       "106                  Starch exchange  0.143748    0.442857\n",
       "164               Melibiose exchange  0.143748    0.442857\n",
       "150                 Lactose exchange  0.140966    0.434286\n",
       "28      N-Acetylneuraminate exchange  0.127515    0.400000\n",
       "122    Oxidized glutathione exchange  0.093274    0.285714\n",
       "27   N-Acetyl-D-mannosamine exchange  0.088136    0.280000\n",
       "26   N-Acetyl-D-glucosamine exchange  0.080783    0.248571\n",
       "61                      AMP exchange  0.076722    0.234286\n",
       "191                  3'-AMP exchange  0.076673    0.234286\n",
       "17           Deoxyadenosine exchange  0.076415    0.234286\n",
       "33                Adenosine exchange  0.075738    0.231429"
      ]
     },
     "execution_count": 22,
     "metadata": {},
     "output_type": "execute_result"
    }
   ],
   "source": [
    "# To compare, we look at the carbon soruces resulting in the top 20 highest growth\n",
    "df.sort_values(by='Growth', ascending=False).head(20)"
   ]
  },
  {
   "cell_type": "markdown",
   "metadata": {},
   "source": [
    "As we can see from this table, maltotiose, maltose and succrose looks promising, resulting in the 4th and 5th highest growth, respectively, while they also result in high production. We choose to continue investigation on these carbon sources, as they are the most readily available carbon sources, and will therefore not be too expensive to use in a medium."
   ]
  },
  {
   "cell_type": "code",
   "execution_count": 25,
   "metadata": {},
   "outputs": [
    {
     "name": "stdout",
     "output_type": "stream",
     "text": [
      "EX_malttr_e\n"
     ]
    }
   ],
   "source": [
    "# First we investigate maltotriose - we look for the ID of maltotriose:\n",
    "for reaction in iY0844_model.reactions.query('Maltotriose exchange', 'name'):\n",
    "    print(reaction.id)"
   ]
  },
  {
   "cell_type": "code",
   "execution_count": 27,
   "metadata": {},
   "outputs": [
    {
     "data": {
      "text/plain": [
       "{'EX_fe3_e': 999999.0,\n",
       " 'EX_ca2_e': 999999.0,\n",
       " 'EX_so4_e': 5.0,\n",
       " 'EX_co2_e': 999999.0,\n",
       " 'EX_h2o_e': 999999.0,\n",
       " 'EX_h_e': 999999.0,\n",
       " 'EX_k_e': 999999.0,\n",
       " 'EX_malttr_e': 1.0,\n",
       " 'EX_mg2_e': 999999.0,\n",
       " 'EX_na1_e': 999999.0,\n",
       " 'EX_nh4_e': 5.0,\n",
       " 'EX_o2_e': 999999.0,\n",
       " 'EX_pi_e': 5.0}"
      ]
     },
     "execution_count": 27,
     "metadata": {},
     "output_type": "execute_result"
    }
   ],
   "source": [
    "# Changing the carbon source to sucrose rather than glucose in our medium:\n",
    "medium=iY0844_model.medium\n",
    "medium['EX_glc__D_e'] = 0\n",
    "medium[\"EX_malttr_e\"]=1 # question to igor why 1 \n",
    "iY0844_model.medium = medium\n",
    "write_sbml_model(iY0844_model, \"data/iYO844_modified_maltotriose.xml\")\n",
    "iY0844_model_maltotriose = read_sbml_model('data/iYO844_modified_maltotriose.xml')\n",
    "iY0844_model_maltotriose.medium"
   ]
  }
 ],
 "metadata": {
  "kernelspec": {
   "display_name": "cobra_escher",
   "language": "python",
   "name": "python3"
  },
  "language_info": {
   "codemirror_mode": {
    "name": "ipython",
    "version": 3
   },
   "file_extension": ".py",
   "mimetype": "text/x-python",
   "name": "python",
   "nbconvert_exporter": "python",
   "pygments_lexer": "ipython3",
   "version": "3.7.16"
  }
 },
 "nbformat": 4,
 "nbformat_minor": 2
}
