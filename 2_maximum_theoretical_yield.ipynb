{
 "cells": [
  {
   "cell_type": "markdown",
   "metadata": {},
   "source": [
    "The object of this section is to calculate the theoretical maximum yields for chosen product for suitable carbon sources. Therefore, we should first see which different carbon sources are avialable:"
   ]
  },
  {
   "cell_type": "code",
   "execution_count": null,
   "metadata": {},
   "outputs": [
    {
     "ename": "",
     "evalue": "",
     "output_type": "error",
     "traceback": [
      "\u001b[1;31mRunning cells with 'cobra_escher' requires the ipykernel package.\n",
      "\u001b[1;31mRun the following command to install 'ipykernel' into the Python environment. \n",
      "\u001b[1;31mCommand: 'conda install -n cobra_escher ipykernel --update-deps --force-reinstall'"
     ]
    }
   ],
   "source": [
    "# Libraries to be imported:\n",
    "from cobra.io import read_sbml_model, write_sbml_model # To read the model and save new newly generated model\n",
    "from cobra import Reaction, Metabolite # To creat new reactions and metabolites\n",
    "import numpy as np\n",
    "import matplotlib.pyplot as plt\n",
    "import pandas as pd"
   ]
  },
  {
   "cell_type": "code",
   "execution_count": null,
   "metadata": {},
   "outputs": [],
   "source": [
    "# Define the model based on the dataset in iY0844 with the added reactions:\n",
    "iY0844_model = read_sbml_model(\"data/iYO844_modified.xml\")"
   ]
  },
  {
   "cell_type": "code",
   "execution_count": null,
   "metadata": {},
   "outputs": [],
   "source": [
    "# Simulate the availability of nutrients and other external compounds for the model\n",
    "iY0844_model.medium"
   ]
  },
  {
   "cell_type": "markdown",
   "metadata": {},
   "source": [
    "We need to calculate the maxium yield using different carbon sources. First, we calculate for glucose:"
   ]
  },
  {
   "cell_type": "code",
   "execution_count": null,
   "metadata": {},
   "outputs": [
    {
     "ename": "",
     "evalue": "",
     "output_type": "error",
     "traceback": [
      "\u001b[1;31mRunning cells with 'cobra_escher' requires the ipykernel package.\n",
      "\u001b[1;31mRun the following command to install 'ipykernel' into the Python environment. \n",
      "\u001b[1;31mCommand: 'conda install -n cobra_escher ipykernel --update-deps --force-reinstall'"
     ]
    }
   ],
   "source": [
    "# Make temporary changes in the model to calculate the yield.\n",
    "# Productivity on standard medium with glucose as carbon source??\n",
    "with model:\n",
    "    solution = model.optimize()\n",
    "    print('Maximum theoretical biomass productivity:', solution.fluxes[?????], '/h')\n",
    "   \n",
    "    model.objective = model.reactions.ALDH1_CYP71AV1 # name of the final compound, our end goal (Mille wrote to Marie)\n",
    "    production_dihydroartemisinic_acid = model.optimize().objective_value\n",
    "    print('Maximum theoretical productivity of dihydroartemisinic acid:', production_dihydroartemisinic_acid, 'mmol/gDW*h')\n"
   ]
  },
  {
   "cell_type": "markdown",
   "metadata": {},
   "source": [
    "Now we change the carbon source in the medium from glucose:"
   ]
  },
  {
   "cell_type": "code",
   "execution_count": null,
   "metadata": {},
   "outputs": [],
   "source": [
    "with model:\n",
    "    solution = model.optimize()\n",
    "    print('Maximum theoretical biomass productivity:', solution.fluxes[?????], '/h')\n",
    "   \n",
    "    model.objective = model.reactions.ALDH1_CYP71AV1 # name of the final compound, our end goal (Mille wrote to Marie)\n",
    "    production_dihydroartemisinic_acid = model.optimize().objective_value\n",
    "    print('Maximum theoretical productivity of dihydroartemisinic acid:', production_dihydroartemisinic_acid, 'mmol/gDW*h')"
   ]
  }
 ],
 "metadata": {
  "kernelspec": {
   "display_name": "cobra_escher",
   "language": "python",
   "name": "python3"
  },
  "language_info": {
   "name": "python",
   "version": "3.7.16"
  }
 },
 "nbformat": 4,
 "nbformat_minor": 2
}
