{
 "cells": [
  {
   "cell_type": "markdown",
   "metadata": {},
   "source": [
    "# Maximum Theoretical Yield\n",
    "The object of this section is to calculate the theoretical maximum yields for chosen product for suitable carbon sources. Therefore, we should first see which different carbon sources are avialable:"
   ]
  },
  {
   "cell_type": "code",
   "execution_count": 1,
   "metadata": {},
   "outputs": [],
   "source": [
    "# Libraries to be imported:\n",
    "from cobra.io import read_sbml_model, write_sbml_model # To read the model and save new newly generated model\n",
    "from cobra import Reaction, Metabolite # To creat new reactions and metabolites\n",
    "import numpy as np\n",
    "import matplotlib.pyplot as plt\n",
    "import pandas as pd"
   ]
  },
  {
   "cell_type": "code",
   "execution_count": 2,
   "metadata": {},
   "outputs": [],
   "source": [
    "# Define the model based on the dataset in iY0844 with the added reactions:\n",
    "iY0844_model = read_sbml_model(\"data/iYO844_modified.xml\")"
   ]
  },
  {
   "cell_type": "code",
   "execution_count": 3,
   "metadata": {},
   "outputs": [
    {
     "data": {
      "text/plain": [
       "{'EX_fe3_e': 999999.0,\n",
       " 'EX_glc__D_e': 1.7,\n",
       " 'EX_ca2_e': 999999.0,\n",
       " 'EX_so4_e': 5.0,\n",
       " 'EX_co2_e': 999999.0,\n",
       " 'EX_h2o_e': 999999.0,\n",
       " 'EX_h_e': 999999.0,\n",
       " 'EX_k_e': 999999.0,\n",
       " 'EX_mg2_e': 999999.0,\n",
       " 'EX_na1_e': 999999.0,\n",
       " 'EX_nh4_e': 5.0,\n",
       " 'EX_o2_e': 999999.0,\n",
       " 'EX_pi_e': 5.0}"
      ]
     },
     "execution_count": 3,
     "metadata": {},
     "output_type": "execute_result"
    }
   ],
   "source": [
    "# Simulate base medium in the model:\n",
    "iY0844_model.medium"
   ]
  },
  {
   "cell_type": "markdown",
   "metadata": {},
   "source": [
    "First, we find all carbon exchange reactions in our model, and from this we establish a baseline to use for later reference:"
   ]
  },
  {
   "cell_type": "code",
   "execution_count": 4,
   "metadata": {},
   "outputs": [],
   "source": [
    "# Create empty lists to store the...:\n",
    "carbon = []\n",
    "carbon_names = []\n",
    "\n",
    "# Create a loop where we find all reactions that contains carbon:\n",
    "for reaction in iY0844_model.exchanges:\n",
    "    for metabolite in reaction.reactants:\n",
    "        if \"C\" in metabolite.elements:\n",
    "            carbon.append(reaction.id)\n",
    "            carbon_names.append(reaction.name) \n",
    "            \n",
    "# Make temporary changes in the model:\n",
    "with iY0844_model:\n",
    "    max_base_growth = iY0844_model.slim_optimize()\n",
    "    iY0844_model.objective = iY0844_model.reactions.ALDH1_CYP71AV1\n",
    "    max_base_production = iY0844_model.slim_optimize()\n"
   ]
  },
  {
   "cell_type": "markdown",
   "metadata": {},
   "source": [
    "Now, we create a loop going through every carbon source in our model, and see how well it produces dihydroartemisinic acid. The ID's for the different carbon sources are found in BIGG by filtering for B. subtilis. "
   ]
  },
  {
   "cell_type": "code",
   "execution_count": 5,
   "metadata": {},
   "outputs": [],
   "source": [
    " # Define lists we will be using:\n",
    "max_growth = []\n",
    "max_production = []\n",
    "medium=iY0844_model.medium"
   ]
  },
  {
   "cell_type": "code",
   "execution_count": 6,
   "metadata": {},
   "outputs": [],
   "source": [
    "# Create loop for temporary changes in our model:\n",
    "with iY0844_model:\n",
    "    for reaction in carbon:\n",
    "        medium['EX_glc__D_e'] = 0 # glucose in the medium\n",
    "        medium[reaction]=1\n",
    "        iY0844_model.medium = medium\n",
    "        with iY0844_model:\n",
    "            max_growth.append(iY0844_model.slim_optimize(error_value=0.))\n",
    "            iY0844_model.objective = iY0844_model.reactions.ALDH1_CYP71AV1 # production of dihydroartemisinic acid\n",
    "            max_production.append(iY0844_model.slim_optimize(error_value=0.))  # Determining max production\n",
    "        medium[reaction]=0\n"
   ]
  },
  {
   "cell_type": "code",
   "execution_count": 7,
   "metadata": {},
   "outputs": [
    {
     "name": "stdout",
     "output_type": "stream",
     "text": [
      "                              Carbon    Growth  Production\n",
      "0              Ethanolamine exchange  0.000000    0.000000\n",
      "1            Deoxy D Ribose exchange  0.037895    0.117143\n",
      "2                  Cytosine exchange  0.000000    0.000000\n",
      "3     5-Methylthio-D-ribose exchange  0.000000    0.000000\n",
      "4                      DTMP exchange  0.046307    0.142857\n",
      "..                               ...       ...         ...\n",
      "191                  3'-AMP exchange  0.076673    0.234286\n",
      "192                  3'-cmp exchange  0.046726    0.142857\n",
      "193                  3'-GMP exchange  0.070093    0.214286\n",
      "194   3 Phospho D glycerate exchange  0.005544    0.017143\n",
      "195  D-fructose 6-phosphate exchange  0.058426    0.180000\n",
      "\n",
      "[196 rows x 3 columns]\n"
     ]
    }
   ],
   "source": [
    "# Now, we collect all of the data in a dataframe:\n",
    "production = {'Carbon': carbon_names,\n",
    "             'Growth': max_growth,\n",
    "             'Production': max_production}\n",
    "df = pd.DataFrame(production, columns = ['Carbon', 'Growth', 'Production'])\n",
    "print(df)"
   ]
  },
  {
   "cell_type": "markdown",
   "metadata": {},
   "source": [
    "From this tabel we can see the growth and production on different carbon sources. We are only interested in carbon sources that result in growth above zero. Therefore, we remove all carbon sources where growth is equal to zero. "
   ]
  },
  {
   "cell_type": "code",
   "execution_count": 8,
   "metadata": {},
   "outputs": [
    {
     "name": "stdout",
     "output_type": "stream",
     "text": [
      "                              Carbon    Growth  Production\n",
      "1            Deoxy D Ribose exchange  0.037895    0.117143\n",
      "4                      DTMP exchange  0.046307    0.142857\n",
      "5     6 Phospho D gluconate exchange  0.051935    0.160000\n",
      "7          Alpha L Arabinan exchange  0.186409    0.574286\n",
      "14                 Cytidine exchange  0.045791    0.140000\n",
      "..                               ...       ...         ...\n",
      "191                  3'-AMP exchange  0.076673    0.234286\n",
      "192                  3'-cmp exchange  0.046726    0.142857\n",
      "193                  3'-GMP exchange  0.070093    0.214286\n",
      "194   3 Phospho D glycerate exchange  0.005544    0.017143\n",
      "195  D-fructose 6-phosphate exchange  0.058426    0.180000\n",
      "\n",
      "[111 rows x 3 columns]\n"
     ]
    }
   ],
   "source": [
    "# Create dataframe:\n",
    "df= df[df['Growth'] != 0]\n",
    "print(df)"
   ]
  },
  {
   "cell_type": "code",
   "execution_count": 9,
   "metadata": {},
   "outputs": [
    {
     "data": {
      "image/png": "[encoded data removed]",
      "text/plain": [
       "<Figure size 640x480 with 1 Axes>"
      ]
     },
     "metadata": {},
     "output_type": "display_data"
    }
   ],
   "source": [
    "# We create a scatterplot of the production over growth to view the distribution\n",
    "plt.scatter(df.get('Growth'), df.get('Production'),c='red')\n",
    "plt.xlabel('Maximum growth rate')\n",
    "plt.ylabel('Maximum production')\n",
    "plt.xlim(0, 0.2)\n",
    "plt.ylim(0, 0.5)\n",
    "plt.title('Maximal Growth rate and production')\n",
    "plt.savefig(\"figures/carbon_sources\")\n",
    "plt.show()"
   ]
  },
  {
   "cell_type": "markdown",
   "metadata": {},
   "source": [
    "Now we look at the maximum growth and production obtained from glucose, which we will then compare with the growth and production obtained from other carbon sources:"
   ]
  },
  {
   "cell_type": "code",
   "execution_count": 10,
   "metadata": {},
   "outputs": [
    {
     "data": {
      "text/plain": [
       "{'EX_fe3_e': 999999.0,\n",
       " 'EX_glc__D_e': 1.0,\n",
       " 'EX_ca2_e': 999999.0,\n",
       " 'EX_so4_e': 5.0,\n",
       " 'EX_co2_e': 999999.0,\n",
       " 'EX_h2o_e': 999999.0,\n",
       " 'EX_h_e': 999999.0,\n",
       " 'EX_k_e': 999999.0,\n",
       " 'EX_mg2_e': 999999.0,\n",
       " 'EX_na1_e': 999999.0,\n",
       " 'EX_nh4_e': 5.0,\n",
       " 'EX_o2_e': 999999.0,\n",
       " 'EX_pi_e': 5.0}"
      ]
     },
     "execution_count": 10,
     "metadata": {},
     "output_type": "execute_result"
    }
   ],
   "source": [
    "# Changing the carbon source to sucrose rather than glucose in our medium:\n",
    "medium=iY0844_model.medium\n",
    "medium['EX_glc__D_e'] = 1\n",
    "iY0844_model.medium = medium\n",
    "write_sbml_model(iY0844_model, \"data/iYO844_modified_glucose.xml\")\n",
    "iY0844_model_glucose = read_sbml_model('data/iYO844_modified_glucose.xml')\n",
    "iY0844_model_glucose.medium"
   ]
  },
  {
   "cell_type": "code",
   "execution_count": 11,
   "metadata": {},
   "outputs": [
    {
     "name": "stdout",
     "output_type": "stream",
     "text": [
      "Max. dihydroartemisinic acid production [mmol gDW^-1 h^-1]: 0.17142857142857187\n",
      "Theoretical max. yield [mmol-dhart_acid / mmol-glucose]: 0.17142857142857187\n"
     ]
    }
   ],
   "source": [
    "# Claculate the max. theoretical yield for production on glucose\n",
    "with iY0844_model_glucose:\n",
    "    iY0844_model_glucose.objective = iY0844_model_glucose.reactions.ALDH1_CYP71AV1\n",
    "    DHAA_production_1 = iY0844_model_glucose.optimize().objective_value\n",
    "    max_yield_glucose = DHAA_production_1 / (-1*iY0844_model_glucose.reactions.EX_glc__D_e.flux)\n",
    "    print(\"Max. dihydroartemisinic acid production [mmol gDW^-1 h^-1]:\", DHAA_production_1)\n",
    "    print(\"Theoretical max. yield [mmol-dhart_acid / mmol-glucose]:\", max_yield_glucose) # DHAA_production_1 / (-1*iY0844_model_maltotriose.reactions.EX_malttr_e.flux))"
   ]
  },
  {
   "cell_type": "code",
   "execution_count": 139,
   "metadata": {},
   "outputs": [],
   "source": [
    "# This is what the other group did, but I think it makes more sense to do as above.\n",
    "\n",
    "# Original growth and production of dihydroartemisinic acid using glucose as a carbon source:\n",
    "# print(max_base_growth,max_base_production)"
   ]
  },
  {
   "cell_type": "code",
   "execution_count": 12,
   "metadata": {},
   "outputs": [
    {
     "data": {
      "text/html": [
       "<div>\n",
       "<style scoped>\n",
       "    .dataframe tbody tr th:only-of-type {\n",
       "        vertical-align: middle;\n",
       "    }\n",
       "\n",
       "    .dataframe tbody tr th {\n",
       "        vertical-align: top;\n",
       "    }\n",
       "\n",
       "    .dataframe thead th {\n",
       "        text-align: right;\n",
       "    }\n",
       "</style>\n",
       "<table border=\"1\" class=\"dataframe\">\n",
       "  <thead>\n",
       "    <tr style=\"text-align: right;\">\n",
       "      <th></th>\n",
       "      <th>Carbon</th>\n",
       "      <th>Growth</th>\n",
       "      <th>Production</th>\n",
       "    </tr>\n",
       "  </thead>\n",
       "  <tbody>\n",
       "    <tr>\n",
       "      <th>158</th>\n",
       "      <td>Maltotriose exchange</td>\n",
       "      <td>0.233707</td>\n",
       "      <td>0.720000</td>\n",
       "    </tr>\n",
       "    <tr>\n",
       "      <th>82</th>\n",
       "      <td>Raffinose exchange</td>\n",
       "      <td>0.232780</td>\n",
       "      <td>0.717143</td>\n",
       "    </tr>\n",
       "    <tr>\n",
       "      <th>7</th>\n",
       "      <td>Alpha L Arabinan exchange</td>\n",
       "      <td>0.186409</td>\n",
       "      <td>0.574286</td>\n",
       "    </tr>\n",
       "    <tr>\n",
       "      <th>157</th>\n",
       "      <td>Maltose exchange</td>\n",
       "      <td>0.144676</td>\n",
       "      <td>0.445714</td>\n",
       "    </tr>\n",
       "    <tr>\n",
       "      <th>109</th>\n",
       "      <td>Sucrose exchange</td>\n",
       "      <td>0.144676</td>\n",
       "      <td>0.445714</td>\n",
       "    </tr>\n",
       "    <tr>\n",
       "      <th>80</th>\n",
       "      <td>Cellobiose exchange</td>\n",
       "      <td>0.144676</td>\n",
       "      <td>0.445714</td>\n",
       "    </tr>\n",
       "    <tr>\n",
       "      <th>127</th>\n",
       "      <td>Trehalose exchange</td>\n",
       "      <td>0.144676</td>\n",
       "      <td>0.445714</td>\n",
       "    </tr>\n",
       "    <tr>\n",
       "      <th>176</th>\n",
       "      <td>Palatinose exchange</td>\n",
       "      <td>0.143748</td>\n",
       "      <td>0.442857</td>\n",
       "    </tr>\n",
       "    <tr>\n",
       "      <th>19</th>\n",
       "      <td>Dextrin exchange</td>\n",
       "      <td>0.143748</td>\n",
       "      <td>0.442857</td>\n",
       "    </tr>\n",
       "    <tr>\n",
       "      <th>106</th>\n",
       "      <td>Starch exchange</td>\n",
       "      <td>0.143748</td>\n",
       "      <td>0.442857</td>\n",
       "    </tr>\n",
       "    <tr>\n",
       "      <th>164</th>\n",
       "      <td>Melibiose exchange</td>\n",
       "      <td>0.143748</td>\n",
       "      <td>0.442857</td>\n",
       "    </tr>\n",
       "    <tr>\n",
       "      <th>150</th>\n",
       "      <td>Lactose exchange</td>\n",
       "      <td>0.140966</td>\n",
       "      <td>0.434286</td>\n",
       "    </tr>\n",
       "    <tr>\n",
       "      <th>28</th>\n",
       "      <td>N-Acetylneuraminate exchange</td>\n",
       "      <td>0.127515</td>\n",
       "      <td>0.400000</td>\n",
       "    </tr>\n",
       "    <tr>\n",
       "      <th>122</th>\n",
       "      <td>Oxidized glutathione exchange</td>\n",
       "      <td>0.093274</td>\n",
       "      <td>0.285714</td>\n",
       "    </tr>\n",
       "    <tr>\n",
       "      <th>27</th>\n",
       "      <td>N-Acetyl-D-mannosamine exchange</td>\n",
       "      <td>0.088136</td>\n",
       "      <td>0.280000</td>\n",
       "    </tr>\n",
       "    <tr>\n",
       "      <th>26</th>\n",
       "      <td>N-Acetyl-D-glucosamine exchange</td>\n",
       "      <td>0.080783</td>\n",
       "      <td>0.248571</td>\n",
       "    </tr>\n",
       "    <tr>\n",
       "      <th>61</th>\n",
       "      <td>AMP exchange</td>\n",
       "      <td>0.076722</td>\n",
       "      <td>0.234286</td>\n",
       "    </tr>\n",
       "    <tr>\n",
       "      <th>191</th>\n",
       "      <td>3'-AMP exchange</td>\n",
       "      <td>0.076673</td>\n",
       "      <td>0.234286</td>\n",
       "    </tr>\n",
       "    <tr>\n",
       "      <th>17</th>\n",
       "      <td>Deoxyadenosine exchange</td>\n",
       "      <td>0.076415</td>\n",
       "      <td>0.234286</td>\n",
       "    </tr>\n",
       "    <tr>\n",
       "      <th>33</th>\n",
       "      <td>Adenosine exchange</td>\n",
       "      <td>0.075738</td>\n",
       "      <td>0.231429</td>\n",
       "    </tr>\n",
       "  </tbody>\n",
       "</table>\n",
       "</div>"
      ],
      "text/plain": [
       "                              Carbon    Growth  Production\n",
       "158             Maltotriose exchange  0.233707    0.720000\n",
       "82                Raffinose exchange  0.232780    0.717143\n",
       "7          Alpha L Arabinan exchange  0.186409    0.574286\n",
       "157                 Maltose exchange  0.144676    0.445714\n",
       "109                 Sucrose exchange  0.144676    0.445714\n",
       "80               Cellobiose exchange  0.144676    0.445714\n",
       "127               Trehalose exchange  0.144676    0.445714\n",
       "176              Palatinose exchange  0.143748    0.442857\n",
       "19                  Dextrin exchange  0.143748    0.442857\n",
       "106                  Starch exchange  0.143748    0.442857\n",
       "164               Melibiose exchange  0.143748    0.442857\n",
       "150                 Lactose exchange  0.140966    0.434286\n",
       "28      N-Acetylneuraminate exchange  0.127515    0.400000\n",
       "122    Oxidized glutathione exchange  0.093274    0.285714\n",
       "27   N-Acetyl-D-mannosamine exchange  0.088136    0.280000\n",
       "26   N-Acetyl-D-glucosamine exchange  0.080783    0.248571\n",
       "61                      AMP exchange  0.076722    0.234286\n",
       "191                  3'-AMP exchange  0.076673    0.234286\n",
       "17           Deoxyadenosine exchange  0.076415    0.234286\n",
       "33                Adenosine exchange  0.075738    0.231429"
      ]
     },
     "execution_count": 12,
     "metadata": {},
     "output_type": "execute_result"
    }
   ],
   "source": [
    "# To compare, we look at the carbon soruces resulting in the top 20 highest growth\n",
    "df.sort_values(by='Growth', ascending=False).head(20)"
   ]
  },
  {
   "cell_type": "markdown",
   "metadata": {},
   "source": [
    "As we can see from this table, maltotiose, maltose and sucrose looks promising, resulting in the 4th and 5th highest growth, respectively, while they also result in high production. We choose to continue investigation on these carbon sources, as they are the most readily available carbon sources, and will therefore not be too expensive to use in a medium."
   ]
  },
  {
   "cell_type": "code",
   "execution_count": 13,
   "metadata": {},
   "outputs": [
    {
     "name": "stdout",
     "output_type": "stream",
     "text": [
      "EX_malttr_e\n"
     ]
    }
   ],
   "source": [
    "# First we investigate maltotriose - we look for the ID of maltotriose:\n",
    "for reaction in iY0844_model.reactions.query('Maltotriose exchange', 'name'):\n",
    "    print(reaction.id)"
   ]
  },
  {
   "cell_type": "code",
   "execution_count": 14,
   "metadata": {},
   "outputs": [
    {
     "data": {
      "text/plain": [
       "{'EX_fe3_e': 999999.0,\n",
       " 'EX_ca2_e': 999999.0,\n",
       " 'EX_so4_e': 5.0,\n",
       " 'EX_co2_e': 999999.0,\n",
       " 'EX_h2o_e': 999999.0,\n",
       " 'EX_h_e': 999999.0,\n",
       " 'EX_k_e': 999999.0,\n",
       " 'EX_malttr_e': 1.0,\n",
       " 'EX_mg2_e': 999999.0,\n",
       " 'EX_na1_e': 999999.0,\n",
       " 'EX_nh4_e': 5.0,\n",
       " 'EX_o2_e': 999999.0,\n",
       " 'EX_pi_e': 5.0}"
      ]
     },
     "execution_count": 14,
     "metadata": {},
     "output_type": "execute_result"
    }
   ],
   "source": [
    "# Changing the carbon source to sucrose rather than glucose in our medium:\n",
    "medium=iY0844_model.medium\n",
    "medium['EX_glc__D_e'] = 0\n",
    "medium[\"EX_malttr_e\"]=1 # question to igor why 1 \n",
    "iY0844_model.medium = medium\n",
    "write_sbml_model(iY0844_model, \"data/iYO844_modified_maltotriose.xml\")\n",
    "iY0844_model_maltotriose = read_sbml_model('data/iYO844_modified_maltotriose.xml')\n",
    "iY0844_model_maltotriose.medium # see that glucose has been deleted and maltotriose added"
   ]
  },
  {
   "cell_type": "code",
   "execution_count": 15,
   "metadata": {},
   "outputs": [
    {
     "name": "stdout",
     "output_type": "stream",
     "text": [
      "Max. dihydroartemisinic acid production [mmol gDW^-1 h^-1]: 0.7199999999999999\n",
      "Theoretical max. yield [mmol-dhart_acid / mmol-maltotriose]: 0.7199999999999999\n"
     ]
    }
   ],
   "source": [
    "# Claculate the max. theoretical yield for production on maltotriose\n",
    "with iY0844_model_maltotriose:\n",
    "    iY0844_model_maltotriose.objective = iY0844_model_maltotriose.reactions.ALDH1_CYP71AV1\n",
    "    DHAA_production_2 = iY0844_model_maltotriose.optimize().objective_value\n",
    "    max_yield_maltotriose = DHAA_production_2 / (-1*iY0844_model_maltotriose.reactions.EX_malttr_e.flux)\n",
    "    print(\"Max. dihydroartemisinic acid production [mmol gDW^-1 h^-1]:\", DHAA_production_2)\n",
    "    print(\"Theoretical max. yield [mmol-dhart_acid / mmol-maltotriose]:\", max_yield_maltotriose) # DHAA_production_1 / (-1*iY0844_model_maltotriose.reactions.EX_malttr_e.flux))"
   ]
  },
  {
   "cell_type": "code",
   "execution_count": 16,
   "metadata": {},
   "outputs": [
    {
     "name": "stdout",
     "output_type": "stream",
     "text": [
      "EX_malt_e\n"
     ]
    }
   ],
   "source": [
    "# Second we investigate maltose - we look for the ID of maltose:\n",
    "for reaction in iY0844_model.reactions.query('Maltose exchange', 'name'):\n",
    "    print(reaction.id)"
   ]
  },
  {
   "cell_type": "code",
   "execution_count": 17,
   "metadata": {},
   "outputs": [
    {
     "data": {
      "text/plain": [
       "{'EX_fe3_e': 999999.0,\n",
       " 'EX_ca2_e': 999999.0,\n",
       " 'EX_so4_e': 5.0,\n",
       " 'EX_co2_e': 999999.0,\n",
       " 'EX_h2o_e': 999999.0,\n",
       " 'EX_h_e': 999999.0,\n",
       " 'EX_k_e': 999999.0,\n",
       " 'EX_malt_e': 1.0,\n",
       " 'EX_mg2_e': 999999.0,\n",
       " 'EX_na1_e': 999999.0,\n",
       " 'EX_nh4_e': 5.0,\n",
       " 'EX_o2_e': 999999.0,\n",
       " 'EX_pi_e': 5.0}"
      ]
     },
     "execution_count": 17,
     "metadata": {},
     "output_type": "execute_result"
    }
   ],
   "source": [
    "# Changing the carbon source to maltose in our medium:\n",
    "medium=iY0844_model.medium\n",
    "medium['EX_glc__D_e'] = 0\n",
    "medium[\"EX_malttr_e\"]= 0\n",
    "medium[\"EX_malt_e\"]= 1 # question to igor why 1 \n",
    "iY0844_model.medium = medium\n",
    "write_sbml_model(iY0844_model, \"data/iYO844_modified_maltose.xml\")\n",
    "iY0844_model_maltose = read_sbml_model('data/iYO844_modified_maltose.xml')\n",
    "iY0844_model_maltose.medium # see that glucose has been deleted and maltose added"
   ]
  },
  {
   "cell_type": "code",
   "execution_count": 18,
   "metadata": {},
   "outputs": [
    {
     "name": "stdout",
     "output_type": "stream",
     "text": [
      "Max. dihydroartemisinic acid production [mmol gDW^-1 h^-1]: 0.44571428571428545\n",
      "Theoretical max. yield [mmol-dhart_acid / mmol-maltose]: 0.44571428571428545\n"
     ]
    }
   ],
   "source": [
    "# Claculate the max. theoretical yield for production on maltose\n",
    "with iY0844_model_maltose:\n",
    "    iY0844_model_maltose.objective = iY0844_model_maltose.reactions.ALDH1_CYP71AV1\n",
    "    DHAA_production_3 = iY0844_model_maltose.optimize().objective_value\n",
    "    max_yield_maltose = DHAA_production_3 / (-1*iY0844_model_maltose.reactions.EX_malt_e.flux)\n",
    "    print(\"Max. dihydroartemisinic acid production [mmol gDW^-1 h^-1]:\", DHAA_production_3)\n",
    "    print(\"Theoretical max. yield [mmol-dhart_acid / mmol-maltose]:\", max_yield_maltose) # DHAA_production_2 / (-1*iY0844_model_maltose.reactions.EX_malt_e.flux))"
   ]
  },
  {
   "cell_type": "code",
   "execution_count": 19,
   "metadata": {},
   "outputs": [
    {
     "name": "stdout",
     "output_type": "stream",
     "text": [
      "EX_sucr_e\n"
     ]
    }
   ],
   "source": [
    "# Lastly, we investigate sucrose - we look for the ID of sucrose:\n",
    "for reaction in iY0844_model.reactions.query('Sucrose exchange', 'name'):\n",
    "    print(reaction.id)"
   ]
  },
  {
   "cell_type": "code",
   "execution_count": 21,
   "metadata": {},
   "outputs": [
    {
     "data": {
      "text/plain": [
       "{'EX_fe3_e': 999999.0,\n",
       " 'EX_ca2_e': 999999.0,\n",
       " 'EX_so4_e': 5.0,\n",
       " 'EX_co2_e': 999999.0,\n",
       " 'EX_sucr_e': 1.0,\n",
       " 'EX_h2o_e': 999999.0,\n",
       " 'EX_h_e': 999999.0,\n",
       " 'EX_k_e': 999999.0,\n",
       " 'EX_mg2_e': 999999.0,\n",
       " 'EX_na1_e': 999999.0,\n",
       " 'EX_nh4_e': 5.0,\n",
       " 'EX_o2_e': 999999.0,\n",
       " 'EX_pi_e': 5.0}"
      ]
     },
     "execution_count": 21,
     "metadata": {},
     "output_type": "execute_result"
    }
   ],
   "source": [
    "# Changing the carbon source to sucrose in our medium:\n",
    "medium=iY0844_model.medium\n",
    "medium['EX_glc__D_e'] = 0\n",
    "medium[\"EX_malttr_e\"]= 0 \n",
    "medium[\"EX_malt_e\"]= 0\n",
    "medium[\"EX_sucr_e\"]= 1 # question to igor why 1 \n",
    "iY0844_model.medium = medium\n",
    "write_sbml_model(iY0844_model, \"data/iYO844_modified_sucrose.xml\")\n",
    "iY0844_model_sucrose = read_sbml_model('data/iYO844_modified_sucrose.xml')\n",
    "iY0844_model_sucrose.medium # see that glucose has been deleted and sucrose added"
   ]
  },
  {
   "cell_type": "code",
   "execution_count": 22,
   "metadata": {},
   "outputs": [
    {
     "name": "stdout",
     "output_type": "stream",
     "text": [
      "Max. dihydroartemisinic acid production [mmol gDW^-1 h^-1]: 0.44571428571428545\n",
      "Theoretical max. yield [mmol-dhart_acid / mmol-sucrose]: 0.44571428571428545\n"
     ]
    }
   ],
   "source": [
    "# Claculate the max. theoretical yield for production on sucrose\n",
    "with iY0844_model_sucrose:\n",
    "    iY0844_model_sucrose.objective = iY0844_model_sucrose.reactions.ALDH1_CYP71AV1\n",
    "    DHAA_production_4 = iY0844_model_sucrose.optimize().objective_value\n",
    "    max_yield_sucrose = DHAA_production_4 / (-1*iY0844_model_sucrose.reactions.EX_sucr_e.flux)\n",
    "    print(\"Max. dihydroartemisinic acid production [mmol gDW^-1 h^-1]:\", DHAA_production_4)\n",
    "    print(\"Theoretical max. yield [mmol-dhart_acid / mmol-sucrose]:\", max_yield_sucrose) # DHAA_production_3 / (-1*iY0844_model_sucrose.reactions.EX_sucr_e.flux))"
   ]
  },
  {
   "cell_type": "code",
   "execution_count": 23,
   "metadata": {},
   "outputs": [
    {
     "data": {
      "image/png": "[encoded data removed]",
      "text/plain": [
       "<Figure size 640x480 with 1 Axes>"
      ]
     },
     "metadata": {},
     "output_type": "display_data"
    }
   ],
   "source": [
    "# Generate bar plot to visualize\n",
    "\n",
    "# Write values\n",
    "yield_glucose = max_yield_glucose\n",
    "yield_maltotriose = max_yield_maltotriose\n",
    "yield_maltose = max_yield_maltose\n",
    "yield_sucrose = max_yield_sucrose\n",
    "\n",
    "# Carbon sources\n",
    "carbon_sources = ['Glucose', 'Maltotriose', 'Maltose', 'Sucrose']\n",
    "\n",
    "# Maximum yields\n",
    "max_yields = [yield_glucose, yield_maltotriose, yield_maltose, yield_sucrose]\n",
    "\n",
    "# Plotting\n",
    "plt.bar(carbon_sources, max_yields, color=['yellow', 'blue', 'green', 'red'])\n",
    "plt.xlabel('Carbon Sources')\n",
    "plt.ylabel('Maximum Yield [mmol / mmol]')\n",
    "plt.title('Maximum Yield from Different Carbon Sources')\n",
    "plt.show()\n"
   ]
  },
  {
   "cell_type": "markdown",
   "metadata": {},
   "source": [
    "CONCLUSION\n",
    "\n",
    "From this analysis we can conclude, that all three alternative carbo sources result in a higher maximum theoretical yield of dihydroartemisinic acid than glucose. Maltotriose result in the highest maximum yield of approx. 0.72 mmol dihydroartemisinic acid pr. mmol maltotriose, whereas maltose and sucrose result in the same maximum theoretical yield of 0.45 mmol dihydroartemisinic acid pr. mmol maltose and sucrose. However, as maltose and sucrose are more redialy available than maltotriose, we will continue the analysis with......"
   ]
  }
 ],
 "metadata": {
  "kernelspec": {
   "display_name": "cobra_escher",
   "language": "python",
   "name": "python3"
  },
  "language_info": {
   "codemirror_mode": {
    "name": "ipython",
    "version": 3
   },
   "file_extension": ".py",
   "mimetype": "text/x-python",
   "name": "python",
   "nbconvert_exporter": "python",
   "pygments_lexer": "ipython3",
   "version": "3.7.16"
  }
 },
 "nbformat": 4,
 "nbformat_minor": 2
}
