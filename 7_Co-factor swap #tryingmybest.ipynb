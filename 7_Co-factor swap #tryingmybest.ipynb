{
 "cells": [
  {
   "cell_type": "markdown",
   "id": "f27ed087",
   "metadata": {},
   "source": [
    "Design for Co-Factor Swapping.\n",
    "Simulating co-factor swapping. The objective is to investigate if productivity can be improved by swapping NADPH for NADH as a cofactor in the reactions requiring CYP71AV1. The co-factor swap analysis will determine if an increase in the available NADPH (caused by altering the cofactor specificity of CYP71AV1 to favor NADH over NADPH) will lead to increased production of dihydroartemisinic acid, our target compound. Co-factor swapping "
   ]
  },
  {
   "cell_type": "markdown",
   "id": "f256ad65",
   "metadata": {},
   "source": [
    "#TEXT FROM EXAMPLE: The conversion of tryptamine to 4-hydroxy-tryptamine uses NADPH as a cofactor, and therefore a cofactor swap analysis was performed in order to determine whether increasing the pool of available NADPH by swapping the cofactor specificty of reactions in the model from NADPH to NADH could increase psilocybin production. This hypothesis is supported by research by King et al., which showed that swapping the cofactor specificity from NAD(H) to NADP(H) in oxidoreductase enzymes involved in central carbon metabolism can improve the theoretical yields of several amino acids including L-aspartate, L-lysine, and L-isoleucine as well as some non-native products in S. cerevisiae (King, Feist, 2014). CofactorSwapOptimization utilizes an algorithm that identifies which reactions in the model can undergo a swap in cofactor specificity in order to increase the availability of a cofactor that is rate-limiting for the production of a target metabolite, and increase its theoretical yield."
   ]
  },
  {
   "cell_type": "code",
   "execution_count": null,
   "metadata": {},
   "outputs": [],
   "source": [
    "# No necessary to run as we have saved iYO844_modified.xml already\n",
    "# %run 1_incorporation_of_heterologous_genes.ipynb"
   ]
  },
  {
   "cell_type": "code",
   "execution_count": 1,
   "id": "fd9fb2ca",
   "metadata": {},
   "outputs": [],
   "source": [
    "# Initialising all required packages\n",
    "from cobra.io import read_sbml_model, write_sbml_model #importing functions needed\n",
    "from cobra import Reaction, Metabolite\n",
    "from cameo.strain_design.heuristic.evolutionary_based import CofactorSwapOptimization\n",
    "from cameo.strain_design.heuristic.evolutionary.objective_functions import product_yield\n",
    "from cameo.strain_design.heuristic.evolutionary.optimization import CofactorSwapOptimization, NADH_NADPH"
   ]
  },
  {
   "cell_type": "code",
   "execution_count": 2,
   "metadata": {},
   "outputs": [],
   "source": [
    "# Loading the heterologous GEM built from the original model\n",
    "model = read_sbml_model('data/iYO844_modified.xml')"
   ]
  },
  {
   "cell_type": "code",
   "execution_count": 3,
   "id": "074bb581",
   "metadata": {},
   "outputs": [],
   "source": [
    "model.solver = \"glpk\" #specifying the solver for optimizing to be used as GLPK (GNU Linear Programming Kit)\n",
    "biomass = model.reactions.BIOMASS_BS_10 #specifying our objective: optimizing biomass formation\n",
    "biomass.lower_bound = 0.1 \n",
    "demand = model.reactions.ALDH1_CYP71AV1 #i tvivl om, hvad der skal stå her, før stod der demand = model.reactions.DM_psi\n",
    "#We need to define the demand reaction for the \"target\" (Dihydroartemisinic acid) in \"01-incorporation.....ipynb\"\n",
    "model.objective = demand\n",
    "prod_yield = product_yield(demand, model.reactions.BIOMASS_BS_10) #i tvivl om den her boundary\n",
    "#CofactorSwapOptimization? #Will this just tell us what the function does?"
   ]
  },
  {
   "cell_type": "code",
   "execution_count": 12,
   "id": "0ad4ecf8",
   "metadata": {},
   "outputs": [
    {
     "name": "stdout",
     "output_type": "stream",
     "text": [
      "Starting optimization at Tue, 14 Nov 2023 15:59:45\n"
     ]
    },
    {
     "data": {
      "application/vnd.jupyter.widget-view+json": {
       "model_id": "75b9074d7f944d6bbf18d545b144685e",
       "version_major": 2,
       "version_minor": 0
      },
      "text/plain": [
       "HBox()"
      ]
     },
     "metadata": {},
     "output_type": "display_data"
    },
    {
     "name": "stdout",
     "output_type": "stream",
     "text": [
      "Finished after 00:00:25\n"
     ]
    }
   ],
   "source": [
    "# Swapping NADPH to NADH                                                                               \n",
    "swap_opt = CofactorSwapOptimization(model=model, objective_function = prod_yield, plot=True, cofactor_id_swaps=(['nad_c', 'nadh_c'], ['nadp_c', 'nadph_c']))\n",
    "#we may not need to define the cofactor_id_swaps, as the ids in our model are the same as the default (but will it know what to change???)\n",
    "#%%%time\n",
    "result = swap_opt.run(max_size=5) #can be changed, but I'M NOT QUITE SURE WHAT EXACTLY CHANGES (looks like time in min)"
   ]
  },
  {
   "cell_type": "code",
   "execution_count": 13,
   "id": "b2c4f86c",
   "metadata": {},
   "outputs": [
    {
     "data": {
      "text/html": [
       "\n",
       "        <h4>Result:</h4>\n",
       "        <ul>\n",
       "            <li>model: iYO844</li>\n",
       "            <li>heuristic: GA</li>\n",
       "            <li>objective function: $$yield = \\frac{ALDH1\\_CYP71AV1}{BIOMASS\\_BS\\_10}$$</li>\n",
       "            <li>simulation method: pfba</li>\n",
       "            <li>target type: cofactor-swap</li>\n",
       "        <ul>\n",
       "        <div>\n",
       "<style scoped>\n",
       "    .dataframe tbody tr th:only-of-type {\n",
       "        vertical-align: middle;\n",
       "    }\n",
       "\n",
       "    .dataframe tbody tr th {\n",
       "        vertical-align: top;\n",
       "    }\n",
       "\n",
       "    .dataframe thead th {\n",
       "        text-align: right;\n",
       "    }\n",
       "</style>\n",
       "<table border=\"1\" class=\"dataframe\">\n",
       "  <thead>\n",
       "    <tr style=\"text-align: right;\">\n",
       "      <th></th>\n",
       "      <th>index</th>\n",
       "      <th>targets</th>\n",
       "      <th>fitness</th>\n",
       "    </tr>\n",
       "  </thead>\n",
       "  <tbody>\n",
       "  </tbody>\n",
       "</table>\n",
       "</div>"
      ],
      "text/plain": [
       "<cameo.strain_design.heuristic.evolutionary.optimization.TargetOptimizationResult at 0x1f143b742c8>"
      ]
     },
     "execution_count": 13,
     "metadata": {},
     "output_type": "execute_result"
    }
   ],
   "source": [
    "#print(f'The results of co-factor swapping are: 'result)\n",
    "result"
   ]
  },
  {
   "cell_type": "code",
   "execution_count": null,
   "id": "ef466b92",
   "metadata": {},
   "outputs": [],
   "source": [
    "#testing the reactions appearing in the result by using \"model.reactions.r252\" "
   ]
  },
  {
   "cell_type": "markdown",
   "id": "825eed60",
   "metadata": {},
   "source": [
    "Old attempt, kept just in case"
   ]
  },
  {
   "cell_type": "code",
   "execution_count": null,
   "id": "d596ffc7",
   "metadata": {},
   "outputs": [],
   "source": [
    "#Uploading cameo package\n",
    "#from cameo.strain_design.heuristic.evolutionary_based import CofactorSwapOptimization"
   ]
  },
  {
   "cell_type": "markdown",
   "id": "54b7c3cf",
   "metadata": {},
   "source": [
    "Model setup"
   ]
  },
  {
   "cell_type": "code",
   "execution_count": null,
   "id": "2c700a47",
   "metadata": {},
   "outputs": [],
   "source": [
    "#from cobra.io import read_sbml_model, write_sbml_model #importing functions needed\n",
    "#from cobra import Reaction, Metabolite"
   ]
  },
  {
   "cell_type": "code",
   "execution_count": null,
   "id": "f13e7503",
   "metadata": {},
   "outputs": [],
   "source": [
    "# Loading the heterologous GEM built from the original model\n",
    "#model = read_sbml_model('data/iYO844_modified.xml')"
   ]
  },
  {
   "cell_type": "code",
   "execution_count": null,
   "id": "e6aa70cf",
   "metadata": {},
   "outputs": [],
   "source": [
    "# Defining the reaction producing our final product as the objective.\n",
    "#objective_reaction = model.reactions.ALDH1_CYP71AV1\n",
    "#model.objective = objective_reaction\n",
    "#print(f'Objective defined to be maximizing {objective_reaction.id}: {objective_reaction.reaction}')\n",
    "\n",
    "# Investigating the base line max production and growth rate\n",
    "#with model:\n",
    "#    base_max_growth = model.slim_optimize()\n",
    "#    print(base_max_growth)\n",
    "#    base_max_production = model.slim_optimize()\n",
    "#    print(base_max_production)"
   ]
  },
  {
   "cell_type": "code",
   "execution_count": null,
   "id": "83e4ab8c",
   "metadata": {},
   "outputs": [],
   "source": [
    "#model.solver = \"glpk\" #specifying the solver for optimizing to be used as GLPK (GNU Linear Programming Kit)\n",
    "#biomass = model.reactions.BIOMASS_BS_10 #specifying our objective: optimizing biomass formation\n",
    "#biomass.lower_bound = 0.1 \n",
    "#target = model.metabolites.get_by_id(\"dihydroartaci_c\") #final product\n",
    "#demand = model.reactions.get_by_id(\"DM_dihydroartaci_c\") #this might not yield anything...\n",
    "#model.objective = demand\n",
    "#from cameo.strain_design.heuristic.evolutionary.objective_functions import product_yield\n",
    "#prod_yield = product_yield(model.reactions.ALDH1_CYP71AV1, model.reactions.r_1714) #OBS I DON'T KNOW WHAT THIS LAST REACTION SHOULD BE (r_1714??)\n",
    "#print(prod_yield)"
   ]
  },
  {
   "cell_type": "markdown",
   "id": "9b2d25a2",
   "metadata": {},
   "source": [
    "#By default this method looks to replace NADH and NADPH. You can set different co-factor pairs via the parameter cofactor_id_swaps=([from], [to]) which requires the metabolite identifiers in the model of the pairs that you want to swap. Please look at the documentation for more info. #CHANGE THIS TEXT, IT IS COPY-PASTE"
   ]
  },
  {
   "cell_type": "code",
   "execution_count": null,
   "id": "c1c21f7e",
   "metadata": {},
   "outputs": [],
   "source": [
    "# Swapping NADPH to NADH                                                                               \n",
    "#swap_opt = CofactorSwapOptimization(model=model, objective_function = prod_yield, plot=True, cofactor_id_swaps=(['nad_c', 'nadh_c'], ['nadp_c', 'nadph_c']))\n",
    "#%%time\n",
    "#result = swap_opt.run(max_size=5) #can be changed, but I'M NOT QUITE SURE WHAT EXACTLY CHANGES (looks like time in min)"
   ]
  },
  {
   "cell_type": "code",
   "execution_count": null,
   "id": "a0c36222",
   "metadata": {},
   "outputs": [],
   "source": [
    "#print(f'The results of co-factor swapping are: '{result})"
   ]
  },
  {
   "cell_type": "markdown",
   "id": "db781fc6",
   "metadata": {},
   "source": [
    "We can now try to remake all reactions in the implemented pathway using NADPH, changing them to instead require NADH. \n",
    "This means we must change reactions 3,4,5,6...\n",
    "\n",
    "#We can now try to remake the r_0659 reaction to increase the fluxes."
   ]
  },
  {
   "cell_type": "markdown",
   "id": "63c75714",
   "metadata": {},
   "source": [
    "Starting over....\n",
    "\n"
   ]
  }
 ],
 "metadata": {
  "kernelspec": {
   "display_name": "Python 3 (ipykernel)",
   "language": "python",
   "name": "python3"
  },
  "language_info": {
   "codemirror_mode": {
    "name": "ipython",
    "version": 3
   },
   "file_extension": ".py",
   "mimetype": "text/x-python",
   "name": "python",
   "nbconvert_exporter": "python",
   "pygments_lexer": "ipython3",
   "version": "3.7.16"
  }
 },
 "nbformat": 4,
 "nbformat_minor": 5
}
